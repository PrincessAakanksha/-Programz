{
  "nbformat": 4,
  "nbformat_minor": 0,
  "metadata": {
    "colab": {
      "provenance": [],
      "include_colab_link": true
    },
    "kernelspec": {
      "name": "python3",
      "display_name": "Python 3"
    },
    "language_info": {
      "name": "python"
    }
  },
  "cells": [
    {
      "cell_type": "markdown",
      "metadata": {
        "id": "view-in-github",
        "colab_type": "text"
      },
      "source": [
        "<a href=\"https://colab.research.google.com/github/PrincessAakanksha/-Programz/blob/main/PYTHON_L1.ipynb\" target=\"_parent\"><img src=\"https://colab.research.google.com/assets/colab-badge.svg\" alt=\"Open In Colab\"/></a>"
      ]
    },
    {
      "cell_type": "code",
      "execution_count": null,
      "metadata": {
        "colab": {
          "base_uri": "https://localhost:8080/"
        },
        "id": "OrxQlQCClVp_",
        "outputId": "595d688a-45ba-4450-a33e-f427f34d0425"
      },
      "outputs": [
        {
          "output_type": "stream",
          "name": "stdout",
          "text": [
            "the quick brown fox\n"
          ]
        }
      ],
      "source": [
        "print(\"the {2} {1} {0}\".format('fox', 'brown', 'quick'))"
      ]
    },
    {
      "cell_type": "code",
      "source": [
        "print(\"the {q} {b} {f}.\".format(f='fox', b='brown', q='quick'))"
      ],
      "metadata": {
        "colab": {
          "base_uri": "https://localhost:8080/"
        },
        "id": "26wTBcr9z4FF",
        "outputId": "a75730f6-f2b3-4a50-f18f-5ec61c2f835d"
      },
      "execution_count": null,
      "outputs": [
        {
          "output_type": "stream",
          "name": "stdout",
          "text": [
            "the quick brown fox.\n"
          ]
        }
      ]
    },
    {
      "cell_type": "code",
      "source": [
        "day = 'hot'"
      ],
      "metadata": {
        "id": "f2r9Hc5F3DtT"
      },
      "execution_count": null,
      "outputs": []
    },
    {
      "cell_type": "code",
      "source": [
        "if day == 'cool':\n",
        "  print('take some tea')\n",
        "elif day=='warm':\n",
        "  print('take some Ice-tea')\n",
        "elif day== 'hot':\n",
        "  print('Ice-cream is the best')\n",
        "else:\n",
        "  print('Maggi is the best option')"
      ],
      "metadata": {
        "colab": {
          "base_uri": "https://localhost:8080/"
        },
        "id": "gJ-8oBdMXvYt",
        "outputId": "2e68b10f-6b62-43b7-e538-7e553a519dd9"
      },
      "execution_count": null,
      "outputs": [
        {
          "output_type": "stream",
          "name": "stdout",
          "text": [
            "Ice-cream runs the best\n"
          ]
        }
      ]
    },
    {
      "cell_type": "code",
      "source": [
        "name=='Sammy'\n",
        "if name=='Franky':\n",
        "  print('hello Franky')\n",
        "elif name=='Jambu':\n",
        "  print('hello Jambu')\n",
        "else:\n",
        "  print('I dont know you')"
      ],
      "metadata": {
        "colab": {
          "base_uri": "https://localhost:8080/",
          "height": 250
        },
        "id": "0J3YXFpz7jAs",
        "outputId": "9fd34c4e-7225-4f95-c864-231f0661bb35"
      },
      "execution_count": null,
      "outputs": [
        {
          "output_type": "error",
          "ename": "NameError",
          "evalue": "ignored",
          "traceback": [
            "\u001b[0;31m---------------------------------------------------------------------------\u001b[0m",
            "\u001b[0;31mNameError\u001b[0m                                 Traceback (most recent call last)",
            "\u001b[0;32m<ipython-input-16-29b330846474>\u001b[0m in \u001b[0;36m<module>\u001b[0;34m()\u001b[0m\n\u001b[0;32m----> 1\u001b[0;31m \u001b[0mname\u001b[0m\u001b[0;34m==\u001b[0m\u001b[0;34m'Sammy'\u001b[0m\u001b[0;34m\u001b[0m\u001b[0;34m\u001b[0m\u001b[0m\n\u001b[0m\u001b[1;32m      2\u001b[0m \u001b[0;32mif\u001b[0m \u001b[0mname\u001b[0m\u001b[0;34m==\u001b[0m\u001b[0;34m'Franky'\u001b[0m\u001b[0;34m:\u001b[0m\u001b[0;34m\u001b[0m\u001b[0;34m\u001b[0m\u001b[0m\n\u001b[1;32m      3\u001b[0m   \u001b[0mprint\u001b[0m\u001b[0;34m(\u001b[0m\u001b[0;34m'hello Franky'\u001b[0m\u001b[0;34m)\u001b[0m\u001b[0;34m\u001b[0m\u001b[0;34m\u001b[0m\u001b[0m\n\u001b[1;32m      4\u001b[0m \u001b[0;32melif\u001b[0m \u001b[0mname\u001b[0m\u001b[0;34m==\u001b[0m\u001b[0;34m'Jambu'\u001b[0m\u001b[0;34m:\u001b[0m\u001b[0;34m\u001b[0m\u001b[0;34m\u001b[0m\u001b[0m\n\u001b[1;32m      5\u001b[0m   \u001b[0mprint\u001b[0m\u001b[0;34m(\u001b[0m\u001b[0;34m'hello Jambu'\u001b[0m\u001b[0;34m)\u001b[0m\u001b[0;34m\u001b[0m\u001b[0;34m\u001b[0m\u001b[0m\n",
            "\u001b[0;31mNameError\u001b[0m: name 'name' is not defined"
          ]
        }
      ]
    },
    {
      "cell_type": "code",
      "source": [
        "mylist=[1,2,3,4,5]\n",
        "for num in mylist:\n",
        "  print (num)"
      ],
      "metadata": {
        "colab": {
          "base_uri": "https://localhost:8080/"
        },
        "id": "bD_D79jh94wH",
        "outputId": "1a3cf925-6c8b-4d4c-f019-e18813b7e8bf"
      },
      "execution_count": null,
      "outputs": [
        {
          "output_type": "stream",
          "name": "stdout",
          "text": [
            "1\n",
            "2\n",
            "3\n",
            "4\n",
            "5\n"
          ]
        }
      ]
    },
    {
      "cell_type": "code",
      "source": [
        "mylist=[1,2,3,4,5,6]\n",
        "for hello in mylist:\n",
        "  print('hola')"
      ],
      "metadata": {
        "colab": {
          "base_uri": "https://localhost:8080/"
        },
        "id": "3M4V6xRzfQBi",
        "outputId": "0153808b-fc94-41e2-bb07-e0de17681552"
      },
      "execution_count": null,
      "outputs": [
        {
          "output_type": "stream",
          "name": "stdout",
          "text": [
            "hola\n",
            "hola\n",
            "hola\n",
            "hola\n",
            "hola\n",
            "hola\n"
          ]
        }
      ]
    },
    {
      "cell_type": "code",
      "source": [
        "mylist=[1,2,3,4,6,7,9,12]\n",
        "for num in mylist:\n",
        "  if num % 2 == 0:\n",
        "    print (num)"
      ],
      "metadata": {
        "colab": {
          "base_uri": "https://localhost:8080/"
        },
        "id": "tm-CSo0_f6_1",
        "outputId": "d4080321-1f11-4b78-eb90-11eb44818de6"
      },
      "execution_count": null,
      "outputs": [
        {
          "output_type": "stream",
          "name": "stdout",
          "text": [
            "2\n",
            "4\n",
            "6\n",
            "12\n"
          ]
        }
      ]
    },
    {
      "cell_type": "code",
      "source": [
        "mylist=[1,2,3,4,5,6,7,8,9]\n",
        "listsum=0\n",
        "for num in mylist:\n",
        "  listsum=listsum+num\n",
        "print(listsum)"
      ],
      "metadata": {
        "colab": {
          "base_uri": "https://localhost:8080/"
        },
        "id": "uX6cXc1VgALc",
        "outputId": "e06db6ff-9e11-4be2-87f6-3cc5768b3480"
      },
      "execution_count": null,
      "outputs": [
        {
          "output_type": "stream",
          "name": "stdout",
          "text": [
            "45\n"
          ]
        }
      ]
    },
    {
      "cell_type": "code",
      "source": [
        "mystring='hello world'\n",
        "for tinde in mystring:\n",
        "  print(tinde)"
      ],
      "metadata": {
        "colab": {
          "base_uri": "https://localhost:8080/"
        },
        "id": "yQ6nh_VYirdk",
        "outputId": "155402d5-9956-430a-ba80-ade736899b6c"
      },
      "execution_count": null,
      "outputs": [
        {
          "output_type": "stream",
          "name": "stdout",
          "text": [
            "h\n",
            "e\n",
            "l\n",
            "l\n",
            "o\n",
            " \n",
            "w\n",
            "o\n",
            "r\n",
            "l\n",
            "d\n"
          ]
        }
      ]
    },
    {
      "cell_type": "code",
      "source": [
        "for tinde in 'hello world':\n",
        "  print(tinde)"
      ],
      "metadata": {
        "colab": {
          "base_uri": "https://localhost:8080/"
        },
        "id": "Jm3du90qm88s",
        "outputId": "5eefb2a3-a1fe-49a1-b093-2b489e66d7e3"
      },
      "execution_count": null,
      "outputs": [
        {
          "output_type": "stream",
          "name": "stdout",
          "text": [
            "h\n",
            "e\n",
            "l\n",
            "l\n",
            "o\n",
            " \n",
            "w\n",
            "o\n",
            "r\n",
            "l\n",
            "d\n"
          ]
        }
      ]
    },
    {
      "cell_type": "code",
      "source": [
        "mylist=[(1,2),(3,4),(4,5),(5,6)]\n",
        "for items in mylist:\n",
        "  print(items)"
      ],
      "metadata": {
        "colab": {
          "base_uri": "https://localhost:8080/"
        },
        "id": "spHlioFMnET3",
        "outputId": "74f4e257-5d93-4386-e150-bf88ec412abe"
      },
      "execution_count": null,
      "outputs": [
        {
          "output_type": "stream",
          "name": "stdout",
          "text": [
            "(1, 2)\n",
            "(3, 4)\n",
            "(4, 5)\n",
            "(5, 6)\n"
          ]
        }
      ]
    },
    {
      "cell_type": "code",
      "source": [
        "#Tupple Unpacking\n",
        "\n",
        "mylist=[(1,2),(3,4),(4,5),(5,6)]\n",
        "for (a,b) in mylist:\n",
        "  print(a)\n",
        "  print(b)"
      ],
      "metadata": {
        "colab": {
          "base_uri": "https://localhost:8080/"
        },
        "id": "8deaKzO3I6MM",
        "outputId": "c43c7811-6fc4-4a03-f867-3a3e7c751195"
      },
      "execution_count": null,
      "outputs": [
        {
          "output_type": "stream",
          "name": "stdout",
          "text": [
            "1\n",
            "2\n",
            "3\n",
            "4\n",
            "4\n",
            "5\n",
            "5\n",
            "6\n"
          ]
        }
      ]
    },
    {
      "cell_type": "code",
      "source": [
        "#WHILE LOOP\n",
        "\n",
        "x=0\n",
        "while x<5:\n",
        "  x+=1\n",
        "  print('value of x is', x)"
      ],
      "metadata": {
        "colab": {
          "base_uri": "https://localhost:8080/"
        },
        "id": "qaxHLDCcEy20",
        "outputId": "74dede61-05aa-45e9-b1a7-565fad89e5cb"
      },
      "execution_count": null,
      "outputs": [
        {
          "output_type": "stream",
          "name": "stdout",
          "text": [
            "value of x is 1\n",
            "value of x is 2\n",
            "value of x is 3\n",
            "value of x is 4\n",
            "value of x is 5\n"
          ]
        }
      ]
    },
    {
      "cell_type": "code",
      "source": [
        "myname= 'aaku'\n",
        "for letter in myname:\n",
        "  print(letter)"
      ],
      "metadata": {
        "colab": {
          "base_uri": "https://localhost:8080/"
        },
        "id": "Cm49LewTFerC",
        "outputId": "0efe2bec-5db8-4f10-d1f0-3608ed27e488"
      },
      "execution_count": null,
      "outputs": [
        {
          "output_type": "stream",
          "name": "stdout",
          "text": [
            "a\n",
            "a\n",
            "k\n",
            "u\n"
          ]
        }
      ]
    },
    {
      "cell_type": "code",
      "source": [
        "myname= 'aaku'\n",
        "for letter in myname:\n",
        "  if letter =='k':\n",
        "    continue\n",
        "  print(letter)"
      ],
      "metadata": {
        "colab": {
          "base_uri": "https://localhost:8080/"
        },
        "id": "JDc3LtPMHZWO",
        "outputId": "38508d88-0f54-4b16-d6af-f2ee2f005a51"
      },
      "execution_count": null,
      "outputs": [
        {
          "output_type": "stream",
          "name": "stdout",
          "text": [
            "a\n",
            "a\n",
            "u\n"
          ]
        }
      ]
    },
    {
      "cell_type": "code",
      "source": [
        "myname= 'aaku'\n",
        "for letter in myname:\n",
        "  if letter =='k':\n",
        "    break\n",
        "  print(letter)"
      ],
      "metadata": {
        "colab": {
          "base_uri": "https://localhost:8080/"
        },
        "id": "oIz2aA5GHjuF",
        "outputId": "e2cfe07b-ed3c-4113-d42e-992ea4a2bcc9"
      },
      "execution_count": null,
      "outputs": [
        {
          "output_type": "stream",
          "name": "stdout",
          "text": [
            "a\n",
            "a\n"
          ]
        }
      ]
    },
    {
      "cell_type": "code",
      "source": [
        "# USEFULL OPERATORS"
      ],
      "metadata": {
        "id": "mRhQ72k8H6qL"
      },
      "execution_count": null,
      "outputs": []
    },
    {
      "cell_type": "code",
      "source": [
        "for num in range(0,15,2):\n",
        "  print (num)"
      ],
      "metadata": {
        "colab": {
          "base_uri": "https://localhost:8080/"
        },
        "id": "EJHNyu-DJGS7",
        "outputId": "a814124d-9845-4477-dca4-6d7c98890f4a"
      },
      "execution_count": null,
      "outputs": [
        {
          "output_type": "stream",
          "name": "stdout",
          "text": [
            "0\n",
            "2\n",
            "4\n",
            "6\n",
            "8\n",
            "10\n",
            "12\n",
            "14\n"
          ]
        }
      ]
    },
    {
      "cell_type": "code",
      "source": [
        "list (range(1,11,2))"
      ],
      "metadata": {
        "colab": {
          "base_uri": "https://localhost:8080/"
        },
        "id": "zVPl7fCpJawJ",
        "outputId": "5c7ae91e-7b0b-425a-b2a5-059222fe0736"
      },
      "execution_count": null,
      "outputs": [
        {
          "output_type": "execute_result",
          "data": {
            "text/plain": [
              "[1, 3, 5, 7, 9]"
            ]
          },
          "metadata": {},
          "execution_count": 12
        }
      ]
    },
    {
      "cell_type": "code",
      "source": [
        "mylist1 =('a','b','c')\n",
        "mylist2=(1,2,3)\n",
        "for item in zip(mylist1, mylist2):\n",
        "  print (item)"
      ],
      "metadata": {
        "colab": {
          "base_uri": "https://localhost:8080/"
        },
        "id": "0qfQVu_hKvNW",
        "outputId": "02319545-c462-40c3-84d7-47698c5237d9"
      },
      "execution_count": null,
      "outputs": [
        {
          "output_type": "stream",
          "name": "stdout",
          "text": [
            "('a', 1)\n",
            "('b', 2)\n",
            "('c', 3)\n"
          ]
        }
      ]
    },
    {
      "cell_type": "code",
      "source": [
        "'a' in 'abcdef'"
      ],
      "metadata": {
        "colab": {
          "base_uri": "https://localhost:8080/"
        },
        "id": "yfW5kSj6K27i",
        "outputId": "cce54172-542b-44ba-d209-ea60086795aa"
      },
      "execution_count": null,
      "outputs": [
        {
          "output_type": "execute_result",
          "data": {
            "text/plain": [
              "True"
            ]
          },
          "metadata": {},
          "execution_count": 16
        }
      ]
    },
    {
      "cell_type": "code",
      "source": [
        "input('enter a number here')"
      ],
      "metadata": {
        "id": "6i-yL2tbMDN8"
      },
      "execution_count": null,
      "outputs": []
    },
    {
      "cell_type": "code",
      "source": [
        "#APPEND"
      ],
      "metadata": {
        "id": "jksYBRn7NiMX"
      },
      "execution_count": null,
      "outputs": []
    },
    {
      "cell_type": "code",
      "source": [
        "mystring='hello'\n",
        "mylist= []\n",
        "for letters in mystring:\n",
        "  mylist.append(letters)\n",
        "print(mylist)"
      ],
      "metadata": {
        "id": "mpwYnvdyNLHb",
        "colab": {
          "base_uri": "https://localhost:8080/"
        },
        "outputId": "011aef63-3aae-4ebc-a6e0-a10ffaf2509f"
      },
      "execution_count": null,
      "outputs": [
        {
          "output_type": "stream",
          "name": "stdout",
          "text": [
            "['h', 'e', 'l', 'l', 'o']\n"
          ]
        }
      ]
    },
    {
      "cell_type": "code",
      "source": [
        "mystring = 'hello'\n",
        "mylist= [letters for letters in mystring]\n",
        "print(mylist)"
      ],
      "metadata": {
        "colab": {
          "base_uri": "https://localhost:8080/"
        },
        "id": "xa4dtvKrNgZV",
        "outputId": "c80d246c-9f52-4b67-b7f8-ee957d655b31"
      },
      "execution_count": null,
      "outputs": [
        {
          "output_type": "stream",
          "name": "stdout",
          "text": [
            "['h', 'e', 'l', 'l', 'o']\n"
          ]
        }
      ]
    },
    {
      "cell_type": "code",
      "source": [
        "mylist=[x for x in 'word']\n",
        "mylist"
      ],
      "metadata": {
        "colab": {
          "base_uri": "https://localhost:8080/"
        },
        "id": "d1hrYQI1wioX",
        "outputId": "84ebaabe-7db2-4bdd-dbd9-f4c55fcaf96a"
      },
      "execution_count": null,
      "outputs": [
        {
          "output_type": "execute_result",
          "data": {
            "text/plain": [
              "['w', 'o', 'r', 'd']"
            ]
          },
          "metadata": {},
          "execution_count": 5
        }
      ]
    },
    {
      "cell_type": "code",
      "source": [
        "mylist=[x for x in range(0,11)]\n",
        "mylist"
      ],
      "metadata": {
        "colab": {
          "base_uri": "https://localhost:8080/"
        },
        "id": "hIbxbQQdxg_J",
        "outputId": "b34e572d-9c09-44bc-a59f-9268bf079c2e"
      },
      "execution_count": null,
      "outputs": [
        {
          "output_type": "execute_result",
          "data": {
            "text/plain": [
              "[0, 1, 2, 3, 4, 5, 6, 7, 8, 9, 10]"
            ]
          },
          "metadata": {},
          "execution_count": 6
        }
      ]
    },
    {
      "cell_type": "code",
      "source": [
        "mylist=[x**2 for x in range(0,11)]\n",
        "mylist"
      ],
      "metadata": {
        "colab": {
          "base_uri": "https://localhost:8080/"
        },
        "id": "kLAi5AXqxt8J",
        "outputId": "b9bfbdb3-c654-4615-c42a-8fefb6b542c7"
      },
      "execution_count": null,
      "outputs": [
        {
          "output_type": "execute_result",
          "data": {
            "text/plain": [
              "[0, 1, 4, 9, 16, 25, 36, 49, 64, 81, 100]"
            ]
          },
          "metadata": {},
          "execution_count": 7
        }
      ]
    },
    {
      "cell_type": "code",
      "source": [
        "mylist=[x for x in range(0,11) if x%2==0]\n",
        "mylist"
      ],
      "metadata": {
        "colab": {
          "base_uri": "https://localhost:8080/"
        },
        "id": "y_8JRdq9xw7g",
        "outputId": "82c737e5-0a4f-4671-c509-98ee89893687"
      },
      "execution_count": null,
      "outputs": [
        {
          "output_type": "execute_result",
          "data": {
            "text/plain": [
              "[0, 2, 4, 6, 8, 10]"
            ]
          },
          "metadata": {},
          "execution_count": 8
        }
      ]
    },
    {
      "cell_type": "code",
      "source": [
        "mylist=[x%2==0 for x in range(0,11)]\n",
        "mylist"
      ],
      "metadata": {
        "colab": {
          "base_uri": "https://localhost:8080/"
        },
        "id": "buU8g9T6yLtx",
        "outputId": "e6f5844d-eba4-48c1-c922-33c02d6336f9"
      },
      "execution_count": null,
      "outputs": [
        {
          "output_type": "execute_result",
          "data": {
            "text/plain": [
              "[True, False, True, False, True, False, True, False, True, False, True]"
            ]
          },
          "metadata": {},
          "execution_count": 9
        }
      ]
    },
    {
      "cell_type": "code",
      "source": [
        "mylist=[x**2 for x in range(0,11)if x%2==0]\n",
        "mylist"
      ],
      "metadata": {
        "colab": {
          "base_uri": "https://localhost:8080/"
        },
        "id": "g-ww-edCyS2q",
        "outputId": "2b2abb26-e3e9-476d-a659-c3aa00b232e2"
      },
      "execution_count": null,
      "outputs": [
        {
          "output_type": "execute_result",
          "data": {
            "text/plain": [
              "[0, 4, 16, 36, 64, 100]"
            ]
          },
          "metadata": {},
          "execution_count": 10
        }
      ]
    },
    {
      "cell_type": "code",
      "source": [
        "example =[1,2,3,4,5,6,7,8]\n",
        "from random import shuffle\n",
        "shuffle(example)\n",
        "example"
      ],
      "metadata": {
        "id": "CdNBO40oyeq4",
        "colab": {
          "base_uri": "https://localhost:8080/"
        },
        "outputId": "973722c2-feec-4344-f057-8e20ee90a7d0"
      },
      "execution_count": null,
      "outputs": [
        {
          "output_type": "execute_result",
          "data": {
            "text/plain": [
              "[8, 6, 2, 4, 7, 3, 5, 1]"
            ]
          },
          "metadata": {},
          "execution_count": 2
        }
      ]
    },
    {
      "cell_type": "code",
      "source": [
        "def shuffle_list(mylist):\n",
        "  shuffle(mylist)\n",
        "  return(mylist)\n",
        "result=shuffle_list(example)\n",
        "result"
      ],
      "metadata": {
        "colab": {
          "base_uri": "https://localhost:8080/"
        },
        "id": "McsU6VvcpaRU",
        "outputId": "b613a1b9-f68a-4271-ba48-a54ab7354a30"
      },
      "execution_count": null,
      "outputs": [
        {
          "output_type": "execute_result",
          "data": {
            "text/plain": [
              "[2, 5, 6, 3, 4, 1, 8, 7]"
            ]
          },
          "metadata": {},
          "execution_count": 3
        }
      ]
    },
    {
      "cell_type": "code",
      "source": [
        "mylist=['','O','']\n",
        "shuffle_list(mylist)\n",
        "def player_guess():\n",
        "  guess=''\n",
        "  while guess not in ['0','1','2']:\n",
        "    guess=input(\"pick up a number: 0,1,2 \")\n",
        "  return int(guess)"
      ],
      "metadata": {
        "id": "BgVb4K3ZrMF6"
      },
      "execution_count": null,
      "outputs": []
    },
    {
      "cell_type": "code",
      "source": [
        "player_guess()"
      ],
      "metadata": {
        "colab": {
          "base_uri": "https://localhost:8080/"
        },
        "id": "6sGyRphZinUf",
        "outputId": "b21e249e-6c8a-4e1c-8d55-7ea163019561"
      },
      "execution_count": null,
      "outputs": [
        {
          "name": "stdout",
          "output_type": "stream",
          "text": [
            "pick up a number: 0,1,2 2\n"
          ]
        },
        {
          "output_type": "execute_result",
          "data": {
            "text/plain": [
              "2"
            ]
          },
          "metadata": {},
          "execution_count": 5
        }
      ]
    },
    {
      "cell_type": "code",
      "source": [
        "myindex=player_guess()"
      ],
      "metadata": {
        "colab": {
          "base_uri": "https://localhost:8080/"
        },
        "id": "F9Ua0lFGjSmZ",
        "outputId": "5b5e08e4-7c5b-48b4-c6f6-02821bd9364d"
      },
      "execution_count": null,
      "outputs": [
        {
          "name": "stdout",
          "output_type": "stream",
          "text": [
            "pick up a number: 0,1,2 2\n"
          ]
        }
      ]
    },
    {
      "cell_type": "code",
      "source": [
        "myindex"
      ],
      "metadata": {
        "colab": {
          "base_uri": "https://localhost:8080/"
        },
        "id": "LPBKvJfxj_Yy",
        "outputId": "829c4912-05cb-4158-9506-e3dbcff1f370"
      },
      "execution_count": null,
      "outputs": [
        {
          "output_type": "execute_result",
          "data": {
            "text/plain": [
              "2"
            ]
          },
          "metadata": {},
          "execution_count": 7
        }
      ]
    },
    {
      "cell_type": "code",
      "source": [
        "def check_guess(mylist,guess):\n",
        "  if mylist[guess]=='O':\n",
        "    print(\"correct\")\n",
        "  else:\n",
        "    print (\"Wrong Answer!\")\n",
        "    print(mylist)"
      ],
      "metadata": {
        "id": "Fsx8D0FzkD2G"
      },
      "execution_count": null,
      "outputs": []
    },
    {
      "cell_type": "code",
      "source": [
        "#INITIAL LIST\n",
        "mylist=['','O','']\n",
        "#SHUFFLE LIST\n",
        "mixedup_list=shuffle_list(mylist)\n",
        "#USER GUESS\n",
        "guess=player_guess()\n",
        "#CHECK GUESS\n",
        "check_guess(mixedup_list,guess)\n"
      ],
      "metadata": {
        "colab": {
          "base_uri": "https://localhost:8080/"
        },
        "id": "eLLoGh8Dltl6",
        "outputId": "3ee74f06-ccde-4998-95fc-9bd3dfc6ee80"
      },
      "execution_count": null,
      "outputs": [
        {
          "output_type": "stream",
          "name": "stdout",
          "text": [
            "pick up a number: 0,1,2 2\n",
            "Wrong Answer!\n",
            "['O', '', '']\n"
          ]
        }
      ]
    },
    {
      "cell_type": "code",
      "source": [],
      "metadata": {
        "id": "loGBgXVm8ewK"
      },
      "execution_count": null,
      "outputs": []
    },
    {
      "cell_type": "code",
      "source": [],
      "metadata": {
        "id": "mP9DgJsLRczI"
      },
      "execution_count": null,
      "outputs": []
    },
    {
      "cell_type": "code",
      "source": [
        "def myfunc(name):\n",
        "    print('Hello {}'.format(name))"
      ],
      "metadata": {
        "id": "Am0rMsWHmamX"
      },
      "execution_count": null,
      "outputs": []
    },
    {
      "cell_type": "code",
      "source": [
        "myfunc('aaku')"
      ],
      "metadata": {
        "colab": {
          "base_uri": "https://localhost:8080/"
        },
        "id": "TauMgquyMSBI",
        "outputId": "16fb8472-0b63-4f27-d735-47cb7e9c4839"
      },
      "execution_count": null,
      "outputs": [
        {
          "output_type": "stream",
          "name": "stdout",
          "text": [
            "Hello aaku\n"
          ]
        }
      ]
    },
    {
      "cell_type": "code",
      "source": [
        "def myfunc(a):\n",
        "  if a==True:\n",
        "    return 'Hello'\n",
        "  else:\n",
        "    return 'Goodbye'\n"
      ],
      "metadata": {
        "id": "dOWGHu2-RhMw"
      },
      "execution_count": null,
      "outputs": []
    },
    {
      "cell_type": "code",
      "source": [
        "myfunc(False)"
      ],
      "metadata": {
        "colab": {
          "base_uri": "https://localhost:8080/",
          "height": 36
        },
        "id": "LYL5StjmR_EH",
        "outputId": "cd4b4116-dabf-426c-ed37-2e3308e4679a"
      },
      "execution_count": null,
      "outputs": [
        {
          "output_type": "execute_result",
          "data": {
            "text/plain": [
              "'Goodbye'"
            ],
            "application/vnd.google.colaboratory.intrinsic+json": {
              "type": "string"
            }
          },
          "metadata": {},
          "execution_count": 44
        }
      ]
    },
    {
      "cell_type": "code",
      "source": [
        "def myfunc(x,y,z):\n",
        "    if z==True:\n",
        "      return x\n",
        "    else:\n",
        "      return y"
      ],
      "metadata": {
        "id": "aBd5ZiXiTWps"
      },
      "execution_count": null,
      "outputs": []
    },
    {
      "cell_type": "code",
      "source": [
        "myfunc('x','y',False)"
      ],
      "metadata": {
        "colab": {
          "base_uri": "https://localhost:8080/",
          "height": 36
        },
        "id": "6gUEbLOKZak_",
        "outputId": "29e0640b-2d38-43ab-9c23-95664b40fba4"
      },
      "execution_count": null,
      "outputs": [
        {
          "output_type": "execute_result",
          "data": {
            "text/plain": [
              "'y'"
            ],
            "application/vnd.google.colaboratory.intrinsic+json": {
              "type": "string"
            }
          },
          "metadata": {},
          "execution_count": 59
        }
      ]
    },
    {
      "cell_type": "code",
      "source": [
        "def myfunc(str):\n",
        "    count = 0\n",
        "    returnstr = \"\"\n",
        "    for letter in str:\n",
        "        if count%2 == 0:\n",
        "            returnstr = returnstr + letter.upper()\n",
        "        else:\n",
        "            returnstr = returnstr + letter.lower()\n",
        "        count = count + 1\n",
        "    return returnstr"
      ],
      "metadata": {
        "id": "LdON0lQHReJk"
      },
      "execution_count": null,
      "outputs": []
    },
    {
      "cell_type": "code",
      "source": [
        "myfunc('i am writin all letters in CAPS')"
      ],
      "metadata": {
        "colab": {
          "base_uri": "https://localhost:8080/",
          "height": 36
        },
        "id": "-mJU5YE8RhSE",
        "outputId": "c70ceb4e-a90f-414e-ddb6-b076a34ba6f4"
      },
      "execution_count": null,
      "outputs": [
        {
          "output_type": "execute_result",
          "data": {
            "text/plain": [
              "'I Am wRiTiN AlL LeTtErS In cApS'"
            ],
            "application/vnd.google.colaboratory.intrinsic+json": {
              "type": "string"
            }
          },
          "metadata": {},
          "execution_count": 2
        }
      ]
    },
    {
      "cell_type": "code",
      "source": [
        "m= float(input(\"maths marks: \"))\n",
        "s= float(input(\"science marks: \"))\n",
        "e= float(input(\"english marks: \"))\n",
        "p=(m+s+e)/300*100\n",
        "print('your percentage is: ',p,'%' )"
      ],
      "metadata": {
        "colab": {
          "base_uri": "https://localhost:8080/"
        },
        "id": "AZF1zbbW50RI",
        "outputId": "9e8bd0e0-3ab0-4ad9-c9e1-db8a3dc6303b"
      },
      "execution_count": null,
      "outputs": [
        {
          "output_type": "stream",
          "name": "stdout",
          "text": [
            "maths marks: 70\n",
            "science marks: 80\n",
            "english marks: 90\n",
            "your percentage is:  80.0 %\n"
          ]
        }
      ]
    },
    {
      "cell_type": "code",
      "source": [
        "def answer_the_call():\n",
        "  greeting =\"hi this is aaku, who's there on the call!\"\n",
        "  print(greeting)"
      ],
      "metadata": {
        "id": "AZKLpcw358CP"
      },
      "execution_count": null,
      "outputs": []
    },
    {
      "cell_type": "code",
      "source": [
        "answer_the_call()"
      ],
      "metadata": {
        "colab": {
          "base_uri": "https://localhost:8080/"
        },
        "id": "3WnApRthPSFE",
        "outputId": "6469af61-c480-4b11-b268-7f434df78a33"
      },
      "execution_count": null,
      "outputs": [
        {
          "output_type": "stream",
          "name": "stdout",
          "text": [
            "hi this is aaku, who's there on the call!\n"
          ]
        }
      ]
    },
    {
      "cell_type": "code",
      "source": [
        "def has_33(nums):\n",
        "    for i in range(0, len(nums)-1):\n",
        "\n",
        "        # nicer looking alternative in commented code\n",
        "        #if nums[i] == 3 and nums[i+1] == 3:\n",
        "\n",
        "        if nums[i:i+2] == [3,3]:\n",
        "            return True\n",
        "\n",
        "    return False"
      ],
      "metadata": {
        "id": "O1i80RsUckuB"
      },
      "execution_count": null,
      "outputs": []
    },
    {
      "cell_type": "code",
      "source": [
        "has_33([1, 3, 3])"
      ],
      "metadata": {
        "colab": {
          "base_uri": "https://localhost:8080/"
        },
        "id": "MXEjhJWgB-6b",
        "outputId": "584be4f0-05b1-464e-df13-8f89a0de55b4"
      },
      "execution_count": null,
      "outputs": [
        {
          "output_type": "execute_result",
          "data": {
            "text/plain": [
              "True"
            ]
          },
          "metadata": {},
          "execution_count": 9
        }
      ]
    },
    {
      "cell_type": "code",
      "source": [
        "import turtle\n",
        "import random\n",
        "\n",
        "w = 500\n",
        "h = 500\n",
        "fs = 10\n",
        "d = 100  # milliseconds\n",
        "\n",
        "offsets = {\n",
        "    \"up\": (0, 20),\n",
        "    \"down\": (0, -20),\n",
        "    \"left\": (-20, 0),\n",
        "    \"right\": (20, 0)\n",
        "}\n",
        "\n",
        "def r():\n",
        "    global saap, kata, khanaT, pen\n",
        "    saap = [[0, 0], [0, 20], [0, 40], [0, 60], [0, 80]]\n",
        "    kata = \"up\"\n",
        "    khanaT = nun()\n",
        "    food.goto(khanaT)\n",
        "    hall()\n",
        "\n",
        "def hall():\n",
        "    global kata\n",
        "\n",
        "    new_head = saap[-1].copy()\n",
        "    new_head[0] = saap[-1][0] + offsets[kata][0]\n",
        "    new_head[1] = saap[-1][1] + offsets[kata][1]\n",
        "\n",
        "    if new_head in saap[:-1]:\n",
        "        r()\n",
        "    else:\n",
        "        saap.append(new_head)\n",
        "\n",
        "        if not khana():\n",
        "            saap.pop(0)\n",
        "\n",
        "        if saap[-1][0] > w / 2:\n",
        "            saap[-1][0] -= w\n",
        "        elif saap[-1][0] < - w / 2:\n",
        "            saap[-1][0] += w\n",
        "        elif saap[-1][1] > h / 2:\n",
        "            saap[-1][1] -= h\n",
        "        elif saap[-1][1] < -h / 2:\n",
        "            saap[-1][1] += h\n",
        "\n",
        "        pen.clearstamps()\n",
        " #clears all the stamps\n",
        "\n",
        "        for segment in saap:\n",
        "            pen.goto(segment[0], segment[1])\n",
        "            pen.stamp()\n",
        "\n",
        "        screen.update()\n",
        " #updates the turtle.screen screen\n",
        "\n",
        "        turtle.ontimer(hall, d)\n",
        "\n",
        "def khana():\n",
        "    global khanaT\n",
        "    if dist(saap[-1], khanaT) < 20:\n",
        "        khanaT = nun()\n",
        "        food.goto(khanaT)\n",
        "        return True\n",
        "    return False\n",
        "\n",
        "def nun():\n",
        "    x = random.randint(- w / 2 + fs, w / 2 - fs)\n",
        "    y = random.randint(- h / 2 + fs, h / 2 - fs)\n",
        "    return (x, y)\n",
        "\n",
        "def dist(poos1, poos2):\n",
        "    x1, y1 = poos1\n",
        "    x2, y2 = poos2\n",
        "    distance = ((y2 - y1) ** 2 + (x2 - x1) ** 2) ** 0.5\n",
        "    return distance\n",
        "\n",
        "def mathi():\n",
        "    global kata\n",
        "    if kata != \"down\":\n",
        "        kata = \"up\"\n",
        "\n",
        "def go_right():\n",
        "    global kata\n",
        "    if kata != \"left\":\n",
        "        kata = \"right\"\n",
        "\n",
        "def go_down():\n",
        "    global kata\n",
        "    if kata != \"up\":\n",
        "        kata = \"down\"\n",
        "\n",
        "def go_left():\n",
        "    global kata\n",
        "    if kata != \"right\":\n",
        "        kata = \"left\"\n",
        "\n",
        "screen = turtle.screen()\n",
        "screen.setup(w, h)\n",
        "screen.title(\"saap\")\n",
        "screen.bgcolor(\"green\")\n",
        "screen.setup(500, 500)\n",
        "screen.tracer(0)\n",
        "\n",
        "pen = turtle.Turtle(\"square\")\n",
        "pen.penup()\n",
        "\n",
        "food = turtle.Turtle()\n",
        "food.shape(\"circle\")\n",
        "food.color(\"white\")\n",
        "food.shapesize(fs / 20)\n",
        "food.penup()\n",
        "\n",
        "screen.listen()\n",
        "screen.onkey(mathi, \"Up\")\n",
        "screen.onkey(go_right, \"Right\")\n",
        "screen.onkey(go_down, \"Down\")\n",
        "screen.onkey(go_left, \"Left\")\n",
        "\n",
        "r()\n",
        "turtle.do"
      ],
      "metadata": {
        "colab": {
          "base_uri": "https://localhost:8080/",
          "height": 250
        },
        "id": "AWPtNxleMub9",
        "outputId": "adbc229c-685b-4588-8acd-3b6071d0b9f4"
      },
      "execution_count": null,
      "outputs": [
        {
          "output_type": "error",
          "ename": "AttributeError",
          "evalue": "ignored",
          "traceback": [
            "\u001b[0;31m---------------------------------------------------------------------------\u001b[0m",
            "\u001b[0;31mAttributeError\u001b[0m                            Traceback (most recent call last)",
            "\u001b[0;32m<ipython-input-2-c2ef3b8a374f>\u001b[0m in \u001b[0;36m<module>\u001b[0;34m()\u001b[0m\n\u001b[1;32m     97\u001b[0m         \u001b[0mkata\u001b[0m \u001b[0;34m=\u001b[0m \u001b[0;34m\"left\"\u001b[0m\u001b[0;34m\u001b[0m\u001b[0;34m\u001b[0m\u001b[0m\n\u001b[1;32m     98\u001b[0m \u001b[0;34m\u001b[0m\u001b[0m\n\u001b[0;32m---> 99\u001b[0;31m \u001b[0mscreen\u001b[0m \u001b[0;34m=\u001b[0m \u001b[0mturtle\u001b[0m\u001b[0;34m.\u001b[0m\u001b[0mscreen\u001b[0m\u001b[0;34m(\u001b[0m\u001b[0;34m)\u001b[0m\u001b[0;34m\u001b[0m\u001b[0;34m\u001b[0m\u001b[0m\n\u001b[0m\u001b[1;32m    100\u001b[0m \u001b[0mscreen\u001b[0m\u001b[0;34m.\u001b[0m\u001b[0msetup\u001b[0m\u001b[0;34m(\u001b[0m\u001b[0mw\u001b[0m\u001b[0;34m,\u001b[0m \u001b[0mh\u001b[0m\u001b[0;34m)\u001b[0m\u001b[0;34m\u001b[0m\u001b[0;34m\u001b[0m\u001b[0m\n\u001b[1;32m    101\u001b[0m \u001b[0mscreen\u001b[0m\u001b[0;34m.\u001b[0m\u001b[0mtitle\u001b[0m\u001b[0;34m(\u001b[0m\u001b[0;34m\"saap\"\u001b[0m\u001b[0;34m)\u001b[0m\u001b[0;34m\u001b[0m\u001b[0;34m\u001b[0m\u001b[0m\n",
            "\u001b[0;31mAttributeError\u001b[0m: module 'turtle' has no attribute 'screen'"
          ]
        }
      ]
    },
    {
      "cell_type": "code",
      "source": [
        "def myfunc(*args, **kwargs):\n",
        "  print(args)\n",
        "  print(kwargs)\n",
        "  print('I would like {} {}'.format(args[0], kwargs['food']))"
      ],
      "metadata": {
        "id": "xnMFg-4WM1i7"
      },
      "execution_count": null,
      "outputs": []
    },
    {
      "cell_type": "code",
      "source": [
        "myfunc(10,20,30,fruit='orange', food='donuts', animal='cat')"
      ],
      "metadata": {
        "colab": {
          "base_uri": "https://localhost:8080/"
        },
        "id": "RwI8mR3Eh9s0",
        "outputId": "0bd74e32-7f3f-4428-ba67-985eece5527f"
      },
      "execution_count": null,
      "outputs": [
        {
          "output_type": "stream",
          "name": "stdout",
          "text": [
            "(10, 20, 30)\n",
            "{'fruit': 'orange', 'food': 'donuts', 'animal': 'cat'}\n",
            "I would like 10 donuts\n"
          ]
        }
      ]
    },
    {
      "cell_type": "code",
      "source": [
        "n=int(input())\n",
        "if n%2!=0:\n",
        "    print(\"Weird\")\n",
        "elif n%2==0 or (n>1 and n<6):\n",
        "    print (\"Not Weird\")\n",
        "elif n%2==0 or(21<n and n>5):\n",
        "    print('Weird')\n",
        "else :\n",
        "    print(\"not weird\")\n"
      ],
      "metadata": {
        "colab": {
          "base_uri": "https://localhost:8080/"
        },
        "id": "XOMaAc073Eb9",
        "outputId": "7c4885f7-145c-4401-d765-ba1e4eff2b5d"
      },
      "execution_count": null,
      "outputs": [
        {
          "output_type": "stream",
          "name": "stdout",
          "text": [
            "40\n",
            "Not Weird\n"
          ]
        }
      ]
    },
    {
      "cell_type": "code",
      "source": [
        "if _name_ == '_main_':\n",
        "    n = int(input().strip())\n",
        "if n%2!= 0  or (n>6and n<21) :\n",
        "    print(\"Weird\")\n",
        "\n",
        "else:\n",
        "    print(\"Not Weird\")"
      ],
      "metadata": {
        "id": "s7-IR67Y3Q4A",
        "outputId": "ad8fad2a-fe1c-46fa-ad6f-9f6ebd1bb0cc",
        "colab": {
          "base_uri": "https://localhost:8080/",
          "height": 250
        }
      },
      "execution_count": null,
      "outputs": [
        {
          "output_type": "error",
          "ename": "NameError",
          "evalue": "ignored",
          "traceback": [
            "\u001b[0;31m---------------------------------------------------------------------------\u001b[0m",
            "\u001b[0;31mNameError\u001b[0m                                 Traceback (most recent call last)",
            "\u001b[0;32m<ipython-input-1-7a3380a87801>\u001b[0m in \u001b[0;36m<module>\u001b[0;34m()\u001b[0m\n\u001b[0;32m----> 1\u001b[0;31m \u001b[0;32mif\u001b[0m \u001b[0m_name_\u001b[0m \u001b[0;34m==\u001b[0m \u001b[0;34m'_main_'\u001b[0m\u001b[0;34m:\u001b[0m\u001b[0;34m\u001b[0m\u001b[0;34m\u001b[0m\u001b[0m\n\u001b[0m\u001b[1;32m      2\u001b[0m     \u001b[0mn\u001b[0m \u001b[0;34m=\u001b[0m \u001b[0mint\u001b[0m\u001b[0;34m(\u001b[0m\u001b[0minput\u001b[0m\u001b[0;34m(\u001b[0m\u001b[0;34m)\u001b[0m\u001b[0;34m.\u001b[0m\u001b[0mstrip\u001b[0m\u001b[0;34m(\u001b[0m\u001b[0;34m)\u001b[0m\u001b[0;34m)\u001b[0m\u001b[0;34m\u001b[0m\u001b[0;34m\u001b[0m\u001b[0m\n\u001b[1;32m      3\u001b[0m \u001b[0;32mif\u001b[0m \u001b[0mn\u001b[0m\u001b[0;34m%\u001b[0m\u001b[0;36m2\u001b[0m\u001b[0;34m!=\u001b[0m \u001b[0;36m0\u001b[0m  \u001b[0;32mor\u001b[0m \u001b[0;34m(\u001b[0m\u001b[0mn\u001b[0m\u001b[0;34m>\u001b[0m\u001b[0;36m6\u001b[0m\u001b[0;32mand\u001b[0m \u001b[0mn\u001b[0m\u001b[0;34m<\u001b[0m\u001b[0;36m21\u001b[0m\u001b[0;34m)\u001b[0m \u001b[0;34m:\u001b[0m\u001b[0;34m\u001b[0m\u001b[0;34m\u001b[0m\u001b[0m\n\u001b[1;32m      4\u001b[0m     \u001b[0mprint\u001b[0m\u001b[0;34m(\u001b[0m\u001b[0;34m\"Weird\"\u001b[0m\u001b[0;34m)\u001b[0m\u001b[0;34m\u001b[0m\u001b[0;34m\u001b[0m\u001b[0m\n\u001b[1;32m      5\u001b[0m \u001b[0;34m\u001b[0m\u001b[0m\n",
            "\u001b[0;31mNameError\u001b[0m: name '_name_' is not defined"
          ]
        }
      ]
    },
    {
      "cell_type": "code",
      "source": [
        "num1 = input(\"Insert a number: \")\n",
        "variable = input(\"Insert a variable(+, -, *, /): \")\n",
        "num2 = input(\"Insert a number: \")\n",
        "\n",
        "add = float(num1) + float(num2)\n",
        "subtract = float(num1) - float(num2)\n",
        "multiply = float(num1) * float(num2)\n",
        "divide = float(num1) / float(num2)\n",
        "\n",
        "if variable == \"+\":\n",
        "    print (add)\n",
        "\n",
        "elif variable == \"-\":\n",
        "        print(subtract)\n",
        "\n",
        "elif variable == \"*\":\n",
        "    print(multiply)\n",
        "\n",
        "elif variable == \"/\":\n",
        "    print(divide)\n",
        "\n",
        "else:\n",
        "    print(\"Error: Invalid input\")"
      ],
      "metadata": {
        "colab": {
          "base_uri": "https://localhost:8080/"
        },
        "id": "oHsUt2xxSL3i",
        "outputId": "db4eb476-67fa-4f04-8872-7035a0893e0e"
      },
      "execution_count": null,
      "outputs": [
        {
          "output_type": "stream",
          "name": "stdout",
          "text": [
            "Insert a number: 3\n",
            "Insert a variable(+, -, *, /): /\n",
            "Insert a number: 3\n",
            "1.0\n"
          ]
        }
      ]
    },
    {
      "cell_type": "code",
      "source": [
        "#MAD_LIBS1\n",
        "color = input(\"Enter a color: \")\n",
        "pluralNoun = input(\"Enter a plural noun: \")\n",
        "celebrity = input(\"Enter a celebrity: \")\n",
        "\n",
        "print(\"Roses are\", color)\n",
        "print(pluralNoun + \" are blue\")\n",
        "print(\"I love\", celebrity)"
      ],
      "metadata": {
        "id": "C2YuiULoeC30",
        "colab": {
          "base_uri": "https://localhost:8080/"
        },
        "outputId": "319d7203-11aa-41a8-ea0d-a27efe111372"
      },
      "execution_count": null,
      "outputs": [
        {
          "output_type": "stream",
          "name": "stdout",
          "text": [
            "Enter a color: hoho\n",
            "Enter a plural noun: haha\n",
            "Enter a celebrity: hihi\n",
            "Roses are hoho\n",
            "haha are blue\n",
            "I love hihi\n"
          ]
        }
      ]
    },
    {
      "cell_type": "code",
      "source": [
        "##Python_DataIsGood\n",
        "\n",
        "##STRINGS"
      ],
      "metadata": {
        "id": "PrMcYBjfmS9D"
      },
      "execution_count": null,
      "outputs": []
    },
    {
      "cell_type": "markdown",
      "source": [],
      "metadata": {
        "id": "zhVa_jvfd04V"
      }
    },
    {
      "cell_type": "code",
      "source": [
        "len('hello world')"
      ],
      "metadata": {
        "colab": {
          "base_uri": "https://localhost:8080/"
        },
        "id": "VJbpxoTE8gSS",
        "outputId": "4a51c263-c164-4814-9504-34695358d986"
      },
      "execution_count": null,
      "outputs": [
        {
          "output_type": "execute_result",
          "data": {
            "text/plain": [
              "11"
            ]
          },
          "metadata": {},
          "execution_count": 3
        }
      ]
    },
    {
      "cell_type": "code",
      "source": [
        "mystring='Hello World'\n",
        "print (mystring)"
      ],
      "metadata": {
        "colab": {
          "base_uri": "https://localhost:8080/"
        },
        "id": "knulqpAD8g0o",
        "outputId": "faceb677-bbdc-4885-d208-a9123213310b"
      },
      "execution_count": null,
      "outputs": [
        {
          "output_type": "stream",
          "name": "stdout",
          "text": [
            "Hello World\n"
          ]
        }
      ]
    },
    {
      "cell_type": "code",
      "source": [
        "mystring='Hello World'\n",
        "mystring                ##notice that when we add string with print() command,\n",
        "                        ##then it print the output without inverted commas:\"\""
      ],
      "metadata": {
        "colab": {
          "base_uri": "https://localhost:8080/",
          "height": 37
        },
        "id": "z1Y5AC1s8hBS",
        "outputId": "273ad96b-cb0e-4d5c-da36-e92286ad9e35"
      },
      "execution_count": null,
      "outputs": [
        {
          "output_type": "execute_result",
          "data": {
            "text/plain": [
              "'Hello World'"
            ],
            "application/vnd.google.colaboratory.intrinsic+json": {
              "type": "string"
            }
          },
          "metadata": {},
          "execution_count": 3
        }
      ]
    },
    {
      "cell_type": "code",
      "source": [
        "mystring[1:4]                    ## for getting the substring 'ell'"
      ],
      "metadata": {
        "colab": {
          "base_uri": "https://localhost:8080/",
          "height": 37
        },
        "id": "oZTpbHrN94aw",
        "outputId": "972c50ad-d1ec-4a53-8124-e061ebf8867e"
      },
      "execution_count": null,
      "outputs": [
        {
          "output_type": "execute_result",
          "data": {
            "text/plain": [
              "'ell'"
            ],
            "application/vnd.google.colaboratory.intrinsic+json": {
              "type": "string"
            }
          },
          "metadata": {},
          "execution_count": 4
        }
      ]
    },
    {
      "cell_type": "code",
      "source": [
        "mystring[::-1]"
      ],
      "metadata": {
        "colab": {
          "base_uri": "https://localhost:8080/",
          "height": 37
        },
        "id": "tEgS7jOOaYSr",
        "outputId": "19c3e4e4-9f91-4ab4-862d-006100a85c4b"
      },
      "execution_count": null,
      "outputs": [
        {
          "output_type": "execute_result",
          "data": {
            "text/plain": [
              "'dlroW olleH'"
            ],
            "application/vnd.google.colaboratory.intrinsic+json": {
              "type": "string"
            }
          },
          "metadata": {},
          "execution_count": 5
        }
      ]
    },
    {
      "cell_type": "code",
      "source": [
        "mystring[:-5:-1]"
      ],
      "metadata": {
        "colab": {
          "base_uri": "https://localhost:8080/",
          "height": 37
        },
        "id": "32QHnyWVaYnG",
        "outputId": "b78c6c9a-57c6-4b87-c083-19010161f70c"
      },
      "execution_count": null,
      "outputs": [
        {
          "output_type": "execute_result",
          "data": {
            "text/plain": [
              "'dlro'"
            ],
            "application/vnd.google.colaboratory.intrinsic+json": {
              "type": "string"
            }
          },
          "metadata": {},
          "execution_count": 9
        }
      ]
    },
    {
      "cell_type": "code",
      "source": [
        "##Immutability: Strings are IMMUTABLE: Strings are not mutable!\n",
        "##                                    (meaning you can't use indexing\n",
        "##                                      to change individual elements of a string)\n",
        "## Convert a name'Sam' into 'Pam', knowing that Strings are Immutable\n",
        "name='Sam'\n",
        "last_name=name[1:]\n",
        "converted_name='P'+last_name\n",
        "print (converted_name)\n",
        "##This is also called STRING CONCATENATION"
      ],
      "metadata": {
        "colab": {
          "base_uri": "https://localhost:8080/"
        },
        "id": "YpQSd9oXyLuB",
        "outputId": "61040d42-3bbb-411f-9eea-632cd250f2a3"
      },
      "execution_count": null,
      "outputs": [
        {
          "output_type": "stream",
          "name": "stdout",
          "text": [
            "Pam\n"
          ]
        }
      ]
    },
    {
      "cell_type": "code",
      "source": [
        "mystring.upper()"
      ],
      "metadata": {
        "colab": {
          "base_uri": "https://localhost:8080/",
          "height": 37
        },
        "id": "ZyiGgbVTyL9K",
        "outputId": "edb27d78-04e5-4e47-e96f-bf4c87cf4201"
      },
      "execution_count": null,
      "outputs": [
        {
          "output_type": "execute_result",
          "data": {
            "text/plain": [
              "'HELLO WORLD'"
            ],
            "application/vnd.google.colaboratory.intrinsic+json": {
              "type": "string"
            }
          },
          "metadata": {},
          "execution_count": 17
        }
      ]
    },
    {
      "cell_type": "code",
      "source": [
        "mystring.lower()"
      ],
      "metadata": {
        "colab": {
          "base_uri": "https://localhost:8080/",
          "height": 37
        },
        "id": "dChuGUTf1d2x",
        "outputId": "abf94043-7f5e-4d41-f6f6-f70c97463f2d"
      },
      "execution_count": null,
      "outputs": [
        {
          "output_type": "execute_result",
          "data": {
            "text/plain": [
              "'hello world'"
            ],
            "application/vnd.google.colaboratory.intrinsic+json": {
              "type": "string"
            }
          },
          "metadata": {},
          "execution_count": 18
        }
      ]
    },
    {
      "cell_type": "code",
      "source": [
        "mystring.split()    ##organise the STRING into a LIST"
      ],
      "metadata": {
        "colab": {
          "base_uri": "https://localhost:8080/"
        },
        "id": "dcXBJb2K1eAd",
        "outputId": "68d1a0bb-ef9b-4c63-d27e-58acd1aaaaaa"
      },
      "execution_count": null,
      "outputs": [
        {
          "output_type": "execute_result",
          "data": {
            "text/plain": [
              "['Hello', 'World']"
            ]
          },
          "metadata": {},
          "execution_count": 20
        }
      ]
    },
    {
      "cell_type": "code",
      "source": [
        "##SPLIT could be performed on various letters in the string\n",
        "x='this is a beautiful day.'\n",
        "x.split('i')"
      ],
      "metadata": {
        "colab": {
          "base_uri": "https://localhost:8080/"
        },
        "id": "OKg5_ZLQ2TEp",
        "outputId": "c18a1765-9992-4494-fa7d-246e37fabe2a"
      },
      "execution_count": null,
      "outputs": [
        {
          "output_type": "execute_result",
          "data": {
            "text/plain": [
              "['th', 's ', 's a beaut', 'ful day.']"
            ]
          },
          "metadata": {},
          "execution_count": 23
        }
      ]
    },
    {
      "cell_type": "code",
      "source": [
        "## STRING INTERPOLATION: Multiple ways of formatting strings, printing variables in them\n",
        "## 2 methods::  .format and f-strings (formatted strings literals)\n",
        "\n",
        "print('This is a STRING {}'.format('Inserted'))"
      ],
      "metadata": {
        "colab": {
          "base_uri": "https://localhost:8080/"
        },
        "id": "hhrNTHe42THY",
        "outputId": "abceb3b3-9ef6-4dd6-87cd-065c0eaee409"
      },
      "execution_count": null,
      "outputs": [
        {
          "output_type": "stream",
          "name": "stdout",
          "text": [
            "This is a STRING Inserted\n"
          ]
        }
      ]
    },
    {
      "cell_type": "code",
      "source": [
        "print(\"{} {} {}\".format(\"blue\",\"apples\",\"are\"))"
      ],
      "metadata": {
        "colab": {
          "base_uri": "https://localhost:8080/"
        },
        "id": "aOsoZTXM2TKA",
        "outputId": "f11d85e9-1c96-4fe4-82b8-5808e54a8a8e"
      },
      "execution_count": null,
      "outputs": [
        {
          "output_type": "stream",
          "name": "stdout",
          "text": [
            "blue apples are\n"
          ]
        }
      ]
    },
    {
      "cell_type": "code",
      "source": [
        "print(\"{1} {2} {0}\".format(\"blue\",\"apples\",\"are\"))"
      ],
      "metadata": {
        "colab": {
          "base_uri": "https://localhost:8080/"
        },
        "id": "fwrDJTrE-1g5",
        "outputId": "7363ff74-62f0-4ad9-ca50-79ffe486e080"
      },
      "execution_count": null,
      "outputs": [
        {
          "output_type": "stream",
          "name": "stdout",
          "text": [
            "apples are blue\n"
          ]
        }
      ]
    },
    {
      "cell_type": "code",
      "source": [
        "print(\"{a} {r} {b}\".format(b=\"blue\",a=\"apples\",r=\"are\"))"
      ],
      "metadata": {
        "colab": {
          "base_uri": "https://localhost:8080/"
        },
        "id": "pJ4ftd6F-1jL",
        "outputId": "5caa0139-e0f6-411f-b1cf-a2af7dc68520"
      },
      "execution_count": null,
      "outputs": [
        {
          "output_type": "stream",
          "name": "stdout",
          "text": [
            "apples are blue\n"
          ]
        }
      ]
    },
    {
      "cell_type": "code",
      "source": [
        "## Float_Formatting \"(value:width.precision f)\"\"\n",
        "\n",
        "result=100/777\n",
        "print(result)\n",
        "print(\"The result is= {}\".format(result))\n",
        "print(\"The result is= {r}\".format(r=result))\n",
        "print(\"The result is= {r:1.4f}\".format(r=result))\n",
        "print(\"The result is= {r:10.4f}\".format(r=result)) ##white_Spacing\n"
      ],
      "metadata": {
        "colab": {
          "base_uri": "https://localhost:8080/"
        },
        "id": "ih6iBpoL-1l2",
        "outputId": "def24bac-41f8-4889-d547-8750e82195d8"
      },
      "execution_count": null,
      "outputs": [
        {
          "output_type": "stream",
          "name": "stdout",
          "text": [
            "0.1287001287001287\n",
            "The result is= 0.1287001287001287\n",
            "The result is= 0.1287001287001287\n",
            "The result is= 0.1287\n",
            "The result is=     0.1287\n"
          ]
        }
      ]
    },
    {
      "cell_type": "code",
      "source": [
        "##  f-strings (formatted strings literals)\n",
        "name='Jose'\n",
        "print(f'My name is {name}')"
      ],
      "metadata": {
        "colab": {
          "base_uri": "https://localhost:8080/"
        },
        "id": "jxg1S901Cpcu",
        "outputId": "cca5276d-05ba-46dd-ccb1-f409b930f22d"
      },
      "execution_count": null,
      "outputs": [
        {
          "output_type": "stream",
          "name": "stdout",
          "text": [
            "My name is Jose\n"
          ]
        }
      ]
    },
    {
      "cell_type": "code",
      "source": [
        "name='Sam'\n",
        "age=3\n",
        "print(f\"{name} is {age}years old\")"
      ],
      "metadata": {
        "colab": {
          "base_uri": "https://localhost:8080/"
        },
        "id": "G8UsTphYGN3x",
        "outputId": "77e38307-35f9-4b28-8946-bbb191ee055e"
      },
      "execution_count": null,
      "outputs": [
        {
          "output_type": "stream",
          "name": "stdout",
          "text": [
            "Sam is 3years old\n"
          ]
        }
      ]
    },
    {
      "cell_type": "code",
      "source": [
        "##  LISTS  ##\n",
        "##  DOES : Indexing, Slicing & Concatenation the way it does in STRINGS\n",
        "##  We can MUTATE the LISTS but not the Strings"
      ],
      "metadata": {
        "id": "HpV1OanoGOCZ"
      },
      "execution_count": null,
      "outputs": []
    },
    {
      "cell_type": "code",
      "source": [
        "mylist1=[\"a\",\"b\",\"c\"]\n",
        "mylist2=[1,2,3]\n",
        "\n",
        "#Indexing\n",
        "print(mylist1[0])\n",
        "#Slicing\n",
        "print(mylist1[1:])\n",
        "#Contatenate\n",
        "print(mylist1+mylist2)\n",
        "#Mutate\n",
        "mylist1[0]=\"Hello\"\n",
        "print(mylist1)"
      ],
      "metadata": {
        "colab": {
          "base_uri": "https://localhost:8080/"
        },
        "id": "-PohzSKKGOL2",
        "outputId": "a2355229-942c-48b0-ad01-73552a7fe51c"
      },
      "execution_count": null,
      "outputs": [
        {
          "output_type": "stream",
          "name": "stdout",
          "text": [
            "a\n",
            "['b', 'c']\n",
            "['a', 'b', 'c', 1, 2, 3]\n",
            "['Hello', 'b', 'c']\n"
          ]
        }
      ]
    },
    {
      "cell_type": "code",
      "source": [
        "#  APPEND\n",
        "mylist1.append('apple')\n",
        "mylist1"
      ],
      "metadata": {
        "colab": {
          "base_uri": "https://localhost:8080/"
        },
        "id": "DN6V5b50RimS",
        "outputId": "d353820d-0f24-470e-eebc-0fcf0861824e"
      },
      "execution_count": null,
      "outputs": [
        {
          "output_type": "execute_result",
          "data": {
            "text/plain": [
              "['Hello', 'b', 'c', 'apple', 'apple']"
            ]
          },
          "metadata": {},
          "execution_count": 6
        }
      ]
    },
    {
      "cell_type": "code",
      "source": [
        "mylist1.pop()   ## by default the pop() location is very end"
      ],
      "metadata": {
        "colab": {
          "base_uri": "https://localhost:8080/",
          "height": 37
        },
        "id": "dsmVfziN-zqA",
        "outputId": "a307d9e1-4db8-4f31-ecc3-68fe97f1947c"
      },
      "execution_count": null,
      "outputs": [
        {
          "output_type": "execute_result",
          "data": {
            "text/plain": [
              "'apple'"
            ],
            "application/vnd.google.colaboratory.intrinsic+json": {
              "type": "string"
            }
          },
          "metadata": {},
          "execution_count": 7
        }
      ]
    },
    {
      "cell_type": "code",
      "source": [
        "mylist1"
      ],
      "metadata": {
        "colab": {
          "base_uri": "https://localhost:8080/"
        },
        "id": "4PfUK-64-z-m",
        "outputId": "c951abf6-b11a-4d6d-d2f2-d62e2809960d"
      },
      "execution_count": null,
      "outputs": [
        {
          "output_type": "execute_result",
          "data": {
            "text/plain": [
              "['Hello', 'b', 'c', 'apple']"
            ]
          },
          "metadata": {},
          "execution_count": 8
        }
      ]
    },
    {
      "cell_type": "code",
      "source": [
        "mylist1.pop(0)   ## but y index location could be given"
      ],
      "metadata": {
        "colab": {
          "base_uri": "https://localhost:8080/",
          "height": 37
        },
        "id": "42iWXupC_e8W",
        "outputId": "9b500d3f-c5c8-4d2b-e947-99111d9ba4e1"
      },
      "execution_count": null,
      "outputs": [
        {
          "output_type": "execute_result",
          "data": {
            "text/plain": [
              "'Hello'"
            ],
            "application/vnd.google.colaboratory.intrinsic+json": {
              "type": "string"
            }
          },
          "metadata": {},
          "execution_count": 9
        }
      ]
    },
    {
      "cell_type": "code",
      "source": [
        "mylist1"
      ],
      "metadata": {
        "colab": {
          "base_uri": "https://localhost:8080/"
        },
        "id": "LsQpgxDK_fMl",
        "outputId": "7ef805b4-9e86-496b-b985-eceb860ca7d6"
      },
      "execution_count": null,
      "outputs": [
        {
          "output_type": "execute_result",
          "data": {
            "text/plain": [
              "['b', 'c', 'apple']"
            ]
          },
          "metadata": {},
          "execution_count": 10
        }
      ]
    },
    {
      "cell_type": "code",
      "source": [
        "mylist1=['v','f','d','q','a','k']\n",
        "mylist1.sort()\n",
        "mylist1"
      ],
      "metadata": {
        "colab": {
          "base_uri": "https://localhost:8080/"
        },
        "id": "DkCxKoYyAIW-",
        "outputId": "af3f169d-afc0-4fd5-b590-a905d5d2d340"
      },
      "execution_count": null,
      "outputs": [
        {
          "output_type": "execute_result",
          "data": {
            "text/plain": [
              "['a', 'd', 'f', 'k', 'q', 'v']"
            ]
          },
          "metadata": {},
          "execution_count": 72
        }
      ]
    },
    {
      "cell_type": "code",
      "source": [
        "import re\n",
        "str1=\"my School 222 is  333 The 34343 Best 56789 in 8765 the World\"\n",
        "res=re.findall(r'\\d+',str1)"
      ],
      "metadata": {
        "id": "GbPLq_eRsHyR"
      },
      "execution_count": null,
      "outputs": []
    },
    {
      "cell_type": "code",
      "source": [
        "# TOP_%)_PYTHON_PROGRAMS: Nov 17, 2022 :: https://www.geeksforgeeks.org/python-programming-examples/#simple"
      ],
      "metadata": {
        "id": "zehN2JQveyi5"
      },
      "execution_count": null,
      "outputs": []
    },
    {
      "cell_type": "code",
      "source": [
        "number1 = input(\"First number: \")\n",
        "number2 = input(\"\\nSecond number: \")\n",
        "sum = float(number1) + float(number2)\n",
        "print(\"The sum of {0} and {1} is {2}\" .format(number1, number2,sum))"
      ],
      "metadata": {
        "id": "Ku_QuTIAlZNC",
        "colab": {
          "base_uri": "https://localhost:8080/"
        },
        "outputId": "75d2f845-0a6e-421d-b71e-307c16ac40a5"
      },
      "execution_count": null,
      "outputs": [
        {
          "output_type": "stream",
          "name": "stdout",
          "text": [
            "First number: 3\n",
            "\n",
            "Second number: 5\n",
            "The sum of 3 and 5 is 8.0\n"
          ]
        }
      ]
    },
    {
      "cell_type": "code",
      "source": [
        "a = input(\"First number: \")\n",
        "b = input(\"\\nSecond number: \")\n",
        "if a >= b:\n",
        "  return a\n",
        "else:\n",
        "  return b"
      ],
      "metadata": {
        "colab": {
          "base_uri": "https://localhost:8080/",
          "height": 194
        },
        "id": "ICzydWd2eYv4",
        "outputId": "50001c7e-f2d2-449b-8e3f-5f2794556a17"
      },
      "execution_count": null,
      "outputs": [
        {
          "name": "stdout",
          "output_type": "stream",
          "text": [
            "First number: 7\n",
            "\n",
            "Second number: 9\n"
          ]
        },
        {
          "output_type": "error",
          "ename": "SyntaxError",
          "evalue": "ignored",
          "traceback": [
            "\u001b[0;36m  File \u001b[0;32m\"<ipython-input-2-7fc10aedd712>\"\u001b[0;36m, line \u001b[0;32m4\u001b[0m\n\u001b[0;31m    return a\u001b[0m\n\u001b[0m    ^\u001b[0m\n\u001b[0;31mSyntaxError\u001b[0m\u001b[0;31m:\u001b[0m 'return' outside function\n"
          ]
        }
      ]
    },
    {
      "cell_type": "code",
      "source": [
        "a = input(\"First number: \")\n",
        "b = input(\"\\nSecond number: \")\n",
        "print(max(a, b))"
      ],
      "metadata": {
        "colab": {
          "base_uri": "https://localhost:8080/"
        },
        "id": "-3qDcrf5eY5V",
        "outputId": "13c1c638-a1f1-4449-ecc3-268efb17ff44"
      },
      "execution_count": null,
      "outputs": [
        {
          "output_type": "stream",
          "name": "stdout",
          "text": [
            "First number: 5\n",
            "\n",
            "Second number: 3\n",
            "5\n"
          ]
        }
      ]
    },
    {
      "cell_type": "code",
      "source": [
        "a = input(\"First number: \")\n",
        "b = input(\"\\nSecond number: \")\n",
        "print(a if a >= b else b)"
      ],
      "metadata": {
        "colab": {
          "base_uri": "https://localhost:8080/"
        },
        "id": "ONm6aWrFeZDo",
        "outputId": "f50ab292-a669-458c-ee2a-46a0fa243677"
      },
      "execution_count": null,
      "outputs": [
        {
          "output_type": "stream",
          "name": "stdout",
          "text": [
            "First number: 4\n",
            "\n",
            "Second number: 7\n",
            "7\n"
          ]
        }
      ]
    },
    {
      "cell_type": "code",
      "source": [
        "a,b,c = 1, \"HelloWorld\", 2.34\n",
        "print(a,b,c)"
      ],
      "metadata": {
        "id": "C1QaL4IwqfQH",
        "colab": {
          "base_uri": "https://localhost:8080/"
        },
        "outputId": "ac21a97e-b04b-4e14-ba7c-be754beac345"
      },
      "execution_count": null,
      "outputs": [
        {
          "output_type": "stream",
          "name": "stdout",
          "text": [
            "1 HelloWorld 2.34\n"
          ]
        }
      ]
    },
    {
      "cell_type": "code",
      "source": [
        "a,b=10,\"Python\"\n",
        "a,b=b,a\n",
        "print(a,b)"
      ],
      "metadata": {
        "id": "E434JlaOqfZh",
        "colab": {
          "base_uri": "https://localhost:8080/"
        },
        "outputId": "36d0b71b-79aa-4909-8af4-f9e49a05505f"
      },
      "execution_count": null,
      "outputs": [
        {
          "output_type": "stream",
          "name": "stdout",
          "text": [
            "Python 10\n"
          ]
        }
      ]
    },
    {
      "cell_type": "code",
      "source": [
        "## STRING LENGTH\n",
        "def strlen(str1):\n",
        "  count=0\n",
        "  for char in str1:\n",
        "    count+=1\n",
        "  return count\n",
        "print(strlen('pythonisgood'))"
      ],
      "metadata": {
        "colab": {
          "base_uri": "https://localhost:8080/"
        },
        "id": "RH8UGBw1TXBc",
        "outputId": "39c8b31e-6584-40d6-8c9e-2f8db598628f"
      },
      "execution_count": null,
      "outputs": [
        {
          "output_type": "stream",
          "name": "stdout",
          "text": [
            "12\n"
          ]
        }
      ]
    },
    {
      "cell_type": "code",
      "source": [
        "## FACTORIAL of a Number\n",
        "def factorial(n):\n",
        "  return 1 if (n==1 or n==0) else n * factorial(n - 1);\n",
        "num = 10;\n",
        "print(\"Factorial of\",num,\"is\",factorial(num))"
      ],
      "metadata": {
        "colab": {
          "base_uri": "https://localhost:8080/"
        },
        "id": "LjPyVcw0TXNT",
        "outputId": "f08c8692-35d7-4766-d39a-43fe949ebdba"
      },
      "execution_count": null,
      "outputs": [
        {
          "output_type": "stream",
          "name": "stdout",
          "text": [
            "Factorial of 10 is 3628800\n"
          ]
        }
      ]
    },
    {
      "cell_type": "code",
      "source": [
        "# Factorial of a Number (2)\n",
        "def factorial(n):\n",
        "    if n < 0:\n",
        "        return 0\n",
        "    elif n == 0 or n == 1:\n",
        "        return 1\n",
        "    else:\n",
        "        fact = 1\n",
        "        while(n > 1):\n",
        "            fact *= n\n",
        "            n -= 1\n",
        "        return fact\n",
        "\n",
        "# Driver Code\n",
        "num = 5;\n",
        "print(\"Factorial of\",num,\"is\",factorial(num))"
      ],
      "metadata": {
        "colab": {
          "base_uri": "https://localhost:8080/"
        },
        "id": "Z94Z4Hn2CAJ_",
        "outputId": "0be3cf87-4677-4072-e557-c25f9fd3afa1"
      },
      "execution_count": null,
      "outputs": [
        {
          "output_type": "stream",
          "name": "stdout",
          "text": [
            "Factorial of 5 is 120\n"
          ]
        }
      ]
    },
    {
      "cell_type": "code",
      "source": [
        "# Python program to find CONPOUND INTEREST:\n",
        "\n",
        "def compound_interest(principle, rate, time):\n",
        "\n",
        "    # Calculates compound interest\n",
        "    Amount = principle * (pow((1 + rate / 100), time))\n",
        "    CI = Amount - principle\n",
        "    print(\"Compound interest is\", CI)\n",
        "\n",
        "\n",
        "# Driver Code\n",
        "compound_interest(10000, 10.25, 5)"
      ],
      "metadata": {
        "id": "z7-i_nS5L4nw"
      },
      "execution_count": null,
      "outputs": []
    },
    {
      "cell_type": "code",
      "source": [
        "p= 1200\n",
        "t= 2\n",
        "r= 5\n",
        "a=p*(1+(r/100))**t  # formula for calculating amount\n",
        "ci=a-p              # compound interest = amount - principal amount\n",
        "print(ci)"
      ],
      "metadata": {
        "colab": {
          "base_uri": "https://localhost:8080/"
        },
        "id": "KU6TJIm_Su_C",
        "outputId": "28161b67-d255-44f6-a8ca-5c444b023359"
      },
      "execution_count": null,
      "outputs": [
        {
          "output_type": "stream",
          "name": "stdout",
          "text": [
            "123.0\n"
          ]
        }
      ]
    },
    {
      "cell_type": "code",
      "source": [
        "## AREA OF THE CIRCLE :\n",
        "def Area(r):\n",
        "    PI = 3.142\n",
        "    return PI * (r*r);\n",
        "\n",
        "# Driver method\n",
        "print(\"Area is %f\" % Area(10));"
      ],
      "metadata": {
        "colab": {
          "base_uri": "https://localhost:8080/"
        },
        "id": "6UvJxFM1a4Ab",
        "outputId": "6ce254f5-2c66-4bba-a88f-8f1bd5027f7f"
      },
      "execution_count": null,
      "outputs": [
        {
          "output_type": "stream",
          "name": "stdout",
          "text": [
            "Area is 314.200000\n"
          ]
        }
      ]
    },
    {
      "cell_type": "code",
      "source": [
        "def area(r):\n",
        " area = math.pi* pow(r,2)\n",
        " return print('Area of circle is:' ,area)\n",
        "area(4)"
      ],
      "metadata": {
        "colab": {
          "base_uri": "https://localhost:8080/"
        },
        "id": "Xo5KmPbOgO21",
        "outputId": "cf8ce1e5-6f2e-41e8-9f2f-faa2609d8ebb"
      },
      "execution_count": null,
      "outputs": [
        {
          "output_type": "stream",
          "name": "stdout",
          "text": [
            "Area of circle is: 50.26548245743669\n"
          ]
        }
      ]
    },
    {
      "cell_type": "code",
      "source": [
        "## HOMEWORK: To check if you can VOTE\n",
        "age=int(input(\"Enter your Age: \"))\n",
        "if 120>age>=18:\n",
        "  print(\"All the Best. You can VOTE for Humanity!\")\n",
        "elif age<18:\n",
        "  print(\"Kiddo!!Try again Next Time\")\n",
        "else:\n",
        "  print(\"Not a Valid age!! Are you an Alien??\")"
      ],
      "metadata": {
        "colab": {
          "base_uri": "https://localhost:8080/"
        },
        "id": "sehS1aFfgO68",
        "outputId": "60594f39-b7f1-4754-fdf6-de146bfd8390"
      },
      "execution_count": null,
      "outputs": [
        {
          "output_type": "stream",
          "name": "stdout",
          "text": [
            "Enter your Age: 121\n",
            "Not a Valid age!! Are you an Alien??\n"
          ]
        }
      ]
    },
    {
      "cell_type": "code",
      "source": [
        "## HOMEWORK: To check if you can VOTE\n",
        "age=input(\"Enter your Age: \")\n",
        "if age>=18:\n",
        "  print(\"All the Best. You can VOTE for Humanity!\")\n",
        "elif age<18:\n",
        "  print(\"Kiddo!!Try again Next Time\")\n",
        "else:\n",
        "  print(\"Not a Valid age!! Are you an Alien??\")"
      ],
      "metadata": {
        "colab": {
          "base_uri": "https://localhost:8080/",
          "height": 269
        },
        "id": "HSWdpe2Atief",
        "outputId": "375ee449-6deb-4319-9b00-9d7e4e7239b6"
      },
      "execution_count": null,
      "outputs": [
        {
          "name": "stdout",
          "output_type": "stream",
          "text": [
            "Enter your Age: hello\n"
          ]
        },
        {
          "output_type": "error",
          "ename": "TypeError",
          "evalue": "ignored",
          "traceback": [
            "\u001b[0;31m---------------------------------------------------------------------------\u001b[0m",
            "\u001b[0;31mTypeError\u001b[0m                                 Traceback (most recent call last)",
            "\u001b[0;32m<ipython-input-3-a8d6f2a85475>\u001b[0m in \u001b[0;36m<module>\u001b[0;34m\u001b[0m\n\u001b[1;32m      1\u001b[0m \u001b[0;31m## HOMEWORK: To check if you can VOTE\u001b[0m\u001b[0;34m\u001b[0m\u001b[0;34m\u001b[0m\u001b[0;34m\u001b[0m\u001b[0m\n\u001b[1;32m      2\u001b[0m \u001b[0mage\u001b[0m\u001b[0;34m=\u001b[0m\u001b[0minput\u001b[0m\u001b[0;34m(\u001b[0m\u001b[0;34m\"Enter your Age: \"\u001b[0m\u001b[0;34m)\u001b[0m\u001b[0;34m\u001b[0m\u001b[0;34m\u001b[0m\u001b[0m\n\u001b[0;32m----> 3\u001b[0;31m \u001b[0;32mif\u001b[0m \u001b[0;36m120\u001b[0m\u001b[0;34m>\u001b[0m\u001b[0mage\u001b[0m\u001b[0;34m>=\u001b[0m\u001b[0;36m18\u001b[0m\u001b[0;34m:\u001b[0m\u001b[0;34m\u001b[0m\u001b[0;34m\u001b[0m\u001b[0m\n\u001b[0m\u001b[1;32m      4\u001b[0m   \u001b[0mprint\u001b[0m\u001b[0;34m(\u001b[0m\u001b[0;34m\"All the Best. You can VOTE for Humanity!\"\u001b[0m\u001b[0;34m)\u001b[0m\u001b[0;34m\u001b[0m\u001b[0;34m\u001b[0m\u001b[0m\n\u001b[1;32m      5\u001b[0m \u001b[0;32melif\u001b[0m \u001b[0mage\u001b[0m\u001b[0;34m<\u001b[0m\u001b[0;36m18\u001b[0m\u001b[0;34m:\u001b[0m\u001b[0;34m\u001b[0m\u001b[0;34m\u001b[0m\u001b[0m\n",
            "\u001b[0;31mTypeError\u001b[0m: '>' not supported between instances of 'int' and 'str'"
          ]
        }
      ]
    },
    {
      "cell_type": "code",
      "source": [
        "thing=input(\"Enter the Thing: \")\n",
        "animal=input(\"Who the Animal you are: \")\n",
        "bread=input(\"Which BREAD you eat: \")\n",
        "if thing==\"animal\":\n",
        "  if animal==\"dog\":\n",
        "    if bread==\"brown\":\n",
        "      print(\"I like Brown Bread\")\n",
        "    else:\n",
        "      print(\"WooF..!! I like PeDiGrEE\")\n",
        "  else:\n",
        "    print(\"MeoW eats MoUsE\")\n",
        "else:\n",
        "  print(\"This is a hOOman!!\")"
      ],
      "metadata": {
        "colab": {
          "base_uri": "https://localhost:8080/"
        },
        "id": "_xJnEzOVti1E",
        "outputId": "911eb315-46c0-414d-cc5c-d4e21e6b66ba"
      },
      "execution_count": null,
      "outputs": [
        {
          "output_type": "stream",
          "name": "stdout",
          "text": [
            "Enter the Thing: car\n",
            "Who the Animal you are: car\n",
            "Which BREAD you eat: brown i will kill u\n",
            "This is a hOOman!!\n"
          ]
        }
      ]
    },
    {
      "cell_type": "code",
      "source": [
        "thing=input(\"Enter the Thing: \")\n",
        "animal=input(\"Who the Animal you are: \")\n",
        "bread=input(\"Which BREAD you eat: \")\n",
        "if thing==\"animal\":\n",
        "  if animal==\"dog\":\n",
        "    if bread==\"brown\":\n",
        "      print(\"I like Brown Bread\")\n",
        "    elif bread== \"pink\":\n",
        "      print(\"I like StraWBerry Short Cake\")\n",
        "    else:\n",
        "      print(\"WooF..!! I like PeDiGrEE\")\n",
        "  elif animal==\"parrot\":\n",
        "    print(\"I like cherries\")\n",
        "  else:\n",
        "    print(\"MeoW eats MoUsE\")\n",
        "else:\n",
        "  print(\"This is a hOOman!!\")"
      ],
      "metadata": {
        "id": "LNN_o8s1ao0Q",
        "colab": {
          "base_uri": "https://localhost:8080/"
        },
        "outputId": "0bf1329c-9db4-491f-f62f-0edbb6cc0e26"
      },
      "execution_count": null,
      "outputs": [
        {
          "output_type": "stream",
          "name": "stdout",
          "text": [
            "Enter the Thing: animal\n",
            "Who the Animal you are: parrot\n",
            "Which BREAD you eat: brown\n",
            "I like cherries\n"
          ]
        }
      ]
    },
    {
      "cell_type": "code",
      "source": [
        "#SORT & SORTED\n",
        "new=[2,4,3,9,1,6,10]\n",
        "new.sort()\n",
        "new"
      ],
      "metadata": {
        "id": "QUr9b9RZKvzL",
        "colab": {
          "base_uri": "https://localhost:8080/"
        },
        "outputId": "0d55fb78-7778-46e2-8ae2-4feba72e7d19"
      },
      "execution_count": null,
      "outputs": [
        {
          "output_type": "execute_result",
          "data": {
            "text/plain": [
              "[1, 2, 3, 4, 6, 9, 10]"
            ]
          },
          "metadata": {},
          "execution_count": 1
        }
      ]
    },
    {
      "cell_type": "code",
      "source": [
        "names=[\"abc\",\"pqr\",\"xyz\",\"lbw\",'hello',\"world\"]\n",
        "names.sort()\n",
        "names"
      ],
      "metadata": {
        "colab": {
          "base_uri": "https://localhost:8080/"
        },
        "id": "GMpR465zKcA2",
        "outputId": "4bb44f3c-831f-4932-abb6-834ce95d786c"
      },
      "execution_count": null,
      "outputs": [
        {
          "output_type": "execute_result",
          "data": {
            "text/plain": [
              "['abc', 'hello', 'lbw', 'pqr', 'world', 'xyz']"
            ]
          },
          "metadata": {},
          "execution_count": 6
        }
      ]
    },
    {
      "cell_type": "code",
      "source": [
        "sorted(\"hello world\")"
      ],
      "metadata": {
        "colab": {
          "base_uri": "https://localhost:8080/"
        },
        "id": "nzWp9JbeB7a8",
        "outputId": "cca11f5c-bb77-428c-c866-39819646ba7c"
      },
      "execution_count": null,
      "outputs": [
        {
          "output_type": "execute_result",
          "data": {
            "text/plain": [
              "[' ', 'd', 'e', 'h', 'l', 'l', 'l', 'o', 'o', 'r', 'w']"
            ]
          },
          "metadata": {},
          "execution_count": 2
        }
      ]
    },
    {
      "cell_type": "code",
      "source": [
        "x=\"My name is %s\"\n",
        "y=\"Princess_Aakanksha :)\"\n",
        "print(x%y)"
      ],
      "metadata": {
        "colab": {
          "base_uri": "https://localhost:8080/"
        },
        "id": "x5muTme2B7oO",
        "outputId": "b08a20b0-a77b-41fc-b442-04779814efb0"
      },
      "execution_count": null,
      "outputs": [
        {
          "output_type": "stream",
          "name": "stdout",
          "text": [
            "My name is Princess_Aakanksha :)\n"
          ]
        }
      ]
    },
    {
      "cell_type": "code",
      "source": [
        "# LAMBDA_FUNCTION: lambda functions are single line functions without any name\n",
        "#                  thats why they are called: Annonymus Functions\n",
        "\n",
        "double=lambda n:n*2\n",
        "print(double(10))"
      ],
      "metadata": {
        "colab": {
          "base_uri": "https://localhost:8080/"
        },
        "id": "88BzPnF7CCiu",
        "outputId": "ddc75165-0c6b-46ba-d627-852590e48349"
      },
      "execution_count": null,
      "outputs": [
        {
          "output_type": "stream",
          "name": "stdout",
          "text": [
            "20\n"
          ]
        }
      ]
    },
    {
      "cell_type": "code",
      "source": [
        "add= lambda x,y:x+y\n",
        "print(add(10,20))"
      ],
      "metadata": {
        "colab": {
          "base_uri": "https://localhost:8080/"
        },
        "id": "rJAQ0RASqxht",
        "outputId": "46beadad-9307-4617-ae3b-2453f00c3d16"
      },
      "execution_count": null,
      "outputs": [
        {
          "output_type": "stream",
          "name": "stdout",
          "text": [
            "30\n"
          ]
        }
      ]
    },
    {
      "cell_type": "code",
      "source": [
        "larger=lambda a,b:a if a>b else b\n",
        "print(larger(23,34))"
      ],
      "metadata": {
        "colab": {
          "base_uri": "https://localhost:8080/"
        },
        "id": "VsyJzOHbTu80",
        "outputId": "38ad3851-79a1-4b60-feea-e14f1527ec60"
      },
      "execution_count": null,
      "outputs": [
        {
          "output_type": "stream",
          "name": "stdout",
          "text": [
            "34\n"
          ]
        }
      ]
    },
    {
      "cell_type": "code",
      "source": [
        "names=[\"abc\",\"pqrs\",\"xyz12\",\"lbw\",'hello_13',\"1world\"]\n",
        "names.sort(key=lambda x:len(x))\n",
        "print(names)"
      ],
      "metadata": {
        "colab": {
          "base_uri": "https://localhost:8080/"
        },
        "id": "mif4qBVSUps_",
        "outputId": "2c79833a-a0d9-47e6-a486-eaa511bc262f"
      },
      "execution_count": null,
      "outputs": [
        {
          "output_type": "stream",
          "name": "stdout",
          "text": [
            "['abc', 'lbw', 'pqrs', 'xyz12', '1world', 'hello_13']\n"
          ]
        }
      ]
    },
    {
      "cell_type": "code",
      "source": [
        "#MAP Function\n",
        "n1=[2,3,4]\n",
        "n2=[3,4,5]\n",
        "sum=map(lambda num1,num2:num1+num2, n1,n2)\n",
        "print(list(sum))"
      ],
      "metadata": {
        "colab": {
          "base_uri": "https://localhost:8080/"
        },
        "id": "dbixyMWnWo2e",
        "outputId": "d62631fa-3224-4fd1-98e0-595930d376ad"
      },
      "execution_count": null,
      "outputs": [
        {
          "output_type": "stream",
          "name": "stdout",
          "text": [
            "[5, 7, 9]\n"
          ]
        }
      ]
    },
    {
      "cell_type": "code",
      "source": [
        "num=[2,3,4,5]\n",
        "sq_num=list(map(lambda n:n*2,num))\n",
        "print(sq_num)"
      ],
      "metadata": {
        "colab": {
          "base_uri": "https://localhost:8080/"
        },
        "id": "lFbxvdQ5sOXv",
        "outputId": "628873c2-3ad6-4b51-cb0c-b5bf7e1e8155"
      },
      "execution_count": null,
      "outputs": [
        {
          "output_type": "stream",
          "name": "stdout",
          "text": [
            "[4, 6, 8, 10]\n"
          ]
        }
      ]
    },
    {
      "cell_type": "code",
      "source": [
        "##  SORT  &  Sorted\n",
        "\n",
        "x=[2,6,9,4,7,3,1]\n",
        "x.sort()\n",
        "print (x)"
      ],
      "metadata": {
        "colab": {
          "base_uri": "https://localhost:8080/"
        },
        "id": "bWv3oaHNIm3o",
        "outputId": "a672de89-9e43-44a6-a675-907c6f3cdd88"
      },
      "execution_count": null,
      "outputs": [
        {
          "output_type": "stream",
          "name": "stdout",
          "text": [
            "[1, 2, 3, 4, 6, 7, 9]\n"
          ]
        }
      ]
    },
    {
      "cell_type": "code",
      "source": [
        "x=[2,6,9,4,7,3,1]\n",
        "print (sorted(x))"
      ],
      "metadata": {
        "colab": {
          "base_uri": "https://localhost:8080/"
        },
        "id": "4WfB43PxI9fj",
        "outputId": "529794b4-380c-44d5-fbea-ad9233cf5b74"
      },
      "execution_count": null,
      "outputs": [
        {
          "output_type": "stream",
          "name": "stdout",
          "text": [
            "[1, 2, 3, 4, 6, 7, 9]\n"
          ]
        }
      ]
    },
    {
      "cell_type": "code",
      "source": [
        "#  ZIP Function\n",
        "first=[\"Princess\",'baby','sone']\n",
        "last=[\"Aakanksha\",'doll',\"ki\"]\n",
        "name=zip(first,last)\n",
        "for a,b in name:\n",
        "  print (a,b)"
      ],
      "metadata": {
        "colab": {
          "base_uri": "https://localhost:8080/"
        },
        "id": "2aNXlaIVJbzW",
        "outputId": "ad733a45-a7ba-4b27-8dae-5f23df82ba4a"
      },
      "execution_count": null,
      "outputs": [
        {
          "output_type": "stream",
          "name": "stdout",
          "text": [
            "Princess Aakanksha\n",
            "baby doll\n",
            "sone ki\n"
          ]
        }
      ]
    },
    {
      "cell_type": "code",
      "source": [
        "#Homework\n",
        "\n",
        "first=[\"Princess\",'baby','sone']\n",
        "last=[\"Aakanksha\",'doll',\"ki\"]\n",
        "last2=[\"hello\",\"world\",\"ok\"]\n",
        "name=zip(first,last,last2)\n",
        "for a,b,c in name:\n",
        "  print (a,b,c)"
      ],
      "metadata": {
        "colab": {
          "base_uri": "https://localhost:8080/"
        },
        "id": "ooxYKnMfJb1h",
        "outputId": "f77a4aef-216b-4677-f299-c8ca5d389e49"
      },
      "execution_count": null,
      "outputs": [
        {
          "output_type": "stream",
          "name": "stdout",
          "text": [
            "Princess Aakanksha hello\n",
            "baby doll world\n",
            "sone ki ok\n"
          ]
        }
      ]
    },
    {
      "cell_type": "code",
      "source": [
        "#Unpack_List\n",
        "name,clas,roll=[\"Aakanksha\",\"Google\",\"akankshag\"]\n",
        "print(roll)"
      ],
      "metadata": {
        "colab": {
          "base_uri": "https://localhost:8080/"
        },
        "id": "e-KV1hRZME0m",
        "outputId": "e7a20ceb-2176-4399-f913-30742e1b8fd3"
      },
      "execution_count": null,
      "outputs": [
        {
          "output_type": "stream",
          "name": "stdout",
          "text": [
            "akankshag\n"
          ]
        }
      ]
    },
    {
      "cell_type": "code",
      "source": [
        "print(clas)"
      ],
      "metadata": {
        "colab": {
          "base_uri": "https://localhost:8080/"
        },
        "id": "FLc8--KzME8p",
        "outputId": "d689e5ba-9710-4be2-82b0-fdd69134df69"
      },
      "execution_count": null,
      "outputs": [
        {
          "output_type": "stream",
          "name": "stdout",
          "text": [
            "Google\n"
          ]
        }
      ]
    },
    {
      "cell_type": "code",
      "source": [
        "# def_Function:  Nested_Function\n",
        "def school():\n",
        "  print(\"place to learn\")\n",
        "  garden()\n",
        "def park():\n",
        "    print(\"place to play\")\n",
        "    market()\n",
        "def market():\n",
        "  print(\"place to shop\")\n",
        "def garden():\n",
        "    print(\"place to grow plants\")"
      ],
      "metadata": {
        "id": "g2fh6qwAz6iJ"
      },
      "execution_count": null,
      "outputs": []
    },
    {
      "cell_type": "code",
      "source": [
        "school()"
      ],
      "metadata": {
        "colab": {
          "base_uri": "https://localhost:8080/"
        },
        "id": "A3dVxM3z1RFl",
        "outputId": "72ae7091-ee38-4820-f99b-d9f4c203328a"
      },
      "execution_count": null,
      "outputs": [
        {
          "output_type": "stream",
          "name": "stdout",
          "text": [
            "place to learn\n",
            "place to grow plants\n"
          ]
        }
      ]
    },
    {
      "cell_type": "code",
      "source": [
        "park()"
      ],
      "metadata": {
        "colab": {
          "base_uri": "https://localhost:8080/"
        },
        "id": "gKCVSI6o1ROH",
        "outputId": "4b0d7ba9-629e-4b54-a164-8c5abba83169"
      },
      "execution_count": null,
      "outputs": [
        {
          "output_type": "stream",
          "name": "stdout",
          "text": [
            "place to play\n",
            "place to shop\n"
          ]
        }
      ]
    },
    {
      "cell_type": "code",
      "source": [
        "# HOMEWORK: def function: Currency_Convertor\n",
        "def dollar_to_rupee(d):\n",
        "  amount= d*82.42\n",
        "  print(amount)\n",
        "\n",
        "def euro_to_rupee(d):\n",
        "  amount= d*86.88\n",
        "  print(amount)\n",
        "\n",
        "def dinar_to_rupee(d):\n",
        "  amount= d*269.04\n",
        "  print(amount)\n",
        "\n",
        "def pound_to_rupee(d):\n",
        "  amount= d*101.10\n",
        "  print(amount)"
      ],
      "metadata": {
        "id": "erTG_ETE13d1"
      },
      "execution_count": null,
      "outputs": []
    },
    {
      "cell_type": "code",
      "source": [
        "dollar_to_rupee(10)"
      ],
      "metadata": {
        "colab": {
          "base_uri": "https://localhost:8080/"
        },
        "id": "4zQsSvoyTSgx",
        "outputId": "980c8402-841a-48b6-ee78-ce3d0cfee432"
      },
      "execution_count": null,
      "outputs": [
        {
          "output_type": "stream",
          "name": "stdout",
          "text": [
            "824.2\n"
          ]
        }
      ]
    },
    {
      "cell_type": "code",
      "source": [
        "pound_to_rupee(10)"
      ],
      "metadata": {
        "colab": {
          "base_uri": "https://localhost:8080/"
        },
        "id": "chZn7Nz6Twek",
        "outputId": "e97efbe7-5c1f-4d87-d5ab-c9efecd61b57"
      },
      "execution_count": null,
      "outputs": [
        {
          "output_type": "stream",
          "name": "stdout",
          "text": [
            "1011.0\n"
          ]
        }
      ]
    },
    {
      "cell_type": "code",
      "source": [
        "## Keyword_Arguments\n",
        "def routine(name=\"I\", action=\"love\", thing=\"chocolates\"):\n",
        "  print(name,action,thing)\n",
        "routine()"
      ],
      "metadata": {
        "colab": {
          "base_uri": "https://localhost:8080/"
        },
        "id": "ZuTXj5NST2dz",
        "outputId": "b919a4d1-f280-4b71-ceb7-b0b7004bd2fd"
      },
      "execution_count": null,
      "outputs": [
        {
          "output_type": "stream",
          "name": "stdout",
          "text": [
            "I love chocolates\n"
          ]
        }
      ]
    },
    {
      "cell_type": "code",
      "source": [
        "# Unpack_Arguments\n",
        "## HEALTH_CALCULATOR\n",
        "def health_cal(age,apple_ate,cigarette_smoked):\n",
        "  answer=(100-age)+(apple_ate*3)+(cigarette_smoked*2)\n",
        "  print (answer)"
      ],
      "metadata": {
        "id": "jFEqDYnhT2js"
      },
      "execution_count": null,
      "outputs": []
    },
    {
      "cell_type": "code",
      "source": [
        "Harry_Data=(25,2,2)\n",
        "print(health_cal(*Harry_Data))"
      ],
      "metadata": {
        "colab": {
          "base_uri": "https://localhost:8080/"
        },
        "id": "QiXsE3VKceU9",
        "outputId": "a28d443e-1a87-458b-9ac9-9cb9d2fc1cc5"
      },
      "execution_count": null,
      "outputs": [
        {
          "output_type": "stream",
          "name": "stdout",
          "text": [
            "85\n",
            "None\n"
          ]
        }
      ]
    },
    {
      "cell_type": "code",
      "source": [
        "class Train:\n",
        "    def _init_ (self,name,fare,seat):\n",
        "        self.name = name\n",
        "        self.seat = seat\n",
        "        self.fare = fare\n",
        "\n",
        "    def status(self):\n",
        "        print(f\"the name of the train is {self.name} and the availabilty of train is {self.seat}\")\n",
        "    def farechk(self):\n",
        "        print(f\"the fare of the train is {self.fare}\")\n",
        "\n",
        "    def book_tickets(self):\n",
        "\n",
        "        n=int(input(\"how many ticets your wanted to book\\n\"))\n",
        "        print(\"oh no\")\n",
        "        if (self.seat >= n):\n",
        "            print(\"your Seat is booked\")\n",
        "            self.seat = self.seat- n\n",
        "        else:\n",
        "            print(\"Sorry train s fully booked\")\n",
        "    def cancle(self):\n",
        "        x=int(input(\"how many Tickets you wanted to cancle\\n\"))\n",
        "        print(\"your %d seat is cancled\" %x)\n",
        "        self.seat = self.seat+x;"
      ],
      "metadata": {
        "id": "YmQOEmQ-dCTV"
      },
      "execution_count": null,
      "outputs": []
    },
    {
      "cell_type": "code",
      "source": [
        "from datetime import datetime\n",
        "now = datetime.now()\n",
        "\n",
        "now\n",
        "datetime(2022, 11, 22, 14, 31, 59, 331225)\n",
        "\n",
        "print(now)"
      ],
      "metadata": {
        "colab": {
          "base_uri": "https://localhost:8080/"
        },
        "id": "oVWdcohyqweq",
        "outputId": "1297845f-a71e-4579-e690-6f6ca5a9625b"
      },
      "execution_count": null,
      "outputs": [
        {
          "output_type": "stream",
          "name": "stdout",
          "text": [
            "2022-12-14 03:26:46.784566\n"
          ]
        }
      ]
    },
    {
      "cell_type": "code",
      "source": [
        "##ROMAN_to_English_Numbers\n",
        "\n",
        "class Solution(object):\n",
        "   def romanToInt(self, s):\n",
        "      \"\"\"\n",
        "      :type s: str\n",
        "      :rtype: int\n",
        "      \"\"\"\n",
        "      roman = {'I':1,'V':5,'X':10,'L':50,'C':100,'D':500,'M':1000,'IV':4,'IX':9,'XL':40,'XC':90,'CD':400,'CM':900}\n",
        "      i = 0\n",
        "      num = 0\n",
        "      while i < len(s):\n",
        "         if i+1<len(s) and s[i:i+2] in roman:\n",
        "            num+=roman[s[i:i+2]]\n",
        "            i+=2\n",
        "         else:\n",
        "            #print(i)\n",
        "            num+=roman[s[i]]\n",
        "            i+=1\n",
        "      return num\n",
        "ob1 = Solution()\n",
        "print(ob1.romanToInt(\"III\"))\n",
        "print(ob1.romanToInt(\"LVIII\"))\n",
        "print(ob1.romanToInt(\"MCMXCIV\"))"
      ],
      "metadata": {
        "colab": {
          "base_uri": "https://localhost:8080/"
        },
        "id": "oT74DIh_KwUj",
        "outputId": "bf3ac6f3-c38c-43dc-d188-eb98b52aeb4d"
      },
      "execution_count": null,
      "outputs": [
        {
          "output_type": "stream",
          "name": "stdout",
          "text": [
            "3\n",
            "58\n",
            "1994\n"
          ]
        }
      ]
    },
    {
      "cell_type": "code",
      "source": [
        "##PYTHON Functions\n",
        "a=4\n",
        "b=5\n",
        "c=sum((a,b))\n",
        "print (c)"
      ],
      "metadata": {
        "colab": {
          "base_uri": "https://localhost:8080/"
        },
        "id": "1HZPwiTzKwbb",
        "outputId": "05985163-4a8b-448f-fcff-a6563e243736"
      },
      "execution_count": null,
      "outputs": [
        {
          "output_type": "stream",
          "name": "stdout",
          "text": [
            "9\n"
          ]
        }
      ]
    },
    {
      "cell_type": "code",
      "source": [
        "#SORTING\n",
        "list1=[1,3,2,8,5,9,4,6]\n",
        "list1.sort\n",
        "print(list1)"
      ],
      "metadata": {
        "colab": {
          "base_uri": "https://localhost:8080/"
        },
        "id": "78O_YSC-AG2-",
        "outputId": "bf575964-9eec-4fb5-dde0-987014ba879e"
      },
      "execution_count": null,
      "outputs": [
        {
          "output_type": "stream",
          "name": "stdout",
          "text": [
            "[1, 3, 2, 8, 5, 9, 4, 6]\n"
          ]
        }
      ]
    },
    {
      "cell_type": "code",
      "source": [
        "list1=[1,3,2,8,5,9,4,6]\n",
        "list1.sort(reverse=True)\n",
        "print(list1)"
      ],
      "metadata": {
        "colab": {
          "base_uri": "https://localhost:8080/"
        },
        "id": "VAS-h5MYAHMH",
        "outputId": "f2d17a59-8f55-4524-e70c-a9b037565523"
      },
      "execution_count": null,
      "outputs": [
        {
          "output_type": "stream",
          "name": "stdout",
          "text": [
            "[9, 8, 6, 5, 4, 3, 2, 1]\n"
          ]
        }
      ]
    },
    {
      "cell_type": "code",
      "source": [
        "print(dir(__builtin__))"
      ],
      "metadata": {
        "colab": {
          "base_uri": "https://localhost:8080/"
        },
        "id": "qSL7se_EBbKs",
        "outputId": "f6740561-b259-4721-cb8e-a6797ef8e97c"
      },
      "execution_count": null,
      "outputs": [
        {
          "output_type": "stream",
          "name": "stdout",
          "text": [
            "['ArithmeticError', 'AssertionError', 'AttributeError', 'BaseException', 'BlockingIOError', 'BrokenPipeError', 'BufferError', 'BytesWarning', 'ChildProcessError', 'ConnectionAbortedError', 'ConnectionError', 'ConnectionRefusedError', 'ConnectionResetError', 'DeprecationWarning', 'EOFError', 'Ellipsis', 'EnvironmentError', 'Exception', 'False', 'FileExistsError', 'FileNotFoundError', 'FloatingPointError', 'FutureWarning', 'GeneratorExit', 'IOError', 'ImportError', 'ImportWarning', 'IndentationError', 'IndexError', 'InterruptedError', 'IsADirectoryError', 'KeyError', 'KeyboardInterrupt', 'LookupError', 'MemoryError', 'ModuleNotFoundError', 'NameError', 'None', 'NotADirectoryError', 'NotImplemented', 'NotImplementedError', 'OSError', 'OverflowError', 'PendingDeprecationWarning', 'PermissionError', 'ProcessLookupError', 'RecursionError', 'ReferenceError', 'ResourceWarning', 'RuntimeError', 'RuntimeWarning', 'StopAsyncIteration', 'StopIteration', 'SyntaxError', 'SyntaxWarning', 'SystemError', 'SystemExit', 'TabError', 'TimeoutError', 'True', 'TypeError', 'UnboundLocalError', 'UnicodeDecodeError', 'UnicodeEncodeError', 'UnicodeError', 'UnicodeTranslateError', 'UnicodeWarning', 'UserWarning', 'ValueError', 'Warning', 'ZeroDivisionError', '__IPYTHON__', '__build_class__', '__debug__', '__doc__', '__import__', '__loader__', '__name__', '__package__', '__spec__', 'abs', 'all', 'any', 'ascii', 'bin', 'bool', 'breakpoint', 'bytearray', 'bytes', 'callable', 'chr', 'classmethod', 'compile', 'complex', 'copyright', 'credits', 'delattr', 'dict', 'dir', 'display', 'divmod', 'enumerate', 'eval', 'exec', 'execfile', 'filter', 'float', 'format', 'frozenset', 'get_ipython', 'getattr', 'globals', 'hasattr', 'hash', 'help', 'hex', 'id', 'input', 'int', 'isinstance', 'issubclass', 'iter', 'len', 'license', 'list', 'locals', 'map', 'max', 'memoryview', 'min', 'next', 'object', 'oct', 'open', 'ord', 'pow', 'print', 'property', 'range', 'repr', 'reversed', 'round', 'runfile', 'set', 'setattr', 'slice', 'sorted', 'staticmethod', 'str', 'sum', 'super', 'tuple', 'type', 'vars', 'zip']\n"
          ]
        }
      ]
    },
    {
      "cell_type": "code",
      "source": [
        "print(len(dir(__builtin__)))"
      ],
      "metadata": {
        "colab": {
          "base_uri": "https://localhost:8080/"
        },
        "id": "Gpii4S_CB1YN",
        "outputId": "829a53b2-0ee4-40bc-8798-9c7b69b056d0"
      },
      "execution_count": null,
      "outputs": [
        {
          "output_type": "stream",
          "name": "stdout",
          "text": [
            "155\n"
          ]
        }
      ]
    },
    {
      "cell_type": "code",
      "source": [
        "#AVERAGE\n",
        "n1=int(input(\"enter the first number: \"))\n",
        "n2=int(input(\"enter the second number: \"))\n",
        "def average(n1,n2):\n",
        "  avg=(n1+n2)/2\n",
        "  return avg\n",
        "print(average(n1,n2))"
      ],
      "metadata": {
        "colab": {
          "base_uri": "https://localhost:8080/"
        },
        "id": "QP6iyLQJCtFF",
        "outputId": "80bf5aa9-a6c5-43ef-e533-5986d5673b24"
      },
      "execution_count": null,
      "outputs": [
        {
          "output_type": "stream",
          "name": "stdout",
          "text": [
            "enter the first number: 12\n",
            "enter the second number: 14\n",
            "13.0\n"
          ]
        }
      ]
    },
    {
      "cell_type": "code",
      "source": [
        "def name(fname,lname):\n",
        "  print(f'my first name is {fname} and my last name is {lname}')\n",
        "name(\"Princess\", \"Aakanksha\")"
      ],
      "metadata": {
        "colab": {
          "base_uri": "https://localhost:8080/"
        },
        "id": "bmv7WROIE8Cf",
        "outputId": "dba2355d-58d2-41d3-e4c3-c97c2f6b1d5a"
      },
      "execution_count": null,
      "outputs": [
        {
          "output_type": "stream",
          "name": "stdout",
          "text": [
            "my first name is Princess and my last name is Aakanksha\n"
          ]
        }
      ]
    },
    {
      "cell_type": "code",
      "source": [
        "##SETS##\n",
        "##There are 2 ways we can show the SETS\n",
        "\n",
        "a={1, 2.5, \"Hello\"}\n",
        "print(a)\n",
        "print(type(a))"
      ],
      "metadata": {
        "id": "z1oUnVTSIIWE",
        "outputId": "ea179fb0-bfb7-4894-a00f-4fc1a6bab76d",
        "colab": {
          "base_uri": "https://localhost:8080/"
        }
      },
      "execution_count": null,
      "outputs": [
        {
          "output_type": "stream",
          "name": "stdout",
          "text": [
            "{1, 2.5, 'Hello'}\n",
            "<class 'set'>\n"
          ]
        }
      ]
    },
    {
      "cell_type": "code",
      "source": [
        "b=set([2,3.5,\"World\"])\n",
        "print(b)\n",
        "print(type(b))"
      ],
      "metadata": {
        "colab": {
          "base_uri": "https://localhost:8080/"
        },
        "id": "qK3w4ojE04Ji",
        "outputId": "c3c814ff-4d27-4cd3-f2aa-40f92bd948ca"
      },
      "execution_count": null,
      "outputs": [
        {
          "output_type": "stream",
          "name": "stdout",
          "text": [
            "{2, 3.5, 'World'}\n",
            "<class 'set'>\n"
          ]
        }
      ]
    },
    {
      "cell_type": "code",
      "source": [
        "###  SETS: 1. Unordered elemts\n",
        "     #     2. Duplicate values can't be present\n",
        "     #     3. Elements are not eindexed\n",
        "     #     4. {}, set constructors:-  'set([])'"
      ],
      "metadata": {
        "id": "L7cKua8_1Uhe"
      },
      "execution_count": null,
      "outputs": []
    },
    {
      "cell_type": "code",
      "source": [
        "c={2,5,7,\"a\", 5,\"q\",2.5,5}    # Duplicate values can't be present\n",
        "print(c)"
      ],
      "metadata": {
        "colab": {
          "base_uri": "https://localhost:8080/"
        },
        "id": "ftWy_EnF1-2m",
        "outputId": "55020bf7-60be-42d0-c48e-9cf9d60e6e89"
      },
      "execution_count": null,
      "outputs": [
        {
          "output_type": "stream",
          "name": "stdout",
          "text": [
            "{2, 'a', 2.5, 5, 7, 'q'}\n"
          ]
        }
      ]
    },
    {
      "cell_type": "code",
      "source": [
        "e={1,2.5,4,7,8.9,\"Hello\",\"World\"}\n",
        "print (e)\n",
        "for i in e:\n",
        "  print(i)"
      ],
      "metadata": {
        "colab": {
          "base_uri": "https://localhost:8080/"
        },
        "id": "f2in2frk2iRc",
        "outputId": "c9c97327-29eb-4ef4-f177-334adcb83b8d"
      },
      "execution_count": null,
      "outputs": [
        {
          "output_type": "stream",
          "name": "stdout",
          "text": [
            "{1, 2.5, 'World', 4, 7, 8.9, 'Hello'}\n",
            "1\n",
            "2.5\n",
            "World\n",
            "4\n",
            "7\n",
            "8.9\n",
            "Hello\n"
          ]
        }
      ]
    },
    {
      "cell_type": "code",
      "source": [
        "print(\"Hello\" in e)"
      ],
      "metadata": {
        "colab": {
          "base_uri": "https://localhost:8080/"
        },
        "id": "jUnG8zfh7EIL",
        "outputId": "d31b4574-984e-4e00-f8ac-eea63659d6e4"
      },
      "execution_count": null,
      "outputs": [
        {
          "output_type": "stream",
          "name": "stdout",
          "text": [
            "True\n"
          ]
        }
      ]
    },
    {
      "cell_type": "code",
      "source": [
        "print(\"Human\" in e)"
      ],
      "metadata": {
        "colab": {
          "base_uri": "https://localhost:8080/"
        },
        "id": "irEWDI-c8EDk",
        "outputId": "1a1f1872-cb71-40df-df9e-30a1af11e5e2"
      },
      "execution_count": null,
      "outputs": [
        {
          "output_type": "stream",
          "name": "stdout",
          "text": [
            "False\n"
          ]
        }
      ]
    },
    {
      "cell_type": "code",
      "source": [
        "l1=[2,4,6,2,6,2,7,8]  ## It has duplicate values:it is a LIST\n",
        "print(l1)"
      ],
      "metadata": {
        "colab": {
          "base_uri": "https://localhost:8080/"
        },
        "id": "yH9_Z21c8IEj",
        "outputId": "241e6810-b3db-4f83-bfcc-4f63194ce708"
      },
      "execution_count": null,
      "outputs": [
        {
          "output_type": "stream",
          "name": "stdout",
          "text": [
            "[2, 4, 6, 2, 6, 2, 7, 8]\n"
          ]
        }
      ]
    },
    {
      "cell_type": "code",
      "source": [
        "ab=set(l1)     ## Here duplicate values are removed: it is converted into SET\n",
        "print(ab)"
      ],
      "metadata": {
        "colab": {
          "base_uri": "https://localhost:8080/"
        },
        "id": "xlQLvN5ae8Sg",
        "outputId": "999b6fbf-1e96-43ad-f3ac-5163145b74e8"
      },
      "execution_count": null,
      "outputs": [
        {
          "output_type": "stream",
          "name": "stdout",
          "text": [
            "{2, 4, 6, 7, 8}\n"
          ]
        }
      ]
    },
    {
      "cell_type": "code",
      "source": [
        "## to ADD SINGLE element\n",
        "e={1,2.5,4,7,8.9,\"Hello\",\"World\"}\n",
        "e.add(108)\n",
        "print(e)"
      ],
      "metadata": {
        "colab": {
          "base_uri": "https://localhost:8080/"
        },
        "id": "Z_cSGOUvfs9s",
        "outputId": "4641de72-68ec-4fb0-9fc0-febdb4bc0703"
      },
      "execution_count": null,
      "outputs": [
        {
          "output_type": "stream",
          "name": "stdout",
          "text": [
            "{1, 2.5, 4, 7, 8.9, 'World', 108, 'Hello'}\n"
          ]
        }
      ]
    },
    {
      "cell_type": "code",
      "source": [
        "## to ADD MULTIPLE values\n",
        "e={1,2.5,4,7,8.9,\"Hello\",\"World\"}\n",
        "e.update([13,5,\"Cool\"])\n",
        "print(e)"
      ],
      "metadata": {
        "colab": {
          "base_uri": "https://localhost:8080/"
        },
        "id": "O_7EvfMFftQO",
        "outputId": "eedf6af9-9542-4ba0-a0db-28e02810d9c4"
      },
      "execution_count": null,
      "outputs": [
        {
          "output_type": "stream",
          "name": "stdout",
          "text": [
            "{1, 2.5, 4, 5, 7, 8.9, 'World', 13, 'Cool', 'Hello'}\n"
          ]
        }
      ]
    },
    {
      "cell_type": "code",
      "source": [
        "##  to add Single value, it takes as a TUPPLE and\n",
        "##  to add Multiple values, it takes it as a LIST"
      ],
      "metadata": {
        "id": "XhNKY85chll7"
      },
      "execution_count": null,
      "outputs": []
    },
    {
      "cell_type": "code",
      "source": [
        "##  REMOVE a value\n",
        "e={1, 2.5, 4, 5, 7, 8.9, 'World', 13, 'Cool', 'Hello'}\n",
        "e.remove(\"Cool\")\n",
        "print(e)"
      ],
      "metadata": {
        "colab": {
          "base_uri": "https://localhost:8080/"
        },
        "id": "u3Ir2TkZgzRF",
        "outputId": "df74fb51-c0a0-4d5e-d43b-f26ca5dcc9b5"
      },
      "execution_count": null,
      "outputs": [
        {
          "output_type": "stream",
          "name": "stdout",
          "text": [
            "{1, 2.5, 4, 5, 7, 8.9, 'World', 13, 'Hello'}\n"
          ]
        }
      ]
    },
    {
      "cell_type": "code",
      "source": [
        "#  POP :  It will randimly removes ANY element\n",
        "e={1, 2.5, 4, 5, 7, 8.9, 'World', 13, 'Cool', 'Hello'}\n",
        "e.pop()\n",
        "print(e)"
      ],
      "metadata": {
        "colab": {
          "base_uri": "https://localhost:8080/"
        },
        "id": "Jm4SSsGugzTQ",
        "outputId": "553af8f9-9c0a-451a-832d-eb4918f301b0"
      },
      "execution_count": null,
      "outputs": [
        {
          "output_type": "stream",
          "name": "stdout",
          "text": [
            "{2.5, 4, 5, 7, 8.9, 'World', 13, 'Cool', 'Hello'}\n"
          ]
        }
      ]
    },
    {
      "cell_type": "code",
      "source": [
        "### TUPLES:  1. Immutable Datatypes\n",
        "     #       2. Denoted with ()\n",
        "     #       3. Tuples if created with single element, need to have coma ',' in it\n",
        "     #       4. Can be cerated wih mixed set of Datatypes\n",
        "     #       5. Can be Indexed"
      ],
      "metadata": {
        "id": "Sde3aFCAjkOG"
      },
      "execution_count": null,
      "outputs": []
    },
    {
      "cell_type": "code",
      "source": [
        "t=(13)\n",
        "print(type(t))"
      ],
      "metadata": {
        "id": "-1jLI75GjkXG",
        "colab": {
          "base_uri": "https://localhost:8080/"
        },
        "outputId": "5b2bd01e-df43-44e9-dbd3-73b0db512e84"
      },
      "execution_count": null,
      "outputs": [
        {
          "output_type": "stream",
          "name": "stdout",
          "text": [
            "<class 'int'>\n"
          ]
        }
      ]
    },
    {
      "cell_type": "code",
      "source": [
        "t=(13,)         ## Tuples with single element, need to have coma ',' in it\n",
        "print(type(t))"
      ],
      "metadata": {
        "colab": {
          "base_uri": "https://localhost:8080/"
        },
        "id": "Xjw07Zr5q7vu",
        "outputId": "59e01ff1-a059-4b56-f946-349b35b2c22d"
      },
      "execution_count": null,
      "outputs": [
        {
          "output_type": "stream",
          "name": "stdout",
          "text": [
            "<class 'tuple'>\n"
          ]
        }
      ]
    },
    {
      "cell_type": "code",
      "source": [
        "tu=(1,1.3,\"abc\")   ## Can be cerated wih mixed set of Datatypes\n",
        "print(type(tu))\n",
        "print(tu)"
      ],
      "metadata": {
        "colab": {
          "base_uri": "https://localhost:8080/"
        },
        "id": "sLI7NVjgrIHe",
        "outputId": "8c6534d6-3fff-412e-e981-a4fc0ea6c9a3"
      },
      "execution_count": null,
      "outputs": [
        {
          "output_type": "stream",
          "name": "stdout",
          "text": [
            "<class 'tuple'>\n",
            "(1, 1.3, 'abc')\n"
          ]
        }
      ]
    },
    {
      "cell_type": "code",
      "source": [
        "tu=(1,1.3,\"abc\")   ## Can be Indexed\n",
        "print(tu[1])"
      ],
      "metadata": {
        "colab": {
          "base_uri": "https://localhost:8080/"
        },
        "id": "yDfh1yNhrIJ5",
        "outputId": "1d164bb1-c782-4ab1-995d-ad11c1eb4e69"
      },
      "execution_count": null,
      "outputs": [
        {
          "output_type": "stream",
          "name": "stdout",
          "text": [
            "1.3\n"
          ]
        }
      ]
    },
    {
      "cell_type": "code",
      "source": [
        "tu[1]=1   ## Immutable Datatypes :does not support item assignment"
      ],
      "metadata": {
        "colab": {
          "base_uri": "https://localhost:8080/",
          "height": 175
        },
        "id": "T_hzaSX-sPYG",
        "outputId": "e6cd3165-4453-49a0-b354-75a2fdddc4eb"
      },
      "execution_count": null,
      "outputs": [
        {
          "output_type": "error",
          "ename": "TypeError",
          "evalue": "ignored",
          "traceback": [
            "\u001b[0;31m---------------------------------------------------------------------------\u001b[0m",
            "\u001b[0;31mTypeError\u001b[0m                                 Traceback (most recent call last)",
            "\u001b[0;32m<ipython-input-6-c6dd6f317ca7>\u001b[0m in \u001b[0;36m<module>\u001b[0;34m\u001b[0m\n\u001b[0;32m----> 1\u001b[0;31m \u001b[0mtu\u001b[0m\u001b[0;34m[\u001b[0m\u001b[0;36m1\u001b[0m\u001b[0;34m]\u001b[0m\u001b[0;34m=\u001b[0m\u001b[0;36m1\u001b[0m\u001b[0;34m\u001b[0m\u001b[0;34m\u001b[0m\u001b[0m\n\u001b[0m",
            "\u001b[0;31mTypeError\u001b[0m: 'tuple' object does not support item assignment"
          ]
        }
      ]
    },
    {
      "cell_type": "code",
      "source": [
        "# Methods: COUNT\n",
        "tu1=(1,2,4,6,7,4,\"Hello\",4,\"World\")\n",
        "print(tu1.count(4))"
      ],
      "metadata": {
        "colab": {
          "base_uri": "https://localhost:8080/"
        },
        "id": "mjryXskRtGEj",
        "outputId": "1e4a4749-3297-4394-dcd6-5a67382323c7"
      },
      "execution_count": null,
      "outputs": [
        {
          "output_type": "stream",
          "name": "stdout",
          "text": [
            "3\n"
          ]
        }
      ]
    },
    {
      "cell_type": "code",
      "source": [
        "#Methods: LENGTH\n",
        "print(len(tu1))"
      ],
      "metadata": {
        "colab": {
          "base_uri": "https://localhost:8080/"
        },
        "id": "aTB3ikXFtGPM",
        "outputId": "e5a4cf94-b71f-4e49-a73d-d5362b659db9"
      },
      "execution_count": null,
      "outputs": [
        {
          "output_type": "stream",
          "name": "stdout",
          "text": [
            "9\n"
          ]
        }
      ]
    },
    {
      "cell_type": "code",
      "source": [
        "#Methods:INDEX\n",
        "print(tu1.index(4))    ## will give the 1st index position of that element"
      ],
      "metadata": {
        "colab": {
          "base_uri": "https://localhost:8080/"
        },
        "id": "-WGO5QOeuEgF",
        "outputId": "d916338b-894e-48d9-e485-3cff79df812e"
      },
      "execution_count": null,
      "outputs": [
        {
          "output_type": "stream",
          "name": "stdout",
          "text": [
            "2\n"
          ]
        }
      ]
    },
    {
      "cell_type": "code",
      "source": [
        "#Methods: DELETE\n",
        "del tu1\n",
        "print(tu1)"
      ],
      "metadata": {
        "colab": {
          "base_uri": "https://localhost:8080/",
          "height": 213
        },
        "id": "uwJztakNvvoY",
        "outputId": "1b4dc6c9-dd70-40ae-f2a9-7d7ab09ea56e"
      },
      "execution_count": null,
      "outputs": [
        {
          "output_type": "error",
          "ename": "NameError",
          "evalue": "ignored",
          "traceback": [
            "\u001b[0;31m---------------------------------------------------------------------------\u001b[0m",
            "\u001b[0;31mNameError\u001b[0m                                 Traceback (most recent call last)",
            "\u001b[0;32m<ipython-input-12-7499bc6ea559>\u001b[0m in \u001b[0;36m<module>\u001b[0;34m\u001b[0m\n\u001b[1;32m      1\u001b[0m \u001b[0;31m#Methods: DELETE\u001b[0m\u001b[0;34m\u001b[0m\u001b[0;34m\u001b[0m\u001b[0;34m\u001b[0m\u001b[0m\n\u001b[1;32m      2\u001b[0m \u001b[0;32mdel\u001b[0m \u001b[0mtu1\u001b[0m\u001b[0;34m\u001b[0m\u001b[0;34m\u001b[0m\u001b[0m\n\u001b[0;32m----> 3\u001b[0;31m \u001b[0mprint\u001b[0m\u001b[0;34m(\u001b[0m\u001b[0mtu1\u001b[0m\u001b[0;34m)\u001b[0m\u001b[0;34m\u001b[0m\u001b[0;34m\u001b[0m\u001b[0m\n\u001b[0m",
            "\u001b[0;31mNameError\u001b[0m: name 'tu1' is not defined"
          ]
        }
      ]
    },
    {
      "cell_type": "code",
      "source": [
        "### For Loop\n"
      ],
      "metadata": {
        "id": "uhsITKZ1vvq1"
      },
      "execution_count": null,
      "outputs": []
    },
    {
      "cell_type": "code",
      "source": [
        "x= (\"python hello world, i am alien\")\n",
        "print(x[0:-1:2])\n",
        "print(len(q))"
      ],
      "metadata": {
        "colab": {
          "base_uri": "https://localhost:8080/"
        },
        "id": "FtKsgoNNwus2",
        "outputId": "4a384aa7-288a-4106-a5ec-52ce65a047e1"
      },
      "execution_count": null,
      "outputs": [
        {
          "output_type": "stream",
          "name": "stdout",
          "text": [
            "pto el ol,ia le\n",
            "22\n"
          ]
        }
      ]
    },
    {
      "cell_type": "code",
      "source": [
        "q[0:23:]"
      ],
      "metadata": {
        "colab": {
          "base_uri": "https://localhost:8080/",
          "height": 37
        },
        "id": "fi-pBF3JCIh-",
        "outputId": "ff30932b-7385-48e9-a66b-e03736a8c763"
      },
      "execution_count": null,
      "outputs": [
        {
          "output_type": "execute_result",
          "data": {
            "text/plain": [
              "'hello world qwertyuiop'"
            ],
            "application/vnd.google.colaboratory.intrinsic+json": {
              "type": "string"
            }
          },
          "metadata": {},
          "execution_count": 3
        }
      ]
    },
    {
      "cell_type": "code",
      "source": [
        "q[::]"
      ],
      "metadata": {
        "colab": {
          "base_uri": "https://localhost:8080/",
          "height": 37
        },
        "id": "19DYUeTNB4EZ",
        "outputId": "873fdce2-71e7-4bef-f58c-52cd9961475b"
      },
      "execution_count": null,
      "outputs": [
        {
          "output_type": "execute_result",
          "data": {
            "text/plain": [
              "'hello world qwertyuiop'"
            ],
            "application/vnd.google.colaboratory.intrinsic+json": {
              "type": "string"
            }
          },
          "metadata": {},
          "execution_count": 2
        }
      ]
    },
    {
      "cell_type": "code",
      "source": [
        "q.upper()"
      ],
      "metadata": {
        "colab": {
          "base_uri": "https://localhost:8080/",
          "height": 37
        },
        "id": "1Jr1kUHaD3gS",
        "outputId": "0b630109-8f4e-4da5-f3bb-2ad0da4ad5ad"
      },
      "execution_count": null,
      "outputs": [
        {
          "output_type": "execute_result",
          "data": {
            "text/plain": [
              "'HELLO WORLD QWERTYUIOP'"
            ],
            "application/vnd.google.colaboratory.intrinsic+json": {
              "type": "string"
            }
          },
          "metadata": {},
          "execution_count": 4
        }
      ]
    },
    {
      "cell_type": "code",
      "source": [
        "## LECTURE_2: 05-Nov-2022\n",
        "# TO Print 2 Lines and more: USE (\"\"\") 3 inverted commas\n",
        "\n",
        "line=\"\"\"here is line 1\n",
        "and one more line, without using another set of inverted commas...\n",
        "and it would continue to any number of lines..!! Great\"\"\"\n",
        "print(line)"
      ],
      "metadata": {
        "colab": {
          "base_uri": "https://localhost:8080/"
        },
        "id": "MdawWuwO-Afh",
        "outputId": "e3cfaee4-b82a-4c53-ee56-c5c09225b5b8"
      },
      "execution_count": null,
      "outputs": [
        {
          "output_type": "stream",
          "name": "stdout",
          "text": [
            "here is line 1\n",
            "and one more line, without using another set of inverted commas...\n",
            "and it would continue to any number of lines..!! Great\n"
          ]
        }
      ]
    },
    {
      "cell_type": "code",
      "source": [
        "# INDEXING:  The Python index() method helps you\n",
        "#            to find the Index Position of an Element\n",
        "#            or an item in a String of characters or a List of items."
      ],
      "metadata": {
        "id": "jLUPQqTxxTeD"
      },
      "execution_count": null,
      "outputs": []
    },
    {
      "cell_type": "code",
      "source": [
        "city=\"Kurukshetra\"\n",
        "len(city)"
      ],
      "metadata": {
        "colab": {
          "base_uri": "https://localhost:8080/"
        },
        "id": "LhXt5TJAxTmp",
        "outputId": "6c490bfa-dd2e-469e-c2cd-dd6f04d1029b"
      },
      "execution_count": null,
      "outputs": [
        {
          "output_type": "execute_result",
          "data": {
            "text/plain": [
              "11"
            ]
          },
          "metadata": {},
          "execution_count": 2
        }
      ]
    },
    {
      "cell_type": "code",
      "source": [
        "print(city[1])   #Indexin starts with: 0 [0,1,2,3,4,5,...]"
      ],
      "metadata": {
        "colab": {
          "base_uri": "https://localhost:8080/"
        },
        "id": "VhnW1oJyyjji",
        "outputId": "04def0a2-2a57-4f8a-de3d-bd9fb9b8afc0"
      },
      "execution_count": null,
      "outputs": [
        {
          "output_type": "stream",
          "name": "stdout",
          "text": [
            "u\n"
          ]
        }
      ]
    },
    {
      "cell_type": "code",
      "source": [
        "print(city[-1])  #to print the LAST Character"
      ],
      "metadata": {
        "colab": {
          "base_uri": "https://localhost:8080/"
        },
        "id": "aDL4xSwNyjmP",
        "outputId": "5065ef28-807d-421e-f811-4d6d3b0a5dd6"
      },
      "execution_count": null,
      "outputs": [
        {
          "output_type": "stream",
          "name": "stdout",
          "text": [
            "a\n"
          ]
        }
      ]
    },
    {
      "cell_type": "code",
      "source": [
        "x=\"Python is a Programing Language\"\n",
        "x[0:5]                     #[x:y:z]== x:starting index, y: ending index, z=Jump"
      ],
      "metadata": {
        "colab": {
          "base_uri": "https://localhost:8080/",
          "height": 37
        },
        "id": "hExo05SgyzDQ",
        "outputId": "b1fa05ed-e818-4c19-fc94-f6bce31b2117"
      },
      "execution_count": null,
      "outputs": [
        {
          "output_type": "execute_result",
          "data": {
            "text/plain": [
              "'Pytho'"
            ],
            "application/vnd.google.colaboratory.intrinsic+json": {
              "type": "string"
            }
          },
          "metadata": {},
          "execution_count": 5
        }
      ]
    },
    {
      "cell_type": "code",
      "source": [
        "x[0:12:2]"
      ],
      "metadata": {
        "colab": {
          "base_uri": "https://localhost:8080/",
          "height": 37
        },
        "id": "hDKWRaaiyzFu",
        "outputId": "dfc912b7-5287-4beb-ee82-456daf3743d6"
      },
      "execution_count": null,
      "outputs": [
        {
          "output_type": "execute_result",
          "data": {
            "text/plain": [
              "'Pto sa'"
            ],
            "application/vnd.google.colaboratory.intrinsic+json": {
              "type": "string"
            }
          },
          "metadata": {},
          "execution_count": 6
        }
      ]
    },
    {
      "cell_type": "code",
      "source": [
        "# String slicing: have -ve indexing but it could not back propagate\n",
        "\n",
        "x[-1:-5]   # we will get a BACK PROPAGATION ERROR"
      ],
      "metadata": {
        "colab": {
          "base_uri": "https://localhost:8080/",
          "height": 37
        },
        "id": "MBp-fDzmz2UY",
        "outputId": "d247b229-f94b-4e2e-e1a0-83b1fd5e7212"
      },
      "execution_count": null,
      "outputs": [
        {
          "output_type": "execute_result",
          "data": {
            "text/plain": [
              "''"
            ],
            "application/vnd.google.colaboratory.intrinsic+json": {
              "type": "string"
            }
          },
          "metadata": {},
          "execution_count": 7
        }
      ]
    },
    {
      "cell_type": "code",
      "source": [
        "x[-10:-2]"
      ],
      "metadata": {
        "colab": {
          "base_uri": "https://localhost:8080/",
          "height": 37
        },
        "id": "RvG8nOHXz2W6",
        "outputId": "e6a2ddf8-3c73-43b3-815b-956744693e9a"
      },
      "execution_count": null,
      "outputs": [
        {
          "output_type": "execute_result",
          "data": {
            "text/plain": [
              "'g Langua'"
            ],
            "application/vnd.google.colaboratory.intrinsic+json": {
              "type": "string"
            }
          },
          "metadata": {},
          "execution_count": 8
        }
      ]
    },
    {
      "cell_type": "code",
      "source": [
        "# To Reverse the String\n",
        "x[::-1]"
      ],
      "metadata": {
        "colab": {
          "base_uri": "https://localhost:8080/",
          "height": 37
        },
        "id": "LrUmPNMN0upx",
        "outputId": "b664dbdb-97f5-48c9-8dee-5a1fb168162c"
      },
      "execution_count": null,
      "outputs": [
        {
          "output_type": "execute_result",
          "data": {
            "text/plain": [
              "'egaugnaL gnimargorP a si nohtyP'"
            ],
            "application/vnd.google.colaboratory.intrinsic+json": {
              "type": "string"
            }
          },
          "metadata": {},
          "execution_count": 13
        }
      ]
    },
    {
      "cell_type": "code",
      "source": [
        "# STRING METHODs\n",
        "\n",
        "a='harry potter'\n",
        "a.capitalize()   #First letter of the String would be Capitalize."
      ],
      "metadata": {
        "colab": {
          "base_uri": "https://localhost:8080/",
          "height": 37
        },
        "id": "2Xyh7b-W1Q8x",
        "outputId": "058f081d-e613-4eb6-d775-0436f8ab20ec"
      },
      "execution_count": null,
      "outputs": [
        {
          "output_type": "execute_result",
          "data": {
            "text/plain": [
              "'Harry potter'"
            ],
            "application/vnd.google.colaboratory.intrinsic+json": {
              "type": "string"
            }
          },
          "metadata": {},
          "execution_count": 15
        }
      ]
    },
    {
      "cell_type": "code",
      "source": [
        "a.title()        #All first letters of words in string will Capiltalize."
      ],
      "metadata": {
        "colab": {
          "base_uri": "https://localhost:8080/",
          "height": 37
        },
        "id": "7T0tGH531RC9",
        "outputId": "cd8b656a-ca44-46d1-a2a8-6e4d35349330"
      },
      "execution_count": null,
      "outputs": [
        {
          "output_type": "execute_result",
          "data": {
            "text/plain": [
              "'Harry Potter'"
            ],
            "application/vnd.google.colaboratory.intrinsic+json": {
              "type": "string"
            }
          },
          "metadata": {},
          "execution_count": 17
        }
      ]
    },
    {
      "cell_type": "code",
      "source": [
        "a.swapcase()     # Swaps the Capitalization:lower to upper and vice versa"
      ],
      "metadata": {
        "colab": {
          "base_uri": "https://localhost:8080/",
          "height": 37
        },
        "id": "bM00homl2wdk",
        "outputId": "920e98f0-3385-4743-9196-b5f6d8339453"
      },
      "execution_count": null,
      "outputs": [
        {
          "output_type": "execute_result",
          "data": {
            "text/plain": [
              "'HARRY POTTER'"
            ],
            "application/vnd.google.colaboratory.intrinsic+json": {
              "type": "string"
            }
          },
          "metadata": {},
          "execution_count": 18
        }
      ]
    },
    {
      "cell_type": "code",
      "source": [
        "a.upper()       # Converts ALL letters in upper case; Opposite: a.lower()"
      ],
      "metadata": {
        "colab": {
          "base_uri": "https://localhost:8080/",
          "height": 37
        },
        "id": "ugy4pMFP3OmC",
        "outputId": "efea20fe-dfa1-468c-af95-0feb9adcfedb"
      },
      "execution_count": null,
      "outputs": [
        {
          "output_type": "execute_result",
          "data": {
            "text/plain": [
              "'HARRY POTTER'"
            ],
            "application/vnd.google.colaboratory.intrinsic+json": {
              "type": "string"
            }
          },
          "metadata": {},
          "execution_count": 20
        }
      ]
    },
    {
      "cell_type": "code",
      "source": [
        "a.islower()     # To check is characters are in Upper/Lower case; Opposite: a.isupper()"
      ],
      "metadata": {
        "colab": {
          "base_uri": "https://localhost:8080/"
        },
        "id": "5FFdHLOS3OpP",
        "outputId": "2802116e-dab8-4bf6-d9be-07c1d47dba58"
      },
      "execution_count": null,
      "outputs": [
        {
          "output_type": "execute_result",
          "data": {
            "text/plain": [
              "True"
            ]
          },
          "metadata": {},
          "execution_count": 21
        }
      ]
    },
    {
      "cell_type": "code",
      "source": [
        "p='abcd123'\n",
        "p.isalnum()     # To check id string is AlphaNumeric"
      ],
      "metadata": {
        "colab": {
          "base_uri": "https://localhost:8080/"
        },
        "id": "sc1rixHw36rB",
        "outputId": "1bc91436-9226-4dd5-bb86-fb499e779d90"
      },
      "execution_count": null,
      "outputs": [
        {
          "output_type": "execute_result",
          "data": {
            "text/plain": [
              "True"
            ]
          },
          "metadata": {},
          "execution_count": 23
        }
      ]
    },
    {
      "cell_type": "code",
      "source": [
        "p.isalpha()     # To check id string is Alphabets only"
      ],
      "metadata": {
        "colab": {
          "base_uri": "https://localhost:8080/"
        },
        "id": "Zp6pg99W36u7",
        "outputId": "6f0087de-b89c-4487-9bd2-967e970dd524"
      },
      "execution_count": null,
      "outputs": [
        {
          "output_type": "execute_result",
          "data": {
            "text/plain": [
              "False"
            ]
          },
          "metadata": {},
          "execution_count": 24
        }
      ]
    },
    {
      "cell_type": "code",
      "source": [
        "q= \" twinkle twinkle little star\"\n",
        "q.count(\"t\")      # to count the number of times any String appears"
      ],
      "metadata": {
        "colab": {
          "base_uri": "https://localhost:8080/"
        },
        "id": "lbpOZoWf4lG4",
        "outputId": "7f48c050-6261-461e-d0db-a351918b71d2"
      },
      "execution_count": null,
      "outputs": [
        {
          "output_type": "execute_result",
          "data": {
            "text/plain": [
              "5"
            ]
          },
          "metadata": {},
          "execution_count": 26
        }
      ]
    },
    {
      "cell_type": "code",
      "source": [
        "q.count(\"twinkle\")"
      ],
      "metadata": {
        "colab": {
          "base_uri": "https://localhost:8080/"
        },
        "id": "Z2xdUOKx4lJw",
        "outputId": "581510d2-403f-47e6-d7d2-f09e9de936cc"
      },
      "execution_count": null,
      "outputs": [
        {
          "output_type": "execute_result",
          "data": {
            "text/plain": [
              "2"
            ]
          },
          "metadata": {},
          "execution_count": 27
        }
      ]
    },
    {
      "cell_type": "code",
      "source": [
        "q.find('w')     # To find the index position of the string (First time only)"
      ],
      "metadata": {
        "colab": {
          "base_uri": "https://localhost:8080/"
        },
        "id": "2buSz9Ps5Pt4",
        "outputId": "7cf45866-f766-4ac6-c21d-d9ce66c59398"
      },
      "execution_count": null,
      "outputs": [
        {
          "output_type": "execute_result",
          "data": {
            "text/plain": [
              "2"
            ]
          },
          "metadata": {},
          "execution_count": 29
        }
      ]
    },
    {
      "cell_type": "code",
      "source": [
        "q.find('little')"
      ],
      "metadata": {
        "colab": {
          "base_uri": "https://localhost:8080/"
        },
        "id": "Of8V5RUq5Pvz",
        "outputId": "5a31583a-df51-4cee-d151-09ea8e393a3c"
      },
      "execution_count": null,
      "outputs": [
        {
          "output_type": "execute_result",
          "data": {
            "text/plain": [
              "17"
            ]
          },
          "metadata": {},
          "execution_count": 30
        }
      ]
    },
    {
      "cell_type": "code",
      "source": [
        "q.find('hello')       # will give -1 is string is not present"
      ],
      "metadata": {
        "colab": {
          "base_uri": "https://localhost:8080/"
        },
        "id": "b52LnkIW58Fj",
        "outputId": "147418b8-5e8d-4f92-83e0-e6a1b6bca498"
      },
      "execution_count": null,
      "outputs": [
        {
          "output_type": "execute_result",
          "data": {
            "text/plain": [
              "-1"
            ]
          },
          "metadata": {},
          "execution_count": 31
        }
      ]
    },
    {
      "cell_type": "code",
      "source": [
        "q.index(\"star\")     # Will give the INDEX Position; also retuurns ERROR if string could not be found"
      ],
      "metadata": {
        "colab": {
          "base_uri": "https://localhost:8080/"
        },
        "id": "1gB21KKb58IA",
        "outputId": "1609a211-4788-40cd-9b8d-4ef31bf0634f"
      },
      "execution_count": null,
      "outputs": [
        {
          "output_type": "execute_result",
          "data": {
            "text/plain": [
              "24"
            ]
          },
          "metadata": {},
          "execution_count": 32
        }
      ]
    },
    {
      "cell_type": "code",
      "source": [
        "q.replace(\"little\",\"bright\")  # to Replace a string"
      ],
      "metadata": {
        "colab": {
          "base_uri": "https://localhost:8080/",
          "height": 37
        },
        "id": "vW5EN7k-6fUX",
        "outputId": "2fd734e1-db31-42ab-9cf2-f932ef6acd50"
      },
      "execution_count": null,
      "outputs": [
        {
          "output_type": "execute_result",
          "data": {
            "text/plain": [
              "' twinkle twinkle bright star'"
            ],
            "application/vnd.google.colaboratory.intrinsic+json": {
              "type": "string"
            }
          },
          "metadata": {},
          "execution_count": 33
        }
      ]
    },
    {
      "cell_type": "code",
      "source": [
        "# STRIP method: removes all the blank spaces from the String\n",
        "e=\"         it has a lot of blank spaces         \"\n",
        "e.strip()"
      ],
      "metadata": {
        "colab": {
          "base_uri": "https://localhost:8080/",
          "height": 37
        },
        "id": "JqOCHmlz6fWd",
        "outputId": "3e3fa708-76aa-473d-bd25-a52e5142eee7"
      },
      "execution_count": null,
      "outputs": [
        {
          "output_type": "execute_result",
          "data": {
            "text/plain": [
              "'it has a lot of blank spaces'"
            ],
            "application/vnd.google.colaboratory.intrinsic+json": {
              "type": "string"
            }
          },
          "metadata": {},
          "execution_count": 34
        }
      ]
    },
    {
      "cell_type": "code",
      "source": [
        "# SPLIT Method:  Splits the string and stores it into a LIST\n",
        "r=\"Today is a FairyTale\"\n",
        "r.split()"
      ],
      "metadata": {
        "colab": {
          "base_uri": "https://localhost:8080/"
        },
        "id": "UlLq6UlC71D5",
        "outputId": "f8aad3a5-56f3-4edb-923b-3a9826262714"
      },
      "execution_count": null,
      "outputs": [
        {
          "output_type": "execute_result",
          "data": {
            "text/plain": [
              "['Today', 'is', 'a', 'FairyTale']"
            ]
          },
          "metadata": {},
          "execution_count": 1
        }
      ]
    },
    {
      "cell_type": "code",
      "source": [
        "# We can give a Logic in which we can Split the data.\n",
        "\n",
        "x=\"Betty Bought Butter.Butter was Bitter. Betty Bought Better Butter to make Bitter Butter Better.\"\n",
        "x.split(\"Be\")"
      ],
      "metadata": {
        "colab": {
          "base_uri": "https://localhost:8080/"
        },
        "id": "zXESEpFB71Id",
        "outputId": "0b19cb4c-cf3f-4f9f-9cb8-4e069d91a989"
      },
      "execution_count": null,
      "outputs": [
        {
          "output_type": "execute_result",
          "data": {
            "text/plain": [
              "['',\n",
              " 'tty Bought Butter.Butter was Bitter. ',\n",
              " 'tty Bought ',\n",
              " 'tter Butter to make Bitter Butter ',\n",
              " 'tter.']"
            ]
          },
          "metadata": {},
          "execution_count": 2
        }
      ]
    },
    {
      "cell_type": "code",
      "source": [
        "# CONCATENATION\n",
        "a=\"Bruce\"\n",
        "b=\"is\"\n",
        "c=\"Batman\"\n",
        "print(a+b+c)\n",
        "print(a+\" \"+b+\" \"+c)"
      ],
      "metadata": {
        "colab": {
          "base_uri": "https://localhost:8080/"
        },
        "id": "Z4IZphhbJCel",
        "outputId": "ecd76791-505c-4572-928a-bbdcab8005e9"
      },
      "execution_count": null,
      "outputs": [
        {
          "output_type": "stream",
          "name": "stdout",
          "text": [
            "BruceisBatman\n",
            "Bruce is Batman\n"
          ]
        }
      ]
    },
    {
      "cell_type": "code",
      "source": [
        "### LECTURE_4: 13-Nov-2022\n",
        "## FORMATTING A STRING\n",
        "# F-String Formatting #\n",
        "\n",
        "a=25\n",
        "b=30\n",
        "print(f'the value of a is: {a}')"
      ],
      "metadata": {
        "colab": {
          "base_uri": "https://localhost:8080/"
        },
        "id": "865ewIEBJCgr",
        "outputId": "eeb72784-5bda-4cea-bbe3-434611c59ecd"
      },
      "execution_count": null,
      "outputs": [
        {
          "output_type": "stream",
          "name": "stdout",
          "text": [
            "the value of a is: 25\n"
          ]
        }
      ]
    },
    {
      "cell_type": "code",
      "source": [
        "# Percentile Formatting\n",
        "a='Python'\n",
        "b='The Best'\n",
        "print(\"%s is %s Programming Language.\" %(a,b))"
      ],
      "metadata": {
        "colab": {
          "base_uri": "https://localhost:8080/"
        },
        "id": "uVhsnsQ8CfqO",
        "outputId": "b53e0e86-7632-4f12-c5e9-b2db9d1c3404"
      },
      "execution_count": null,
      "outputs": [
        {
          "output_type": "stream",
          "name": "stdout",
          "text": [
            "Python is The Best Programming Language.\n"
          ]
        }
      ]
    },
    {
      "cell_type": "code",
      "source": [
        "print(\"{a} is {b} Progaramming language.\".format(a=a,b=b))"
      ],
      "metadata": {
        "colab": {
          "base_uri": "https://localhost:8080/"
        },
        "id": "VoZxx-mGJLce",
        "outputId": "7c4d1d28-0ec5-4b41-f401-1bf37280df42"
      },
      "execution_count": null,
      "outputs": [
        {
          "output_type": "stream",
          "name": "stdout",
          "text": [
            "Python is The Best Progaramming language.\n"
          ]
        }
      ]
    },
    {
      "cell_type": "code",
      "source": [
        "print(\"Thunder {2} {1} {0} & The Thunder!!\".format('Thunder,,,Lightening', 'The', 'Feel'))"
      ],
      "metadata": {
        "colab": {
          "base_uri": "https://localhost:8080/"
        },
        "id": "McNmYbSsJyyC",
        "outputId": "2c17be8f-d9fe-4d4e-85b3-4378ebb70c61"
      },
      "execution_count": null,
      "outputs": [
        {
          "output_type": "stream",
          "name": "stdout",
          "text": [
            "Thunder Feel The Thunder,,,Lightening & The Thunder!!\n"
          ]
        }
      ]
    },
    {
      "cell_type": "code",
      "source": [
        "print(\"the {q} {b} {f}.\".format(f='fox', b='brown', q='quick'))"
      ],
      "metadata": {
        "colab": {
          "base_uri": "https://localhost:8080/"
        },
        "id": "FLv4I3jIJy-c",
        "outputId": "56d481d7-675d-4b38-d8ab-530842eb864d"
      },
      "execution_count": null,
      "outputs": [
        {
          "output_type": "stream",
          "name": "stdout",
          "text": [
            "the quick brown fox.\n"
          ]
        }
      ]
    },
    {
      "cell_type": "code",
      "source": [
        "# Brackets:    ():Tuples,   {}:Dictionary,   []:List"
      ],
      "metadata": {
        "id": "9aoR_3GXCfsr"
      },
      "execution_count": null,
      "outputs": []
    },
    {
      "cell_type": "code",
      "source": [
        "# STRINGS_Methods:\n",
        "\n",
        "s='Coldplay Christopher Anthony John Martin'"
      ],
      "metadata": {
        "id": "07dwJT5BIKaO"
      },
      "execution_count": null,
      "outputs": []
    },
    {
      "cell_type": "code",
      "source": [
        "s.endswith(\"n\")"
      ],
      "metadata": {
        "colab": {
          "base_uri": "https://localhost:8080/"
        },
        "id": "_eZFcWnqIKde",
        "outputId": "4dd01a15-055f-40bc-bd34-64b14493dd15"
      },
      "execution_count": null,
      "outputs": [
        {
          "output_type": "execute_result",
          "data": {
            "text/plain": [
              "True"
            ]
          },
          "metadata": {},
          "execution_count": 28
        }
      ]
    },
    {
      "cell_type": "code",
      "source": [
        "s.startswith('C')"
      ],
      "metadata": {
        "colab": {
          "base_uri": "https://localhost:8080/"
        },
        "id": "LF5lKYXiNZGb",
        "outputId": "750a4689-c50d-4776-d63e-e383cd9d7379"
      },
      "execution_count": null,
      "outputs": [
        {
          "output_type": "execute_result",
          "data": {
            "text/plain": [
              "True"
            ]
          },
          "metadata": {},
          "execution_count": 30
        }
      ]
    },
    {
      "cell_type": "code",
      "source": [
        "s.startswith('c')"
      ],
      "metadata": {
        "colab": {
          "base_uri": "https://localhost:8080/"
        },
        "id": "JgsBpiFANZS2",
        "outputId": "97bd4225-bf65-40a9-d015-71d450f88793"
      },
      "execution_count": null,
      "outputs": [
        {
          "output_type": "execute_result",
          "data": {
            "text/plain": [
              "False"
            ]
          },
          "metadata": {},
          "execution_count": 31
        }
      ]
    },
    {
      "cell_type": "code",
      "source": [
        "# SplitLines\n",
        "\n",
        "s1='''I've been reading books of old, The legends and the myths\n",
        "Achilles and his gold, Hercules and his gifts\n",
        "Spiderman's control, And Batman moves his fists\n",
        "And clearly I don't see, myself upon that list'''\n",
        "\n",
        "s1.splitlines()"
      ],
      "metadata": {
        "colab": {
          "base_uri": "https://localhost:8080/"
        },
        "id": "EkQped-UPaTm",
        "outputId": "56258c5c-6b6d-4440-bc9e-49ec51e7ffa0"
      },
      "execution_count": null,
      "outputs": [
        {
          "output_type": "execute_result",
          "data": {
            "text/plain": [
              "[\"I've been reading books of old, The legends and the myths\",\n",
              " 'Achilles and his gold, Hercules and his gifts',\n",
              " \"Spiderman's control, And Batman moves his fists\",\n",
              " \"And clearly I don't see, myself upon that list\"]"
            ]
          },
          "metadata": {},
          "execution_count": 23
        }
      ]
    },
    {
      "cell_type": "code",
      "source": [
        "mystring='Hello World'\n",
        "mystring.split()"
      ],
      "metadata": {
        "colab": {
          "base_uri": "https://localhost:8080/"
        },
        "id": "aVwYIgrLPaWP",
        "outputId": "0ed9546b-b62b-44eb-fda3-78052c82fa17"
      },
      "execution_count": null,
      "outputs": [
        {
          "output_type": "execute_result",
          "data": {
            "text/plain": [
              "['Hello', 'World']"
            ]
          },
          "metadata": {},
          "execution_count": 32
        }
      ]
    },
    {
      "cell_type": "code",
      "source": [
        "mystring.split(\"l\")"
      ],
      "metadata": {
        "colab": {
          "base_uri": "https://localhost:8080/"
        },
        "id": "0j5TvTe9cyXA",
        "outputId": "7d027740-1daf-4fc8-8e9b-6e8608907f1c"
      },
      "execution_count": null,
      "outputs": [
        {
          "output_type": "execute_result",
          "data": {
            "text/plain": [
              "['He', '', 'o Wor', 'd']"
            ]
          },
          "metadata": {},
          "execution_count": 34
        }
      ]
    },
    {
      "cell_type": "code",
      "source": [
        "#### Python Numbers"
      ],
      "metadata": {
        "id": "P8HtkOM6c7wW"
      },
      "execution_count": null,
      "outputs": []
    },
    {
      "cell_type": "code",
      "source": [
        "a=100\n",
        "print(type(a))"
      ],
      "metadata": {
        "colab": {
          "base_uri": "https://localhost:8080/"
        },
        "id": "fg_SjcMxc73K",
        "outputId": "bb844fa5-0137-46bc-e213-a94f4453040f"
      },
      "execution_count": null,
      "outputs": [
        {
          "output_type": "stream",
          "name": "stdout",
          "text": [
            "<class 'int'>\n"
          ]
        }
      ]
    },
    {
      "cell_type": "code",
      "source": [
        "b=100_00_00_00_00_00_00_00_00_00\n",
        "print(type(b))"
      ],
      "metadata": {
        "colab": {
          "base_uri": "https://localhost:8080/"
        },
        "id": "Hsb_8gINdpsD",
        "outputId": "7f624a48-d670-4f26-9784-67caa70212ef"
      },
      "execution_count": null,
      "outputs": [
        {
          "output_type": "stream",
          "name": "stdout",
          "text": [
            "<class 'int'>\n"
          ]
        }
      ]
    },
    {
      "cell_type": "code",
      "source": [
        "c=13.05\n",
        "print(type(c))"
      ],
      "metadata": {
        "colab": {
          "base_uri": "https://localhost:8080/"
        },
        "id": "I26YxJiqdpwT",
        "outputId": "8b0b86aa-0213-493f-ab5a-88ec10695c94"
      },
      "execution_count": null,
      "outputs": [
        {
          "output_type": "stream",
          "name": "stdout",
          "text": [
            "<class 'float'>\n"
          ]
        }
      ]
    },
    {
      "cell_type": "code",
      "source": [
        "#TypeCasting\n",
        "g=13.05\n",
        "a1=23\n",
        "print(int(g))"
      ],
      "metadata": {
        "id": "Pk09BbR7d90s",
        "colab": {
          "base_uri": "https://localhost:8080/"
        },
        "outputId": "e9b9d519-9d50-4ad4-d3f7-a542b7fdfda6"
      },
      "execution_count": null,
      "outputs": [
        {
          "output_type": "stream",
          "name": "stdout",
          "text": [
            "13\n"
          ]
        }
      ]
    },
    {
      "cell_type": "code",
      "source": [
        "print(float(a1))"
      ],
      "metadata": {
        "id": "Tp-G46uXd93f",
        "colab": {
          "base_uri": "https://localhost:8080/"
        },
        "outputId": "bc3cd6c6-58c4-40a4-86b0-55b26226beb0"
      },
      "execution_count": null,
      "outputs": [
        {
          "output_type": "stream",
          "name": "stdout",
          "text": [
            "23.0\n"
          ]
        }
      ]
    },
    {
      "cell_type": "code",
      "source": [
        "#RANDOM ::  This function is used to Generate OTP\n",
        "import random\n",
        "print(random.randrange(13,23))"
      ],
      "metadata": {
        "colab": {
          "base_uri": "https://localhost:8080/"
        },
        "id": "Thweod79CSS_",
        "outputId": "73118292-9e12-4be6-e410-cd5795bad292"
      },
      "execution_count": null,
      "outputs": [
        {
          "output_type": "stream",
          "name": "stdout",
          "text": [
            "14\n"
          ]
        }
      ]
    },
    {
      "cell_type": "code",
      "source": [
        "## Program to generate 4 DIGIT OTP ##\n",
        "print(random.randrange(1000,9999))"
      ],
      "metadata": {
        "colab": {
          "base_uri": "https://localhost:8080/"
        },
        "id": "se1BLgS6II9w",
        "outputId": "ade193e0-f827-4ff4-b8d1-bf291601fbf3"
      },
      "execution_count": null,
      "outputs": [
        {
          "output_type": "stream",
          "name": "stdout",
          "text": [
            "9287\n"
          ]
        }
      ]
    },
    {
      "cell_type": "code",
      "source": [
        "import math   # Imports the MATHS Module"
      ],
      "metadata": {
        "id": "dTyTsz20IhM8"
      },
      "execution_count": null,
      "outputs": []
    },
    {
      "cell_type": "code",
      "source": [
        "math.e   #Exponential"
      ],
      "metadata": {
        "colab": {
          "base_uri": "https://localhost:8080/"
        },
        "id": "MiCOQ777IhPb",
        "outputId": "afec2a1d-592d-4f3b-f451-acdd90aa4e86"
      },
      "execution_count": null,
      "outputs": [
        {
          "output_type": "execute_result",
          "data": {
            "text/plain": [
              "2.718281828459045"
            ]
          },
          "metadata": {},
          "execution_count": 12
        }
      ]
    },
    {
      "cell_type": "code",
      "source": [
        "math.pi   # Value of pi"
      ],
      "metadata": {
        "colab": {
          "base_uri": "https://localhost:8080/"
        },
        "id": "9YgofxVtIJMB",
        "outputId": "30dd1f26-1b0c-43f8-f570-4a72a9089cbc"
      },
      "execution_count": null,
      "outputs": [
        {
          "output_type": "execute_result",
          "data": {
            "text/plain": [
              "3.141592653589793"
            ]
          },
          "metadata": {},
          "execution_count": 13
        }
      ]
    },
    {
      "cell_type": "code",
      "source": [
        "s=9\n",
        "print(math.sqrt(s))"
      ],
      "metadata": {
        "colab": {
          "base_uri": "https://localhost:8080/"
        },
        "id": "bA8iwnbaKMwP",
        "outputId": "e7d7622f-0535-4d5f-83c8-45f04b7fc5d2"
      },
      "execution_count": null,
      "outputs": [
        {
          "output_type": "stream",
          "name": "stdout",
          "text": [
            "3.0\n"
          ]
        }
      ]
    },
    {
      "cell_type": "code",
      "source": [
        "print(max(2,6,9,2,221,13,23,61,89,101,108))"
      ],
      "metadata": {
        "colab": {
          "base_uri": "https://localhost:8080/"
        },
        "id": "4iXl44z2KMy6",
        "outputId": "59a8adf8-8bf3-40f5-db8f-ddbc11f66cea"
      },
      "execution_count": null,
      "outputs": [
        {
          "output_type": "stream",
          "name": "stdout",
          "text": [
            "221\n"
          ]
        }
      ]
    },
    {
      "cell_type": "code",
      "source": [
        "print(min(2,6,9,2,221,13,23,61,89,101,108))"
      ],
      "metadata": {
        "colab": {
          "base_uri": "https://localhost:8080/"
        },
        "id": "vtyzFy5iKmjk",
        "outputId": "87ac7812-e70d-4609-a5b3-f6604c2a8b7e"
      },
      "execution_count": null,
      "outputs": [
        {
          "output_type": "stream",
          "name": "stdout",
          "text": [
            "2\n"
          ]
        }
      ]
    },
    {
      "cell_type": "code",
      "source": [
        "# Absolute function: Gives absolute value\n",
        "f=-13.05\n",
        "print(abs(f))"
      ],
      "metadata": {
        "colab": {
          "base_uri": "https://localhost:8080/"
        },
        "id": "og8m_sGZKmmP",
        "outputId": "e8e8f758-c73c-4618-9a88-2b22be990d01"
      },
      "execution_count": null,
      "outputs": [
        {
          "output_type": "stream",
          "name": "stdout",
          "text": [
            "13.05\n"
          ]
        }
      ]
    },
    {
      "cell_type": "code",
      "source": [
        "### LECTURE_4: 13-Nov-2022\n",
        "### ~FIN~"
      ],
      "metadata": {
        "id": "vVXYcMAfLLrs"
      },
      "execution_count": null,
      "outputs": []
    },
    {
      "cell_type": "code",
      "source": [
        "#   PROJECTS: try calorie conscious calculator , where user input there intake in breakfast/lunch/din.\n",
        "#   user k pass dono option rahega food and quantity"
      ],
      "metadata": {
        "id": "LAiTYUELCSXM"
      },
      "execution_count": null,
      "outputs": []
    },
    {
      "cell_type": "code",
      "source": [
        "### LECTURE_5: 19-Nov-2022\n",
        "### ARITHMATIC_OPERATORS"
      ],
      "metadata": {
        "id": "iOuj_dcPLYNd"
      },
      "execution_count": null,
      "outputs": []
    },
    {
      "cell_type": "code",
      "source": [
        "a= 20\n",
        "b= 5\n",
        "print(a+b)"
      ],
      "metadata": {
        "colab": {
          "base_uri": "https://localhost:8080/"
        },
        "id": "e_HCRNajLYQQ",
        "outputId": "220bc9a6-03c6-4856-9fc4-cc036f5617fd"
      },
      "execution_count": null,
      "outputs": [
        {
          "output_type": "stream",
          "name": "stdout",
          "text": [
            "25\n"
          ]
        }
      ]
    },
    {
      "cell_type": "code",
      "source": [
        "print(a-b)"
      ],
      "metadata": {
        "colab": {
          "base_uri": "https://localhost:8080/"
        },
        "id": "0PHhQ6x6pb0b",
        "outputId": "7ff653ee-9fa5-4db6-daf6-b14c17292614"
      },
      "execution_count": null,
      "outputs": [
        {
          "output_type": "stream",
          "name": "stdout",
          "text": [
            "15\n"
          ]
        }
      ]
    },
    {
      "cell_type": "code",
      "source": [
        "print(a*b)"
      ],
      "metadata": {
        "colab": {
          "base_uri": "https://localhost:8080/"
        },
        "id": "46Q2-DX-pb25",
        "outputId": "21c499f9-6462-47f8-e17c-a8e9ef56ddec"
      },
      "execution_count": null,
      "outputs": [
        {
          "output_type": "stream",
          "name": "stdout",
          "text": [
            "100\n"
          ]
        }
      ]
    },
    {
      "cell_type": "code",
      "source": [
        "print(a/b)"
      ],
      "metadata": {
        "colab": {
          "base_uri": "https://localhost:8080/"
        },
        "id": "lc1nU7tgpb4z",
        "outputId": "a6c7d5fc-a557-448d-d610-a46e88c1b10e"
      },
      "execution_count": null,
      "outputs": [
        {
          "output_type": "stream",
          "name": "stdout",
          "text": [
            "4.0\n"
          ]
        }
      ]
    },
    {
      "cell_type": "code",
      "source": [
        "print(a**b)  # Exponential"
      ],
      "metadata": {
        "colab": {
          "base_uri": "https://localhost:8080/"
        },
        "id": "TBDiy-M0qTuz",
        "outputId": "88ea25a5-a9d9-4d85-9123-804542f38d5b"
      },
      "execution_count": null,
      "outputs": [
        {
          "output_type": "stream",
          "name": "stdout",
          "text": [
            "3200000\n"
          ]
        }
      ]
    },
    {
      "cell_type": "code",
      "source": [
        "c=13\n",
        "d=5"
      ],
      "metadata": {
        "id": "qkizymu-ppQl"
      },
      "execution_count": null,
      "outputs": []
    },
    {
      "cell_type": "code",
      "source": [
        "print(c%d) #Gives Remainder"
      ],
      "metadata": {
        "colab": {
          "base_uri": "https://localhost:8080/"
        },
        "id": "ahee7ACGppTy",
        "outputId": "fb4feaec-2983-43b7-ffdb-93129a58bd4f"
      },
      "execution_count": null,
      "outputs": [
        {
          "output_type": "stream",
          "name": "stdout",
          "text": [
            "3\n"
          ]
        }
      ]
    },
    {
      "cell_type": "code",
      "source": [
        "print(c/d) # gives perfect division"
      ],
      "metadata": {
        "colab": {
          "base_uri": "https://localhost:8080/"
        },
        "id": "O9k_seYgpzk8",
        "outputId": "04ca5088-8c82-4856-abde-ed78f61cc6e4"
      },
      "execution_count": null,
      "outputs": [
        {
          "output_type": "stream",
          "name": "stdout",
          "text": [
            "2.6\n"
          ]
        }
      ]
    },
    {
      "cell_type": "code",
      "source": [
        "print(c//d) # FLOOR DIVISION:gives mod division:no remainder processed"
      ],
      "metadata": {
        "colab": {
          "base_uri": "https://localhost:8080/"
        },
        "id": "GuNcIonSpzpY",
        "outputId": "57e54c25-6945-418c-cabe-a81203f7ec9e"
      },
      "execution_count": null,
      "outputs": [
        {
          "output_type": "stream",
          "name": "stdout",
          "text": [
            "2\n"
          ]
        }
      ]
    },
    {
      "cell_type": "code",
      "source": [
        "## FLOOR Division relates with the inpu data types gives\n",
        "## if Floating point numbers are the inputs then result will be in Float only"
      ],
      "metadata": {
        "id": "Z1DCVeU-qDYm"
      },
      "execution_count": null,
      "outputs": []
    },
    {
      "cell_type": "code",
      "source": [
        "p=15.5  # FLOOR DIVISION\n",
        "q=3\n",
        "print(p//q)"
      ],
      "metadata": {
        "colab": {
          "base_uri": "https://localhost:8080/"
        },
        "id": "Do8JdRu_qDaz",
        "outputId": "5a6c24b2-c51f-4707-8e2b-bb57ac3eba75"
      },
      "execution_count": null,
      "outputs": [
        {
          "output_type": "stream",
          "name": "stdout",
          "text": [
            "5.0\n"
          ]
        }
      ]
    },
    {
      "cell_type": "code",
      "source": [
        "# Bitwise Operator: Decimal into Binary number\n",
        "q1=113\n",
        "target_bin=bin(q1)\n",
        "print(target_bin)"
      ],
      "metadata": {
        "colab": {
          "base_uri": "https://localhost:8080/"
        },
        "id": "nQFGJ3XcrSi6",
        "outputId": "cce6d523-8e62-4d93-e4a6-9b568e6e7e95"
      },
      "execution_count": null,
      "outputs": [
        {
          "output_type": "stream",
          "name": "stdout",
          "text": [
            "0b1110001\n"
          ]
        }
      ]
    },
    {
      "cell_type": "code",
      "source": [
        "t1=target_bin.replace('0b','0')\n",
        "print(t1)"
      ],
      "metadata": {
        "colab": {
          "base_uri": "https://localhost:8080/"
        },
        "id": "JmisqCNLsBqc",
        "outputId": "89ef38e4-0d63-46f9-f020-08a51afed623"
      },
      "execution_count": null,
      "outputs": [
        {
          "output_type": "stream",
          "name": "stdout",
          "text": [
            "01110001\n"
          ]
        }
      ]
    },
    {
      "cell_type": "code",
      "source": [
        "#AND Operator: Deciamls are converted first into Binary and hen processed with AND Operation\n",
        "c=13\n",
        "d=5\n",
        "print(c&d)"
      ],
      "metadata": {
        "colab": {
          "base_uri": "https://localhost:8080/"
        },
        "id": "w15tyX3ssBsz",
        "outputId": "0f258d49-5fe8-43ed-80e6-b59800f3e6d4"
      },
      "execution_count": null,
      "outputs": [
        {
          "output_type": "stream",
          "name": "stdout",
          "text": [
            "5\n"
          ]
        }
      ]
    },
    {
      "cell_type": "code",
      "source": [
        "print(c or d)"
      ],
      "metadata": {
        "colab": {
          "base_uri": "https://localhost:8080/"
        },
        "id": "iq5OksKctnLQ",
        "outputId": "a2028e5a-39dc-4fd8-8117-70d17aed6d5f"
      },
      "execution_count": null,
      "outputs": [
        {
          "output_type": "stream",
          "name": "stdout",
          "text": [
            "13\n"
          ]
        }
      ]
    },
    {
      "cell_type": "code",
      "source": [
        "print(c|d) # This is also OR Operator"
      ],
      "metadata": {
        "colab": {
          "base_uri": "https://localhost:8080/"
        },
        "id": "O1rbyiXEtnN0",
        "outputId": "06b780f0-11c9-4b42-ac96-c8f19c2f347b"
      },
      "execution_count": null,
      "outputs": [
        {
          "output_type": "stream",
          "name": "stdout",
          "text": [
            "13\n"
          ]
        }
      ]
    },
    {
      "cell_type": "code",
      "source": [
        "print(c^d)  # XOR Operator"
      ],
      "metadata": {
        "colab": {
          "base_uri": "https://localhost:8080/"
        },
        "id": "vOgs-0W0WZlB",
        "outputId": "0304ef18-1336-4945-e191-d2f39f3892d2"
      },
      "execution_count": null,
      "outputs": [
        {
          "output_type": "stream",
          "name": "stdout",
          "text": [
            "8\n"
          ]
        }
      ]
    },
    {
      "cell_type": "code",
      "source": [
        "### LECTURE_5: 19-Nov-2022\n",
        "### ~FIN~"
      ],
      "metadata": {
        "id": "4wsZ52hSWZwD"
      },
      "execution_count": null,
      "outputs": []
    },
    {
      "cell_type": "code",
      "source": [
        "## HoMeWoRk:: 10_Input_List\n",
        "### 10 Food Inputs from user and show it later in the List"
      ],
      "metadata": {
        "id": "pkF6OaMjWZ5h"
      },
      "execution_count": null,
      "outputs": []
    },
    {
      "cell_type": "code",
      "source": [
        "## Code #4: List of lists as input\n",
        "\n",
        "lst = [ ]\n",
        "n = int(input(\"Enter number of elements : \"))\n",
        "\n",
        "for i in range(0, n):\n",
        "    ele = [input(), int(input())]\n",
        "    lst.append(ele)\n",
        "\n",
        "print(lst)"
      ],
      "metadata": {
        "colab": {
          "base_uri": "https://localhost:8080/",
          "height": 296
        },
        "id": "wcXnohJn5x7n",
        "outputId": "f8e23251-9e1a-448f-e2f7-002bbd04e9b1"
      },
      "execution_count": null,
      "outputs": [
        {
          "name": "stdout",
          "output_type": "stream",
          "text": [
            "Enter number of elements : 3\n",
            "hello\n",
            "world\n"
          ]
        },
        {
          "output_type": "error",
          "ename": "ValueError",
          "evalue": "ignored",
          "traceback": [
            "\u001b[0;31m---------------------------------------------------------------------------\u001b[0m",
            "\u001b[0;31mValueError\u001b[0m                                Traceback (most recent call last)",
            "\u001b[0;32m<ipython-input-9-768c53a16c17>\u001b[0m in \u001b[0;36m<module>\u001b[0;34m\u001b[0m\n\u001b[1;32m      5\u001b[0m \u001b[0;34m\u001b[0m\u001b[0m\n\u001b[1;32m      6\u001b[0m \u001b[0;32mfor\u001b[0m \u001b[0mi\u001b[0m \u001b[0;32min\u001b[0m \u001b[0mrange\u001b[0m\u001b[0;34m(\u001b[0m\u001b[0;36m0\u001b[0m\u001b[0;34m,\u001b[0m \u001b[0mn\u001b[0m\u001b[0;34m)\u001b[0m\u001b[0;34m:\u001b[0m\u001b[0;34m\u001b[0m\u001b[0;34m\u001b[0m\u001b[0m\n\u001b[0;32m----> 7\u001b[0;31m     \u001b[0mele\u001b[0m \u001b[0;34m=\u001b[0m \u001b[0;34m[\u001b[0m\u001b[0minput\u001b[0m\u001b[0;34m(\u001b[0m\u001b[0;34m)\u001b[0m\u001b[0;34m,\u001b[0m \u001b[0mint\u001b[0m\u001b[0;34m(\u001b[0m\u001b[0minput\u001b[0m\u001b[0;34m(\u001b[0m\u001b[0;34m)\u001b[0m\u001b[0;34m)\u001b[0m\u001b[0;34m]\u001b[0m\u001b[0;34m\u001b[0m\u001b[0;34m\u001b[0m\u001b[0m\n\u001b[0m\u001b[1;32m      8\u001b[0m     \u001b[0mlst\u001b[0m\u001b[0;34m.\u001b[0m\u001b[0mappend\u001b[0m\u001b[0;34m(\u001b[0m\u001b[0mele\u001b[0m\u001b[0;34m)\u001b[0m\u001b[0;34m\u001b[0m\u001b[0;34m\u001b[0m\u001b[0m\n\u001b[1;32m      9\u001b[0m \u001b[0;34m\u001b[0m\u001b[0m\n",
            "\u001b[0;31mValueError\u001b[0m: invalid literal for int() with base 10: 'world'"
          ]
        }
      ]
    },
    {
      "cell_type": "code",
      "source": [],
      "metadata": {
        "id": "W2484IBnPKQk"
      },
      "execution_count": null,
      "outputs": []
    },
    {
      "cell_type": "code",
      "source": [
        "## HoMeWoRk:: 10_Input_List\n",
        "##  all the entries--> string:: then string to list: print the LIST\n",
        "\n",
        "\n",
        "print(\"𝔼𝕟𝕥𝔼𝕣 𝕋𝕙𝕖 10 𝕗𝕆𝕆𝕕𝕊 𝕪𝕆𝕦 𝕃𝕚𝕂𝕖...\")\n",
        "Food1 = input(\"yeah tell the 1st fav food...\")\n",
        "Food2 = input(\"nice.. tell the 2nd fav food...\")\n",
        "Food3 = input(\"Good... tell the 3rd fav food...\")\n",
        "Food4 = input(\"now tell the 4th fav food...\")\n",
        "Food5 = input(\"Cool tell the 5th fav food...\")\n",
        "Food6 = input(\"Nett... tell the 6th fav food...\")\n",
        "Food7 = input(\"Yumm.... tell the 7th fav food...\")\n",
        "Food8 = input(\"Awesommmm... tell the 8th fav food...\")\n",
        "Food9 = input(\"Yummy... tell the 9th fav food...\")\n",
        "Food10 = input(\"Finally tell the 10th fav food...\")\n",
        "print(\"𝕪𝕆𝕌𝕣 𝟙𝟘 𝕗𝔸𝕧𝕆𝕣𝕀𝕥𝔼 𝕗𝕆𝕆𝕕𝕊 𝔸𝕣𝔼...\")\n",
        "for name in foods:\n",
        "    print(Food1)"
      ],
      "metadata": {
        "colab": {
          "base_uri": "https://localhost:8080/",
          "height": 440
        },
        "id": "t3q-T4CoDxAn",
        "outputId": "bd3b5b07-edba-46a9-f871-116e91dcc097"
      },
      "execution_count": null,
      "outputs": [
        {
          "output_type": "stream",
          "name": "stdout",
          "text": [
            "𝔼𝕟𝕥𝔼𝕣 𝕋𝕙𝕖 10 𝕗𝕆𝕆𝕕𝕊 𝕪𝕆𝕦 𝕃𝕚𝕂𝕖...\n",
            "yeah tell the 1st fav food...h\n",
            "nice.. tell the 2nd fav food...e\n",
            "Good... tell the 3rd fav food...l\n",
            "now tell the 4th fav food...l\n",
            "Cool tell the 5th fav food...o\n",
            "Nett... tell the 6th fav food...w\n",
            "Yumm.... tell the 7th fav food...o\n",
            "Awesommmm... tell the 8th fav food...r\n",
            "Yummy... tell the 9th fav food...l\n",
            "Fianlly tell the 10th fav food...d\n",
            "𝕪𝕆𝕌𝕣 𝟙𝟘 𝕗𝔸𝕧𝕆𝕣𝕀𝕥𝔼 𝕗𝕆𝕆𝕕𝕊 𝔸𝕣𝔼...\n"
          ]
        },
        {
          "output_type": "error",
          "ename": "NameError",
          "evalue": "ignored",
          "traceback": [
            "\u001b[0;31m---------------------------------------------------------------------------\u001b[0m",
            "\u001b[0;31mNameError\u001b[0m                                 Traceback (most recent call last)",
            "\u001b[0;32m<ipython-input-3-35ac03afa07a>\u001b[0m in \u001b[0;36m<module>\u001b[0;34m\u001b[0m\n\u001b[1;32m     12\u001b[0m \u001b[0mFood10\u001b[0m \u001b[0;34m=\u001b[0m \u001b[0minput\u001b[0m\u001b[0;34m(\u001b[0m\u001b[0;34m\"Fianlly tell the 10th fav food...\"\u001b[0m\u001b[0;34m)\u001b[0m\u001b[0;34m\u001b[0m\u001b[0;34m\u001b[0m\u001b[0m\n\u001b[1;32m     13\u001b[0m \u001b[0mprint\u001b[0m\u001b[0;34m(\u001b[0m\u001b[0;34m\"𝕪𝕆𝕌𝕣 𝟙𝟘 𝕗𝔸𝕧𝕆𝕣𝕀𝕥𝔼 𝕗𝕆𝕆𝕕𝕊 𝔸𝕣𝔼...\"\u001b[0m\u001b[0;34m)\u001b[0m\u001b[0;34m\u001b[0m\u001b[0;34m\u001b[0m\u001b[0m\n\u001b[0;32m---> 14\u001b[0;31m \u001b[0;32mfor\u001b[0m \u001b[0mname\u001b[0m \u001b[0;32min\u001b[0m \u001b[0mfoods\u001b[0m\u001b[0;34m:\u001b[0m\u001b[0;34m\u001b[0m\u001b[0;34m\u001b[0m\u001b[0m\n\u001b[0m\u001b[1;32m     15\u001b[0m     \u001b[0mprint\u001b[0m\u001b[0;34m(\u001b[0m\u001b[0mFood1\u001b[0m\u001b[0;34m)\u001b[0m\u001b[0;34m\u001b[0m\u001b[0;34m\u001b[0m\u001b[0m\n",
            "\u001b[0;31mNameError\u001b[0m: name 'foods' is not defined"
          ]
        }
      ]
    },
    {
      "cell_type": "code",
      "source": [
        "Food_U_Like = input(\"𝔼𝕟𝕥𝔼𝕣 𝕋𝕙𝕖 10 𝕗𝕆𝕆𝕕𝕊 𝕪𝕆𝕦 𝕃𝕚𝕂𝕖...\")\n",
        "foods = Food_U_Like.split(\",\")\n",
        "print(\"𝕪𝕆𝕌𝕣 𝟙𝟘 𝕗𝔸𝕧𝕆𝕣𝕀𝕥𝔼 𝕗𝕆𝕆𝕕𝕊 𝔸𝕣𝔼...\")\n",
        "for name in foods:\n",
        "  print(name)"
      ],
      "metadata": {
        "colab": {
          "base_uri": "https://localhost:8080/",
          "height": 250
        },
        "id": "qza2jE2NDxN-",
        "outputId": "cac41934-0bf5-4319-a527-4e69b10c6401"
      },
      "execution_count": null,
      "outputs": [
        {
          "output_type": "error",
          "ename": "TypeError",
          "evalue": "ignored",
          "traceback": [
            "\u001b[0;31m---------------------------------------------------------------------------\u001b[0m",
            "\u001b[0;31mTypeError\u001b[0m                                 Traceback (most recent call last)",
            "\u001b[0;32m<ipython-input-11-61aad9d28ddf>\u001b[0m in \u001b[0;36m<module>\u001b[0;34m\u001b[0m\n\u001b[0;32m----> 1\u001b[0;31m \u001b[0mFood_U_Like\u001b[0m \u001b[0;34m=\u001b[0m \u001b[0minput\u001b[0m\u001b[0;34m(\u001b[0m\u001b[0;34m\"𝔼𝕟𝕥𝔼𝕣 𝕋𝕙𝕖 10 𝕗𝕆𝕆𝕕𝕊 𝕪𝕆𝕦 𝕃𝕚𝕂𝕖...\"\u001b[0m\u001b[0;34m)\u001b[0m\u001b[0;34m\u001b[0m\u001b[0;34m\u001b[0m\u001b[0m\n\u001b[0m\u001b[1;32m      2\u001b[0m \u001b[0mfoods\u001b[0m \u001b[0;34m=\u001b[0m \u001b[0mFood_U_Like\u001b[0m\u001b[0;34m.\u001b[0m\u001b[0msplit\u001b[0m\u001b[0;34m(\u001b[0m\u001b[0;34m\",\"\u001b[0m\u001b[0;34m)\u001b[0m\u001b[0;34m\u001b[0m\u001b[0;34m\u001b[0m\u001b[0m\n\u001b[1;32m      3\u001b[0m \u001b[0mprint\u001b[0m\u001b[0;34m(\u001b[0m\u001b[0;34m\"𝕪𝕆𝕌𝕣 𝟙𝟘 𝕗𝔸𝕧𝕆𝕣𝕀𝕥𝔼 𝕗𝕆𝕆𝕕𝕊 𝔸𝕣𝔼...\"\u001b[0m\u001b[0;34m)\u001b[0m\u001b[0;34m\u001b[0m\u001b[0;34m\u001b[0m\u001b[0m\n\u001b[1;32m      4\u001b[0m \u001b[0;32mfor\u001b[0m \u001b[0mname\u001b[0m \u001b[0;32min\u001b[0m \u001b[0mfoods\u001b[0m\u001b[0;34m:\u001b[0m\u001b[0;34m\u001b[0m\u001b[0;34m\u001b[0m\u001b[0m\n\u001b[1;32m      5\u001b[0m   \u001b[0mprint\u001b[0m\u001b[0;34m(\u001b[0m\u001b[0mname\u001b[0m\u001b[0;34m)\u001b[0m\u001b[0;34m\u001b[0m\u001b[0;34m\u001b[0m\u001b[0m\n",
            "\u001b[0;31mTypeError\u001b[0m: 'str' object is not callable"
          ]
        }
      ]
    },
    {
      "cell_type": "code",
      "source": [
        "List_Of_Food = [ ]\n",
        "n = int(input(\"Enter number of Items : \"))\n",
        "\n",
        "for i in range(0, n):\n",
        "    food = [input(), int(input())]\n",
        "    List_Of_Food.append(food)\n",
        "\n",
        "print(List_Of_Food)"
      ],
      "metadata": {
        "colab": {
          "base_uri": "https://localhost:8080/",
          "height": 296
        },
        "id": "c24DHac4Sa7z",
        "outputId": "120aeac2-9117-48fb-88d4-084406b0a701"
      },
      "execution_count": null,
      "outputs": [
        {
          "name": "stdout",
          "output_type": "stream",
          "text": [
            "Enter number of Items : 5\n",
            "h\n",
            "e\n"
          ]
        },
        {
          "output_type": "error",
          "ename": "ValueError",
          "evalue": "ignored",
          "traceback": [
            "\u001b[0;31m---------------------------------------------------------------------------\u001b[0m",
            "\u001b[0;31mValueError\u001b[0m                                Traceback (most recent call last)",
            "\u001b[0;32m<ipython-input-6-3d2a2a045b4c>\u001b[0m in \u001b[0;36m<module>\u001b[0;34m\u001b[0m\n\u001b[1;32m      3\u001b[0m \u001b[0;34m\u001b[0m\u001b[0m\n\u001b[1;32m      4\u001b[0m \u001b[0;32mfor\u001b[0m \u001b[0mi\u001b[0m \u001b[0;32min\u001b[0m \u001b[0mrange\u001b[0m\u001b[0;34m(\u001b[0m\u001b[0;36m0\u001b[0m\u001b[0;34m,\u001b[0m \u001b[0mn\u001b[0m\u001b[0;34m)\u001b[0m\u001b[0;34m:\u001b[0m\u001b[0;34m\u001b[0m\u001b[0;34m\u001b[0m\u001b[0m\n\u001b[0;32m----> 5\u001b[0;31m     \u001b[0mfood\u001b[0m \u001b[0;34m=\u001b[0m \u001b[0;34m[\u001b[0m\u001b[0minput\u001b[0m\u001b[0;34m(\u001b[0m\u001b[0;34m)\u001b[0m\u001b[0;34m,\u001b[0m \u001b[0mint\u001b[0m\u001b[0;34m(\u001b[0m\u001b[0minput\u001b[0m\u001b[0;34m(\u001b[0m\u001b[0;34m)\u001b[0m\u001b[0;34m)\u001b[0m\u001b[0;34m]\u001b[0m\u001b[0;34m\u001b[0m\u001b[0;34m\u001b[0m\u001b[0m\n\u001b[0m\u001b[1;32m      6\u001b[0m     \u001b[0mList_Of_Food\u001b[0m\u001b[0;34m.\u001b[0m\u001b[0mappend\u001b[0m\u001b[0;34m(\u001b[0m\u001b[0mfood\u001b[0m\u001b[0;34m)\u001b[0m\u001b[0;34m\u001b[0m\u001b[0;34m\u001b[0m\u001b[0m\n\u001b[1;32m      7\u001b[0m \u001b[0;34m\u001b[0m\u001b[0m\n",
            "\u001b[0;31mValueError\u001b[0m: invalid literal for int() with base 10: 'e'"
          ]
        }
      ]
    },
    {
      "cell_type": "code",
      "source": [
        "### LECTURE_6: 20-Nov-2022"
      ],
      "metadata": {
        "id": "fp1DN_u8ZGYV"
      },
      "execution_count": null,
      "outputs": []
    },
    {
      "cell_type": "code",
      "source": [
        "## Relational, Comparison  Operator"
      ],
      "metadata": {
        "id": "UvDwOb3BZGkG"
      },
      "execution_count": null,
      "outputs": []
    },
    {
      "cell_type": "code",
      "source": [
        "a=5\n",
        "b=10\n",
        "c=13\n",
        "d=23"
      ],
      "metadata": {
        "id": "EROimxcmZGmq"
      },
      "execution_count": null,
      "outputs": []
    },
    {
      "cell_type": "code",
      "source": [
        "print(a==b)"
      ],
      "metadata": {
        "colab": {
          "base_uri": "https://localhost:8080/"
        },
        "id": "qUhGhrJWZGp7",
        "outputId": "afa7d118-db73-474a-890b-5f9886c5fda1"
      },
      "execution_count": null,
      "outputs": [
        {
          "output_type": "stream",
          "name": "stdout",
          "text": [
            "False\n"
          ]
        }
      ]
    },
    {
      "cell_type": "code",
      "source": [
        "print(a>b)"
      ],
      "metadata": {
        "colab": {
          "base_uri": "https://localhost:8080/"
        },
        "id": "3Mg_C67TaO3U",
        "outputId": "3f3eae07-41c8-4dad-c440-467f905716f1"
      },
      "execution_count": null,
      "outputs": [
        {
          "output_type": "stream",
          "name": "stdout",
          "text": [
            "False\n"
          ]
        }
      ]
    },
    {
      "cell_type": "code",
      "source": [
        "print(a<b)"
      ],
      "metadata": {
        "colab": {
          "base_uri": "https://localhost:8080/"
        },
        "id": "DGMDlqmGaO6a",
        "outputId": "f08bf8c2-1be8-4bb8-a759-605b8f61f071"
      },
      "execution_count": null,
      "outputs": [
        {
          "output_type": "stream",
          "name": "stdout",
          "text": [
            "True\n"
          ]
        }
      ]
    },
    {
      "cell_type": "code",
      "source": [
        "print(a!=b)"
      ],
      "metadata": {
        "colab": {
          "base_uri": "https://localhost:8080/"
        },
        "id": "8Avqs5SuaO8p",
        "outputId": "d2cdaf8a-a413-48ed-ef37-fe3730fdeeab"
      },
      "execution_count": null,
      "outputs": [
        {
          "output_type": "stream",
          "name": "stdout",
          "text": [
            "True\n"
          ]
        }
      ]
    },
    {
      "cell_type": "code",
      "source": [
        "print(a>=b)"
      ],
      "metadata": {
        "colab": {
          "base_uri": "https://localhost:8080/"
        },
        "id": "EFjsTrrwalUp",
        "outputId": "4367fcf0-dc7b-4638-8da0-d45b954c2381"
      },
      "execution_count": null,
      "outputs": [
        {
          "output_type": "stream",
          "name": "stdout",
          "text": [
            "False\n"
          ]
        }
      ]
    },
    {
      "cell_type": "code",
      "source": [
        "print(a<=b)"
      ],
      "metadata": {
        "colab": {
          "base_uri": "https://localhost:8080/"
        },
        "id": "d0DPBM6galXP",
        "outputId": "fd6fdaff-7bdc-4e26-d7ed-842a06ee0a69"
      },
      "execution_count": null,
      "outputs": [
        {
          "output_type": "stream",
          "name": "stdout",
          "text": [
            "True\n"
          ]
        }
      ]
    },
    {
      "cell_type": "code",
      "source": [
        "# Assignment Operators"
      ],
      "metadata": {
        "id": "bNo3bSLFalZ_"
      },
      "execution_count": null,
      "outputs": []
    },
    {
      "cell_type": "code",
      "source": [
        "b+=a\n",
        "print(b)"
      ],
      "metadata": {
        "colab": {
          "base_uri": "https://localhost:8080/"
        },
        "id": "sCUgMkHUa_A4",
        "outputId": "8cccfb3c-9966-4eba-e121-f046c6c1e252"
      },
      "execution_count": null,
      "outputs": [
        {
          "output_type": "stream",
          "name": "stdout",
          "text": [
            "25\n"
          ]
        }
      ]
    },
    {
      "cell_type": "code",
      "source": [
        "b-=a\n",
        "print(b)"
      ],
      "metadata": {
        "colab": {
          "base_uri": "https://localhost:8080/"
        },
        "id": "spgFPPKsa_DQ",
        "outputId": "f7036deb-6207-4643-ce38-604d1b0894af"
      },
      "execution_count": null,
      "outputs": [
        {
          "output_type": "stream",
          "name": "stdout",
          "text": [
            "20\n"
          ]
        }
      ]
    },
    {
      "cell_type": "code",
      "source": [
        "b*=a\n",
        "print(b)"
      ],
      "metadata": {
        "colab": {
          "base_uri": "https://localhost:8080/"
        },
        "id": "ZnPnpkqya_GE",
        "outputId": "269a016e-ed7b-41af-cebf-970a770aec18"
      },
      "execution_count": null,
      "outputs": [
        {
          "output_type": "stream",
          "name": "stdout",
          "text": [
            "100\n"
          ]
        }
      ]
    },
    {
      "cell_type": "code",
      "source": [
        "b/=a\n",
        "print(b)"
      ],
      "metadata": {
        "colab": {
          "base_uri": "https://localhost:8080/"
        },
        "id": "3yECYZtAa_IX",
        "outputId": "68eee994-924c-46dc-9464-c66a31f021e3"
      },
      "execution_count": null,
      "outputs": [
        {
          "output_type": "stream",
          "name": "stdout",
          "text": [
            "20.0\n"
          ]
        }
      ]
    },
    {
      "cell_type": "code",
      "source": [
        "# Membership Operators"
      ],
      "metadata": {
        "id": "j5PgvSI7brWo"
      },
      "execution_count": null,
      "outputs": []
    },
    {
      "cell_type": "code",
      "source": [
        "x={2,4,6,8,10}\n",
        "y=4\n",
        "z=5"
      ],
      "metadata": {
        "id": "QS_t0MGHbrZO"
      },
      "execution_count": null,
      "outputs": []
    },
    {
      "cell_type": "code",
      "source": [
        "print(y in x)"
      ],
      "metadata": {
        "colab": {
          "base_uri": "https://localhost:8080/"
        },
        "id": "24TFdwzybrcC",
        "outputId": "57f0b9c3-0fdc-4ab3-e3a7-bd2e6c1999e0"
      },
      "execution_count": null,
      "outputs": [
        {
          "output_type": "stream",
          "name": "stdout",
          "text": [
            "True\n"
          ]
        }
      ]
    },
    {
      "cell_type": "code",
      "source": [
        "print(z in x)"
      ],
      "metadata": {
        "colab": {
          "base_uri": "https://localhost:8080/"
        },
        "id": "b-ek2UEFbrfJ",
        "outputId": "06b6f13e-4dc7-4f0c-f749-a63f72ceacfd"
      },
      "execution_count": null,
      "outputs": [
        {
          "output_type": "stream",
          "name": "stdout",
          "text": [
            "False\n"
          ]
        }
      ]
    },
    {
      "cell_type": "code",
      "source": [
        "print(y not in x)"
      ],
      "metadata": {
        "colab": {
          "base_uri": "https://localhost:8080/"
        },
        "id": "pq6UIguncI0k",
        "outputId": "264b538d-4a0f-48e5-a1b3-8a6bea5ad8d5"
      },
      "execution_count": null,
      "outputs": [
        {
          "output_type": "stream",
          "name": "stdout",
          "text": [
            "False\n"
          ]
        }
      ]
    },
    {
      "cell_type": "code",
      "source": [
        "x=6\n",
        "y=4\n",
        "z=3\n",
        "print(x>y and z<y)"
      ],
      "metadata": {
        "colab": {
          "base_uri": "https://localhost:8080/"
        },
        "id": "hmjH8oT4cI3B",
        "outputId": "607918a7-571f-43dc-8daa-0a792766364e"
      },
      "execution_count": null,
      "outputs": [
        {
          "output_type": "stream",
          "name": "stdout",
          "text": [
            "True\n"
          ]
        }
      ]
    },
    {
      "cell_type": "code",
      "source": [
        "# IS & ISNOT Operator"
      ],
      "metadata": {
        "id": "JMkKojUAdqHh"
      },
      "execution_count": null,
      "outputs": []
    },
    {
      "cell_type": "code",
      "source": [
        "p=[2,4,6,8]\n",
        "q=p\n",
        "r=[1,3,5,7]"
      ],
      "metadata": {
        "id": "ZLxAZZbkdE_p"
      },
      "execution_count": null,
      "outputs": []
    },
    {
      "cell_type": "code",
      "source": [
        "print(p is q)"
      ],
      "metadata": {
        "colab": {
          "base_uri": "https://localhost:8080/"
        },
        "id": "o2mkHVQmdFCj",
        "outputId": "a7f65c4d-f2c4-4e7b-8354-205914adede7"
      },
      "execution_count": null,
      "outputs": [
        {
          "output_type": "stream",
          "name": "stdout",
          "text": [
            "True\n"
          ]
        }
      ]
    },
    {
      "cell_type": "code",
      "source": [
        "print(p is not r)"
      ],
      "metadata": {
        "colab": {
          "base_uri": "https://localhost:8080/"
        },
        "id": "t8EcbXFBde86",
        "outputId": "365d4fcd-c0c5-4af1-e500-4604335c0470"
      },
      "execution_count": null,
      "outputs": [
        {
          "output_type": "stream",
          "name": "stdout",
          "text": [
            "True\n"
          ]
        }
      ]
    },
    {
      "cell_type": "code",
      "source": [
        "## *Conditional Statements*"
      ],
      "metadata": {
        "id": "h6iV5YJAdfF6"
      },
      "execution_count": null,
      "outputs": []
    },
    {
      "cell_type": "code",
      "source": [
        "a=10\n",
        "b=20\n",
        "if(a>b):\n",
        "  print(\"Roses are Red, Skies are Blue\")\n",
        "else:\n",
        "  print(\"Nothing is True\")"
      ],
      "metadata": {
        "colab": {
          "base_uri": "https://localhost:8080/"
        },
        "id": "v6J4R18tdfIt",
        "outputId": "33760f81-b59b-4cce-d007-06847d847d91"
      },
      "execution_count": null,
      "outputs": [
        {
          "output_type": "stream",
          "name": "stdout",
          "text": [
            "Nothing is True\n"
          ]
        }
      ]
    },
    {
      "cell_type": "code",
      "source": [
        "a=int(input())\n",
        "b=int(input())\n",
        "if(a>b):\n",
        "  print(\"Roses are Red, Skies are Blue\")\n",
        "else:\n",
        "  print(\"Nothing is True\")"
      ],
      "metadata": {
        "colab": {
          "base_uri": "https://localhost:8080/"
        },
        "id": "4rdXLGYLd-eG",
        "outputId": "2932836e-8c4b-4542-e334-287daf177645"
      },
      "execution_count": null,
      "outputs": [
        {
          "output_type": "stream",
          "name": "stdout",
          "text": [
            "9\n",
            "2\n",
            "Roses are Red, Skies are Blue\n"
          ]
        }
      ]
    },
    {
      "cell_type": "code",
      "source": [
        "### LECTURE_6: 20-Nov-2022\n",
        "### ~FIN~"
      ],
      "metadata": {
        "id": "0roSuKg_d-hK"
      },
      "execution_count": null,
      "outputs": []
    },
    {
      "cell_type": "code",
      "source": [],
      "metadata": {
        "id": "zCFn2QLsUVu7"
      },
      "execution_count": null,
      "outputs": []
    },
    {
      "cell_type": "code",
      "source": [
        "@@@@@@@@@@@@@@@@@@@@@@@@@@@@@@@@@@@@@@@@@@@@@@@@@@@@@@@@@@@@@@@@@@@@@@@@@"
      ],
      "metadata": {
        "id": "uecvmOtOUVyF"
      },
      "execution_count": null,
      "outputs": []
    },
    {
      "cell_type": "code",
      "source": [
        "## HoMeWoRk:: 10_Input_List\n",
        "##  all the entries--> string:: then string to list: print the LIST\n",
        "\n",
        "def Convert(string):\n",
        "    li = list(string.split(\" \"))\n",
        "    return li\n",
        "\n",
        "print(\"𝔼𝕟𝕥𝔼𝕣 𝕋𝕙𝕖 10 𝕗𝕆𝕆𝕕𝕊 𝕪𝕆𝕦 𝕃𝕚𝕂𝕖...\")\n",
        "Food1 = input(\"yeah tell the 1st fav food...\")\n",
        "Food2 = input(\"nice.. tell the 2nd fav food...\")\n",
        "Food3 = input(\"Good... tell the 3rd fav food...\")\n",
        "Food4 = input(\"now tell the 4th fav food...\")\n",
        "Food5 = input(\"Cool tell the 5th fav food...\")\n",
        "Food6 = input(\"Nett... tell the 6th fav food...\")\n",
        "Food7 = input(\"Yumm.... tell the 7th fav food...\")\n",
        "Food8 = input(\"Awesommmm... tell the 8th fav food...\")\n",
        "Food9 = input(\"Yummy... tell the 9th fav food...\")\n",
        "Food10 = input(\"Finally tell the 10th fav food...\")\n",
        "print(\"𝕪𝕆𝕌𝕣 𝟙𝟘 𝕗𝔸𝕧𝕆𝕣𝕀𝕥𝔼 𝕗𝕆𝕆𝕕𝕊 𝔸𝕣𝔼...\")\n",
        "Foods= (Food1 +\"','\"+ Food2)\n",
        "print(Convert(Foods))"
      ],
      "metadata": {
        "colab": {
          "base_uri": "https://localhost:8080/",
          "height": 548
        },
        "id": "EHTp8zhtK2_S",
        "outputId": "75106470-ee0f-4c15-f847-6cd275ac552d"
      },
      "execution_count": null,
      "outputs": [
        {
          "output_type": "stream",
          "name": "stdout",
          "text": [
            "𝔼𝕟𝕥𝔼𝕣 𝕋𝕙𝕖 10 𝕗𝕆𝕆𝕕𝕊 𝕪𝕆𝕦 𝕃𝕚𝕂𝕖...\n",
            "yeah tell the 1st fav food...a\n",
            "nice.. tell the 2nd fav food...a\n",
            "Good... tell the 3rd fav food...a\n",
            "now tell the 4th fav food...a\n",
            "Cool tell the 5th fav food...a\n",
            "Nett... tell the 6th fav food...a\n",
            "Yumm.... tell the 7th fav food...a\n",
            "Awesommmm... tell the 8th fav food...a\n",
            "Yummy... tell the 9th fav food...a\n",
            "Finally tell the 10th fav food...a\n",
            "𝕪𝕆𝕌𝕣 𝟙𝟘 𝕗𝔸𝕧𝕆𝕣𝕀𝕥𝔼 𝕗𝕆𝕆𝕕𝕊 𝔸𝕣𝔼...\n"
          ]
        },
        {
          "output_type": "error",
          "ename": "AttributeError",
          "evalue": "ignored",
          "traceback": [
            "\u001b[0;31m---------------------------------------------------------------------------\u001b[0m",
            "\u001b[0;31mAttributeError\u001b[0m                            Traceback (most recent call last)",
            "\u001b[0;32m<ipython-input-23-8eea322ea03a>\u001b[0m in \u001b[0;36m<module>\u001b[0;34m\u001b[0m\n\u001b[1;32m     19\u001b[0m \u001b[0mprint\u001b[0m\u001b[0;34m(\u001b[0m\u001b[0;34m\"𝕪𝕆𝕌𝕣 𝟙𝟘 𝕗𝔸𝕧𝕆𝕣𝕀𝕥𝔼 𝕗𝕆𝕆𝕕𝕊 𝔸𝕣𝔼...\"\u001b[0m\u001b[0;34m)\u001b[0m\u001b[0;34m\u001b[0m\u001b[0;34m\u001b[0m\u001b[0m\n\u001b[1;32m     20\u001b[0m \u001b[0mFoods\u001b[0m\u001b[0;34m=\u001b[0m \u001b[0;34m(\u001b[0m\u001b[0mFood1\u001b[0m \u001b[0;34m+\u001b[0m\u001b[0;34m\"\"\u001b[0m\u001b[0;34m,\u001b[0m\u001b[0;34m\"\"\u001b[0m\u001b[0;34m+\u001b[0m \u001b[0mFood2\u001b[0m\u001b[0;34m)\u001b[0m\u001b[0;34m\u001b[0m\u001b[0;34m\u001b[0m\u001b[0m\n\u001b[0;32m---> 21\u001b[0;31m \u001b[0mprint\u001b[0m\u001b[0;34m(\u001b[0m\u001b[0mConvert\u001b[0m\u001b[0;34m(\u001b[0m\u001b[0mFoods\u001b[0m\u001b[0;34m)\u001b[0m\u001b[0;34m)\u001b[0m\u001b[0;34m\u001b[0m\u001b[0;34m\u001b[0m\u001b[0m\n\u001b[0m",
            "\u001b[0;32m<ipython-input-23-8eea322ea03a>\u001b[0m in \u001b[0;36mConvert\u001b[0;34m(string)\u001b[0m\n\u001b[1;32m      3\u001b[0m \u001b[0;34m\u001b[0m\u001b[0m\n\u001b[1;32m      4\u001b[0m \u001b[0;32mdef\u001b[0m \u001b[0mConvert\u001b[0m\u001b[0;34m(\u001b[0m\u001b[0mstring\u001b[0m\u001b[0;34m)\u001b[0m\u001b[0;34m:\u001b[0m\u001b[0;34m\u001b[0m\u001b[0;34m\u001b[0m\u001b[0m\n\u001b[0;32m----> 5\u001b[0;31m     \u001b[0mli\u001b[0m \u001b[0;34m=\u001b[0m \u001b[0mlist\u001b[0m\u001b[0;34m(\u001b[0m\u001b[0mstring\u001b[0m\u001b[0;34m.\u001b[0m\u001b[0msplit\u001b[0m\u001b[0;34m(\u001b[0m\u001b[0;34m\" \"\u001b[0m\u001b[0;34m)\u001b[0m\u001b[0;34m)\u001b[0m\u001b[0;34m\u001b[0m\u001b[0;34m\u001b[0m\u001b[0m\n\u001b[0m\u001b[1;32m      6\u001b[0m     \u001b[0;32mreturn\u001b[0m \u001b[0mli\u001b[0m\u001b[0;34m\u001b[0m\u001b[0;34m\u001b[0m\u001b[0m\n\u001b[1;32m      7\u001b[0m \u001b[0;34m\u001b[0m\u001b[0m\n",
            "\u001b[0;31mAttributeError\u001b[0m: 'tuple' object has no attribute 'split'"
          ]
        }
      ]
    },
    {
      "cell_type": "code",
      "source": [
        "def Convert(string):\n",
        "    li = list(string.split(\" \"))\n",
        "    return li\n",
        "\n",
        "\n",
        "# Driver code\n",
        "str1 = input(\"give the string input: \")\n",
        "print(Convert(str1))"
      ],
      "metadata": {
        "colab": {
          "base_uri": "https://localhost:8080/"
        },
        "id": "WcM78kmmK3B1",
        "outputId": "84c83e1e-024b-49b1-c042-f938b2b9acf3"
      },
      "execution_count": null,
      "outputs": [
        {
          "output_type": "stream",
          "name": "stdout",
          "text": [
            "give the string input: ba ba black sheep\n",
            "['ba', 'ba', 'black', 'sheep']\n"
          ]
        }
      ]
    },
    {
      "cell_type": "code",
      "source": [
        "Food_List = [ ]\n",
        "n = int(input(\"Enter number of Food Items you Like: \"))\n",
        "for i in range(0, n):\n",
        "  ele = [input()]\n",
        "  Food_List.append(ele)\n",
        "print(\"Your Favorite Food Item are: \", Food_List)"
      ],
      "metadata": {
        "colab": {
          "base_uri": "https://localhost:8080/"
        },
        "id": "2dvpDsG3Szkk",
        "outputId": "71c1cc9c-4d85-4d51-8bfc-baf26ce3d5a8"
      },
      "execution_count": null,
      "outputs": [
        {
          "output_type": "stream",
          "name": "stdout",
          "text": [
            "Enter number of Food Items : 5\n",
            "h\n",
            "e\n",
            "l\n",
            "l\n",
            "o\n",
            "Your Favorite Food Item are:  [['h'], ['e'], ['l'], ['l'], ['o']]\n"
          ]
        }
      ]
    },
    {
      "cell_type": "code",
      "source": [
        "my_list = []\n",
        "\n",
        "for _ in range(5):\n",
        "    try:\n",
        "        my_list.append((input('Enter the string: ')))\n",
        "    except ValueError:\n",
        "        print('The provided value is not an integer')\n",
        "\n",
        "\n",
        "print(my_list)"
      ],
      "metadata": {
        "colab": {
          "base_uri": "https://localhost:8080/"
        },
        "id": "dU_ixQVhT8dm",
        "outputId": "fbce619d-1dd2-4b9c-dbdb-7225d6b7c779"
      },
      "execution_count": null,
      "outputs": [
        {
          "output_type": "stream",
          "name": "stdout",
          "text": [
            "Enter the string: 6\n",
            "Enter the string: h\n",
            "Enter the string: \n",
            "Enter the string: k\n",
            "Enter the string: 9\n",
            "['6', 'h', '', 'k', '9']\n"
          ]
        }
      ]
    },
    {
      "cell_type": "code",
      "source": [
        "@@@@@@@@@@@@@@@@@@@@@@@@@@@@@@@@@@@@@@@@@@@@@@@@@@@@@@@@@@"
      ],
      "metadata": {
        "id": "9AULfW4adGwL"
      },
      "execution_count": null,
      "outputs": []
    },
    {
      "cell_type": "code",
      "source": [
        "### LECTURE_7: 26-Nov-2022\n",
        "###  Conditional Statement: TBC"
      ],
      "metadata": {
        "id": "2LvHGSKsjaMR"
      },
      "execution_count": null,
      "outputs": []
    },
    {
      "cell_type": "code",
      "source": [
        "# Here multiple If statements will run\n",
        "a=5\n",
        "b=10\n",
        "c=20\n",
        "\n",
        "if (a>b):\n",
        "  print(\"a is greater than b\")\n",
        "if (a>c):\n",
        "  print(\"a is greater than b\")\n",
        "if (c>a):\n",
        "  print(\"c is greater than a\")\n",
        "if (c>b):\n",
        "  print(\"c is greater than a\")\n",
        "if (b>a):\n",
        "  print(\"b is greater than a\")\n",
        "else:\n",
        "  print(\"All are Great\")"
      ],
      "metadata": {
        "colab": {
          "base_uri": "https://localhost:8080/"
        },
        "id": "Bl0JgFkljaO1",
        "outputId": "ef7b2b07-9b6b-4bc0-eec4-4882d907f552"
      },
      "execution_count": null,
      "outputs": [
        {
          "output_type": "stream",
          "name": "stdout",
          "text": [
            "c is greater than a\n",
            "c is greater than a\n",
            "b is greater than a\n"
          ]
        }
      ]
    },
    {
      "cell_type": "code",
      "source": [
        "# Here ONLY One If statements will run: The First one to execute\n",
        "a=5\n",
        "b=10\n",
        "c=20\n",
        "\n",
        "if (a>b):\n",
        "  print(\"a is greater than b\")\n",
        "elif (a>c):\n",
        "  print(\"a is greater than b\")\n",
        "elif (c>a):\n",
        "  print(\"c is greater than a\")\n",
        "elif (c>b):\n",
        "  print(\"c is greater than a\")\n",
        "elif (b>a):\n",
        "  print(\"b is greater than a\")\n",
        "else:\n",
        "  print(\"All are Great\")"
      ],
      "metadata": {
        "colab": {
          "base_uri": "https://localhost:8080/"
        },
        "id": "R5LL014VjaRj",
        "outputId": "e28525b2-060a-4cb1-c5f0-f663af998713"
      },
      "execution_count": null,
      "outputs": [
        {
          "output_type": "stream",
          "name": "stdout",
          "text": [
            "c is greater than a\n"
          ]
        }
      ]
    },
    {
      "cell_type": "code",
      "source": [
        "# IF, AND, OR CONDITIONs\n",
        "\n",
        "x= int(input(\"enter the first number: \"))\n",
        "y= int(input(\"enter the second number: \"))\n",
        "if x>y and x>10:\n",
        "  print(\"X is Great !\")\n",
        "else:\n",
        "  print(\"Yeah then,, Y is Great !!\")"
      ],
      "metadata": {
        "colab": {
          "base_uri": "https://localhost:8080/"
        },
        "id": "mjzV2KF0jaUg",
        "outputId": "9906d24f-cf9a-49e0-c424-5926b6b2c5ed"
      },
      "execution_count": null,
      "outputs": [
        {
          "output_type": "stream",
          "name": "stdout",
          "text": [
            "enter the first number: 11\n",
            "enter the second number: 5\n",
            "X is Great !\n"
          ]
        }
      ]
    },
    {
      "cell_type": "code",
      "source": [
        "# NESTED IF\n",
        "\n",
        "name= input(\"enter your name: \")\n",
        "age= int(input(\"enter your age: \"))\n",
        "gender= input(\"enter your gender: \")\n",
        "\n",
        "if age>=20 and age<=40:\n",
        "  if gender==\"male\":\n",
        "    print(\"Your application is Elibilble for the Junior Steward Role\")\n",
        "  elif gender==\"female\":\n",
        "    print(\"Your application is Elibilble for the Junior Air Hostess Role\")\n",
        "  else:\n",
        "    print(\"provide your correct information\")\n",
        "\n",
        "elif age>=40 and age<=50:\n",
        "   if gender==\"male\":\n",
        "    print(\"Your application is Elibilble for the Senior Steward Role\")\n",
        "   elif gender==\"female\":\n",
        "    print(\"Your application is Elibilble for the Senior Air Hostess Role\")\n",
        "   else:\n",
        "    print(\"provide your correct information\")\n",
        "\n",
        "else:\n",
        "  print(\"Sorry, You are not elegible for the job now\")"
      ],
      "metadata": {
        "colab": {
          "base_uri": "https://localhost:8080/"
        },
        "id": "Q-Qs0_cWjaXD",
        "outputId": "bd2a459c-1aef-4e08-b349-251080202d03"
      },
      "execution_count": null,
      "outputs": [
        {
          "output_type": "stream",
          "name": "stdout",
          "text": [
            "enter your name: batman\n",
            "enter your age: 44\n",
            "enter your gender: male\n",
            "Your application is Elibilble for the Senior Steward Role\n"
          ]
        }
      ]
    },
    {
      "cell_type": "code",
      "source": [
        "#  Python_FUNCTIONS"
      ],
      "metadata": {
        "id": "SgoBvciFjaaS"
      },
      "execution_count": null,
      "outputs": []
    },
    {
      "cell_type": "code",
      "source": [
        "a=5\n",
        "b=8\n",
        "print(sum((a,b)))"
      ],
      "metadata": {
        "colab": {
          "base_uri": "https://localhost:8080/"
        },
        "id": "P0WQO_V_jacm",
        "outputId": "44a9890d-f548-4081-d1a7-43848dd6f8f3"
      },
      "execution_count": null,
      "outputs": [
        {
          "output_type": "stream",
          "name": "stdout",
          "text": [
            "13\n"
          ]
        }
      ]
    },
    {
      "cell_type": "code",
      "source": [
        "lst1=[2,4,6,7,9]\n",
        "lst2=[1,3,5,8,2]"
      ],
      "metadata": {
        "id": "G6dqNQLtH24N"
      },
      "execution_count": null,
      "outputs": []
    },
    {
      "cell_type": "code",
      "source": [
        "lst1.sort()\n",
        "print(lst1)"
      ],
      "metadata": {
        "colab": {
          "base_uri": "https://localhost:8080/"
        },
        "id": "BoAyeMoeH27x",
        "outputId": "c655d5a7-eb08-4361-e1b7-0a73d10ff439"
      },
      "execution_count": null,
      "outputs": [
        {
          "output_type": "stream",
          "name": "stdout",
          "text": [
            "[2, 4, 6, 7, 9]\n"
          ]
        }
      ]
    },
    {
      "cell_type": "code",
      "source": [
        "lst1.sort(reverse=True)\n",
        "print(lst1)"
      ],
      "metadata": {
        "colab": {
          "base_uri": "https://localhost:8080/"
        },
        "id": "mojbt77DH3Ao",
        "outputId": "9c8c1bce-a296-470d-f106-c497953442db"
      },
      "execution_count": null,
      "outputs": [
        {
          "output_type": "stream",
          "name": "stdout",
          "text": [
            "[9, 7, 6, 4, 2]\n"
          ]
        }
      ]
    },
    {
      "cell_type": "code",
      "source": [
        "print(len(dir(__builtin__)))"
      ],
      "metadata": {
        "colab": {
          "base_uri": "https://localhost:8080/"
        },
        "id": "rTTZBBw5be1G",
        "outputId": "490c398b-b6a5-40cd-dcd4-22fbcd0b6e25"
      },
      "execution_count": null,
      "outputs": [
        {
          "output_type": "stream",
          "name": "stdout",
          "text": [
            "155\n"
          ]
        }
      ]
    },
    {
      "cell_type": "code",
      "source": [
        "print(dir(__builtin__))"
      ],
      "metadata": {
        "id": "stH6Q0lAH3D9",
        "colab": {
          "base_uri": "https://localhost:8080/"
        },
        "outputId": "d9424884-591b-455b-a91a-e79d61ed4f82"
      },
      "execution_count": null,
      "outputs": [
        {
          "output_type": "stream",
          "name": "stdout",
          "text": [
            "['ArithmeticError', 'AssertionError', 'AttributeError', 'BaseException', 'BlockingIOError', 'BrokenPipeError', 'BufferError', 'BytesWarning', 'ChildProcessError', 'ConnectionAbortedError', 'ConnectionError', 'ConnectionRefusedError', 'ConnectionResetError', 'DeprecationWarning', 'EOFError', 'Ellipsis', 'EnvironmentError', 'Exception', 'False', 'FileExistsError', 'FileNotFoundError', 'FloatingPointError', 'FutureWarning', 'GeneratorExit', 'IOError', 'ImportError', 'ImportWarning', 'IndentationError', 'IndexError', 'InterruptedError', 'IsADirectoryError', 'KeyError', 'KeyboardInterrupt', 'LookupError', 'MemoryError', 'ModuleNotFoundError', 'NameError', 'None', 'NotADirectoryError', 'NotImplemented', 'NotImplementedError', 'OSError', 'OverflowError', 'PendingDeprecationWarning', 'PermissionError', 'ProcessLookupError', 'RecursionError', 'ReferenceError', 'ResourceWarning', 'RuntimeError', 'RuntimeWarning', 'StopAsyncIteration', 'StopIteration', 'SyntaxError', 'SyntaxWarning', 'SystemError', 'SystemExit', 'TabError', 'TimeoutError', 'True', 'TypeError', 'UnboundLocalError', 'UnicodeDecodeError', 'UnicodeEncodeError', 'UnicodeError', 'UnicodeTranslateError', 'UnicodeWarning', 'UserWarning', 'ValueError', 'Warning', 'ZeroDivisionError', '__IPYTHON__', '__build_class__', '__debug__', '__doc__', '__import__', '__loader__', '__name__', '__package__', '__spec__', 'abs', 'all', 'any', 'ascii', 'bin', 'bool', 'breakpoint', 'bytearray', 'bytes', 'callable', 'chr', 'classmethod', 'compile', 'complex', 'copyright', 'credits', 'delattr', 'dict', 'dir', 'display', 'divmod', 'enumerate', 'eval', 'exec', 'execfile', 'filter', 'float', 'format', 'frozenset', 'get_ipython', 'getattr', 'globals', 'hasattr', 'hash', 'help', 'hex', 'id', 'input', 'int', 'isinstance', 'issubclass', 'iter', 'len', 'license', 'list', 'locals', 'map', 'max', 'memoryview', 'min', 'next', 'object', 'oct', 'open', 'ord', 'pow', 'print', 'property', 'range', 'repr', 'reversed', 'round', 'runfile', 'set', 'setattr', 'slice', 'sorted', 'staticmethod', 'str', 'sum', 'super', 'tuple', 'type', 'vars', 'zip']\n"
          ]
        }
      ]
    },
    {
      "cell_type": "code",
      "source": [
        "n1=int(input(\"enter the first number: \"))\n",
        "n2=int(input(\"enter the second number: \"))\n",
        "def average(n1,n2):\n",
        "  avg=(n1+n2)/2\n",
        "  return avg\n",
        "print(average(n1,n2))"
      ],
      "metadata": {
        "id": "cZGLNaYxH3HU",
        "colab": {
          "base_uri": "https://localhost:8080/"
        },
        "outputId": "2f39442b-c479-4532-c9b1-535d11cb15a3"
      },
      "execution_count": null,
      "outputs": [
        {
          "output_type": "stream",
          "name": "stdout",
          "text": [
            "enter the first number: 7\n",
            "enter the second number: 8\n",
            "7.5\n"
          ]
        }
      ]
    },
    {
      "cell_type": "code",
      "source": [
        "## f-string: where you keep the variable data in the print statement"
      ],
      "metadata": {
        "id": "25F26tj_bi8K"
      },
      "execution_count": null,
      "outputs": []
    },
    {
      "cell_type": "code",
      "source": [
        "def name(fname,lname):\n",
        "  print(f\"my first name is {fname} and last name is {lname}\")\n",
        "\n",
        "name(\"Hello\",\"World\")"
      ],
      "metadata": {
        "colab": {
          "base_uri": "https://localhost:8080/"
        },
        "id": "e1RQqWoubi-0",
        "outputId": "e9281026-0555-46c5-ceb8-83565aade750"
      },
      "execution_count": null,
      "outputs": [
        {
          "output_type": "stream",
          "name": "stdout",
          "text": [
            "my first name is Hello and last name is World\n"
          ]
        }
      ]
    },
    {
      "cell_type": "code",
      "source": [],
      "metadata": {
        "id": "Q4AXQMNlbjB8"
      },
      "execution_count": null,
      "outputs": []
    },
    {
      "cell_type": "code",
      "source": [
        "### LECTURE_7: 26-Nov-2022\n",
        "### ~FIN~"
      ],
      "metadata": {
        "id": "8nXE1U6SSsiN"
      },
      "execution_count": null,
      "outputs": []
    },
    {
      "cell_type": "code",
      "source": [
        "@@@@@@@@@@@@@@@@@@@@@@@@@@@@@@@@@@@@@@@@@@@@@@@@@@@@@@@@@@"
      ],
      "metadata": {
        "id": "bATUfIsEbjD2"
      },
      "execution_count": null,
      "outputs": []
    },
    {
      "cell_type": "code",
      "source": [
        "### LECTURE_8: 27-Nov-2022"
      ],
      "metadata": {
        "id": "cb0M7QS6SlGW"
      },
      "execution_count": null,
      "outputs": []
    },
    {
      "cell_type": "code",
      "source": [
        "## Parameters and Arguments"
      ],
      "metadata": {
        "id": "CzOfKA0bSlQd"
      },
      "execution_count": null,
      "outputs": []
    },
    {
      "cell_type": "code",
      "source": [
        "def name(fname,lname):\n",
        "  print(f\"my first name is {fname} and last name is {lname}\")\n",
        "\n",
        "name(\"Hello\",\"World\")"
      ],
      "metadata": {
        "colab": {
          "base_uri": "https://localhost:8080/"
        },
        "id": "V6lEQOtTaLop",
        "outputId": "9f029977-573b-4535-91f6-520709952753"
      },
      "execution_count": null,
      "outputs": [
        {
          "output_type": "stream",
          "name": "stdout",
          "text": [
            "my first name is Hello and last name is World\n"
          ]
        }
      ]
    },
    {
      "cell_type": "code",
      "source": [
        "## Parameters: fname,lname\n",
        "## Arguments : \"Hello\",\"World\""
      ],
      "metadata": {
        "id": "jbJWzo3NaLrp"
      },
      "execution_count": null,
      "outputs": []
    },
    {
      "cell_type": "code",
      "source": [
        "# To Calculate the age\n",
        "def ageism(this_year,dob_year):\n",
        "  age=this_year-dob_year\n",
        "  return age\n",
        "current_age=ageism(2023,1989)\n",
        "print(current_age)"
      ],
      "metadata": {
        "colab": {
          "base_uri": "https://localhost:8080/"
        },
        "id": "7AXdlapbarrk",
        "outputId": "4ca15a51-c928-4236-c765-f74288cb8384"
      },
      "execution_count": null,
      "outputs": [
        {
          "output_type": "stream",
          "name": "stdout",
          "text": [
            "34\n"
          ]
        }
      ]
    },
    {
      "cell_type": "code",
      "source": [
        "# Full_Name\n",
        "def fullname(first_name,last_name):\n",
        "  fullname=first_name+\" \"+last_name\n",
        "  return fullname\n",
        "fullname(\"Harry\",\"Potter\")"
      ],
      "metadata": {
        "colab": {
          "base_uri": "https://localhost:8080/",
          "height": 36
        },
        "id": "7IXFSxrvbBrq",
        "outputId": "8e857206-f687-4cbb-c898-0398dd0a1f6f"
      },
      "execution_count": null,
      "outputs": [
        {
          "output_type": "execute_result",
          "data": {
            "text/plain": [
              "'Harry Potter'"
            ],
            "application/vnd.google.colaboratory.intrinsic+json": {
              "type": "string"
            }
          },
          "metadata": {},
          "execution_count": 8
        }
      ]
    },
    {
      "cell_type": "code",
      "source": [
        "### OPTIONAL PARAMETERS"
      ],
      "metadata": {
        "id": "kFc6dNoNd-eY"
      },
      "execution_count": null,
      "outputs": []
    },
    {
      "cell_type": "code",
      "source": [],
      "metadata": {
        "id": "e_TewcBId-iS"
      },
      "execution_count": null,
      "outputs": []
    },
    {
      "cell_type": "code",
      "source": [
        "## ALARM_CLOCK\n",
        "\n",
        "\n",
        "import time\n",
        "# Get the time for the alarm from the user\n",
        "alarm_time = input(\"Enter the time for the alarm in HH:MM format: \")\n",
        "\n",
        "# Convert the alarm time string to a time object\n",
        "alarm_time_obj = time.strptime(alarm_time, \"%H:%M\")\n",
        "\n",
        "while True:\n",
        "    # Get the current time\n",
        "    current_time_obj = time.localtime()\n",
        "\n",
        "    # Check if the current time matches the alarm time\n",
        "    if current_time_obj.tm_hour == alarm_time_obj.tm_hour and current_time_obj.tm_min == alarm_time_obj.tm_min:\n",
        "        #\n",
        "# If the current time matches the alarm time, play a sound\n",
        "        #winsound.Beep(440, 1000)\n",
        "        print ('Jingle Bells')\n",
        "        break\n",
        "\n",
        "    # Sleep for 1 second before checking again\n",
        "    time.sleep(1)\n"
      ],
      "metadata": {
        "id": "YVbMZSTLnTEK"
      },
      "execution_count": null,
      "outputs": []
    },
    {
      "cell_type": "code",
      "source": [
        "## BASIC_CALCULATOR\n",
        "\n",
        "\n",
        "# Examples of Arithmetic Operator\n",
        "a =int(input(\"enter the first digit: \"))\n",
        "b =int(input(\"enter the second digit: \"))\n",
        "\n",
        "# Addition of numbers\n",
        "add = a + b\n",
        "# Subtraction of numbers\n",
        "sub = a - b\n",
        "# Multiplication of number\n",
        "mul = a * b\n",
        "# Division(float) of number\n",
        "div1 = a / b\n",
        "# Division(floor) of number\n",
        "div2 = a // b\n",
        "# Modulo of both number\n",
        "mod = a % b\n",
        "\n",
        "# print results\n",
        "print(\"The Addition of the two digits is: \",add)\n",
        "print(\"The Subtraction of the two digits is: \",sub)\n",
        "print(\"The Multiplication of the two digits is: \",mul)\n",
        "print(\"The Division of the two digits is: \",div1)\n",
        "print(\"The Float_Division of the two digits is: \",div2)\n",
        "print(\"The Modulus of the two digits is: \",mod)"
      ],
      "metadata": {
        "id": "P5AQm0qEnVhO"
      },
      "execution_count": null,
      "outputs": []
    },
    {
      "cell_type": "code",
      "source": [],
      "metadata": {
        "id": "9Jj-yf0yTrmn"
      },
      "execution_count": null,
      "outputs": []
    }
  ]
}